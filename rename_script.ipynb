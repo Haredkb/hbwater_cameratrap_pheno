{
  "cells": [
    {
      "cell_type": "code",
      "execution_count": null,
      "metadata": {
        "colab": {
          "base_uri": "https://localhost:8080/"
        },
        "id": "2NQI4lFEP_i0",
        "outputId": "2e57d3be-6762-44af-a018-95153ee5db48"
      },
      "outputs": [],
      "source": [
        "! apt install tesseract-ocr\n",
        "! apt install libtesseract-dev\n",
        "! pip install pytesseract"
      ]
    },
    {
      "cell_type": "code",
      "execution_count": null,
      "metadata": {
        "id": "vr7mOMj9Uo-q"
      },
      "outputs": [],
      "source": [
        "#import packages\n",
        "import pytesseract\n",
        "import cv2\n",
        "from google.colab.patches import cv2_imshow\n",
        "import numpy as np\n",
        "import pandas as pd\n",
        "import re\n",
        "import os\n",
        "import shutil\n",
        "from google.colab import drive\n",
        "import datetime\n"
      ]
    },
    {
      "cell_type": "code",
      "execution_count": null,
      "metadata": {
        "colab": {
          "base_uri": "https://localhost:8080/"
        },
        "id": "a3cSAco9U2-m",
        "outputId": "52d155bb-456c-48e7-ca6b-af73d03020a0"
      },
      "outputs": [],
      "source": [
        "#this will connect to your Google Drive. It will ask you to allow access\n",
        "drive.mount('/content/drive', force_remount=True)"
      ]
    },
    {
      "cell_type": "code",
      "execution_count": null,
      "metadata": {
        "id": "YLJT4maluXCH"
      },
      "outputs": [],
      "source": [
        "# create a file list data frame to keep the old-name -> new-name conversions and status \n",
        "file_names_list = []"
      ]
    },
    {
      "cell_type": "code",
      "execution_count": null,
      "metadata": {
        "id": "i0jDlHSCi_8y"
      },
      "outputs": [],
      "source": [
        "def unzip_src(folder):\n",
        "  \"\"\"\n",
        "  Unzip zipped folder.\n",
        "\n",
        "  A zipped folder is taken in and unzipped.\n",
        "\n",
        "  Parameter\n",
        "  ---------\n",
        "  kind : Google Drive Folder\n",
        "    Folder containing watershed photos.\n",
        "\n",
        "  Returns\n",
        "  -------\n",
        "  new_src : new src for unzipped folder.\n",
        "  unzipped : unzipped folder.\n",
        "\n",
        "  \"\"\"\n",
        "  new_src = folder\n",
        "  unzipped = None\n",
        "\n",
        "  if folder[-4:] == '.zip':\n",
        "    src_as_zip = True\n",
        "    unzipped = folder[:-4]\n",
        "    shutil.unpack_archive(folder, unzipped)\n",
        "\n",
        "    parentZip = np.array(os.listdir(unzipped))\n",
        "    new_src = unzipped + '/' + parentZip[0]\n",
        "  \n",
        "  return new_src, unzipped\n",
        "\n",
        "\n",
        "def new_folder(src, dst = None):\n",
        "  '''\n",
        "  Create a new folder destination address for folder to be copied.\n",
        "\n",
        "  This method's parameter is the address of folder you're going to copy, address of destination parent folder\n",
        "  It will return the name of folder (to use later), full new address of copy folder \n",
        "  determines new folder address.\n",
        "\n",
        "  Parameters\n",
        "  ----------\n",
        "  src : src address for folder to be copied.\n",
        "  dst : destination address for folder to be copied.\n",
        "\n",
        "  Returns\n",
        "  -------\n",
        "  folder_name : the new folders name.\n",
        "  newAddress : the full new address of copy folder.\n",
        "  '''\n",
        "  if dst is None:\n",
        "    dst = src\n",
        "  # print(src, \"Src\")\n",
        "  src_elements = src.split('/')\n",
        "  folder_name = src_elements[-1][:2]\n",
        "  # print(folder_name, \"Folder\")\n",
        "  newAddress = dst + \"/\" + folder_name\n",
        "  return folder_name, newAddress\n",
        "\n",
        "\n",
        "def generate_picName(fdr_name, tStamp):\n",
        "  '''\n",
        "  Generate standardized picture names.\n",
        "\n",
        "  The full source address of a pciture file and its time stamp are standardized \n",
        "  to a format delineated by water shed number and time stamp. \n",
        "\n",
        "  Parameters\n",
        "  ----------\n",
        "  fdr_name : full source address of current picture file.\n",
        "  tStamp : unaltered timeStamp from bottom of the photo\n",
        "      as a string.\n",
        "\n",
        "  Returns\n",
        "  -------\n",
        "  new_name : new name of picture\n",
        "  '''\n",
        "  ws_num = fdr_name[1] #!!!this should be changed if src_elements[-2][1] will not be watershed number!!\n",
        "\n",
        "  stamp_elements = re.split('[\\n: -]', tStamp)\n",
        "  date = stamp_elements[2] + stamp_elements[0] + stamp_elements[1]\n",
        "  time = stamp_elements[3] + stamp_elements[4] + stamp_elements[5]\n",
        "\n",
        "  new_name = \"Hbwtr_w\" + ws_num + '_' + date + '_' + time + '.JPG'\n",
        "  return new_name\n",
        "\n",
        "def extract_timeStamp(pic_address):\n",
        "    '''\n",
        "    Extract time Stamp from picture file.\n",
        "\n",
        "    From the bottom right of each picture file, the time stamp is read as image using cv2. It is then converted to a string.\n",
        "    text which is then checked for format and subsequently returned through match_date_format.\n",
        "\n",
        "    Parameters\n",
        "    ----------\n",
        "    pic_address : full source address of current picture file.\n",
        "    Returns\n",
        "    -------\n",
        "    match_date_format.group(0) : unaltered timeStamp from bottom of the photo as a string.\n",
        "    '''\n",
        "    # print(pic_address)\n",
        "    img = cv2.imread(pic_address) #read as an image\n",
        "\n",
        "    # check if the timestamp is the correct format\n",
        "    date_pattern = \"\\d\\d-\\d\\d-\\d\\d\\d\\d \\d\\d:\\d\\d:\\d\\d\" # eg 12-12-2020 11:59:32\n",
        "\n",
        "    loop = 5\n",
        "    size_extension=0\n",
        "    while loop>0:\n",
        "      ts = img[2352 - size_extension:, 2000-size_extension:, :] #(change if sizing conventions change!)\n",
        "\n",
        "      text = pytesseract.image_to_string(ts)\n",
        "      match_date_format = re.search(date_pattern,text)\n",
        "      if match_date_format:\n",
        "        # found timestamp, return\n",
        "        break\n",
        "\n",
        "      size_extension+=100\n",
        "      loop-=1\n",
        "\n",
        "    if loop ==0:\n",
        "      # reached end of loop without finding correct timestamp\n",
        "      print(\"Correct timestamp not found\")\n",
        "\n",
        "    else:\n",
        "      return match_date_format.group(0)\n",
        "\n",
        "      \n",
        "\n",
        "def rename_images(picFolder, fdr_name, fdr_dst):\n",
        "\n",
        "  '''\n",
        "  Rename all files in the current folder and populate the list of old and new names.\n",
        "\n",
        "  For each picture file in the current folder, its filename is changed and its new name is generated in another method.\n",
        "  The old image is copied to its new destination.\n",
        "\n",
        "  Parameters\n",
        "  ----------\n",
        "  picFolder : a folder containing pictures.\n",
        "  fdr_name : full address of folder.\n",
        "  fdr_dst : full destination address.\n",
        "  '''\n",
        "\n",
        "  picFiles = np.array(os.listdir(picFolder))\n",
        "  # print(picFiles, len(picFiles))\n",
        "  old_folder = \"/\".join(picFolder.split(\"/\")[-3:-1])\n",
        "\n",
        "  for filename in picFiles:\n",
        "    old_name = filename\n",
        "    new_name = np.nan\n",
        "    status=\"raw\"\n",
        "    note = np.nan\n",
        "    print(\"Old filename\", filename) #just to track where you are\n",
        "    src = picFolder + '/' + filename #old img address\n",
        "    # print(src)\n",
        "    filetype = filename[-4:]\n",
        "    try:\n",
        "      if (filetype == '.JPG') or (filetype == '.jpg'):\n",
        "        tStamp = extract_timeStamp(src)\n",
        "        new_name = generate_picName(fdr_name, tStamp)\n",
        "        print(\"New filename\", new_name)\n",
        "        status = \"renamed\"\n",
        "        dst = fdr_dst + '/' + filename #new img address\n",
        "        dst_renamed = fdr_dst + '/' + new_name #img new address + name\n",
        "        shutil.copy(src, dst_renamed) #copies old image to new destination\n",
        "\n",
        "        # os.rename(src, dst) #renames file in Google Drive\n",
        "      else:\n",
        "        print(\"Not image file\")\n",
        "        status= \"error\"\n",
        "        note = \"Not image file\"\n",
        "    except:\n",
        "      print(\"Unable to process file\")\n",
        "      status = \"error\"\n",
        "      note =  \"Unable to process file\"\n",
        "    curr_list = [old_name, new_name, status, note, picFolder]\n",
        "    file_names_list.append(curr_list)\n",
        "\n"
      ]
    },
    {
      "cell_type": "code",
      "execution_count": null,
      "metadata": {
        "colab": {
          "base_uri": "https://localhost:8080/"
        },
        "collapsed": true,
        "id": "KAasc5ZoY5yA",
        "outputId": "a771f34f-a894-4d9b-a18f-d8d102ede808"
      },
      "outputs": [],
      "source": [
        "# MAIN\n",
        "\n",
        "from glob import glob\n",
        "\n",
        "#collect all folder paths from newly uploaded data on folder\n",
        "folder_list = glob(\"/content/drive/MyDrive/2_Camera Trap photos/COPY of data for script/Newly_uploaded_data/*/\", recursive = True)\n",
        "# collect all folder path from on deck folder\n",
        "folder_list.extend(glob(\"/content/drive/MyDrive/2_Camera Trap photos/COPY of data for script/On_Deck/*/\", recursive = True))\n",
        "\n",
        "# extract folder_name \n",
        "folder_list = [f[:-1] for f in folder_list]\n",
        "\n",
        "# for each folder rename and add them to the new destination - dst\n",
        "for folder in folder_list:\n",
        "  dst = \"/content/drive/MyDrive/2_Camera Trap photos/COPY of data for script/Testing destination\"\n",
        "  save_as_zip = False\n",
        "\n",
        "  #will unzip if necessary\n",
        "  folder, unzipped = unzip_src(folder)\n",
        "\n",
        "  # #create new destination folder\n",
        "  fdr_name, fdr_dst = new_folder(folder, dst)\n",
        "\n",
        "  if os.path.exists(fdr_dst):\n",
        "    print(\"path already exists\")\n",
        "  else:\n",
        "    print(\"new path\")\n",
        "    os.mkdir(fdr_dst)\n",
        "\n",
        "  rename_images(folder, fdr_name, fdr_dst)"
      ]
    },
    {
      "cell_type": "code",
      "execution_count": null,
      "metadata": {
        "colab": {
          "base_uri": "https://localhost:8080/",
          "height": 424
        },
        "id": "vWZPhWpXn-K_",
        "outputId": "f6b10471-efd1-47e0-c461-dbb3c89c8c8b"
      },
      "outputs": [],
      "source": [
        "# file_list data frame\n",
        "file_df = pd.DataFrame(file_names_list, columns = [\"old_name\", \"new_name\",\"status\", \"note\",\"old_folder\"])\n",
        "file_df"
      ]
    },
    {
      "cell_type": "code",
      "execution_count": null,
      "metadata": {
        "colab": {
          "base_uri": "https://localhost:8080/",
          "height": 457
        },
        "id": "v1Y8STBTzAA6",
        "outputId": "d9280e4b-df43-41d6-d8cd-566dcfd89337"
      },
      "outputs": [],
      "source": [
        "# files with error status\n",
        "file_df[file_df.status==\"error\"]"
      ]
    },
    {
      "cell_type": "code",
      "execution_count": null,
      "metadata": {
        "colab": {
          "base_uri": "https://localhost:8080/"
        },
        "id": "UsQ57LlCznjp",
        "outputId": "d8fbcda8-b9b1-431f-cc9c-d5b4537af6f5"
      },
      "outputs": [],
      "source": [
        "# files unable to process\n",
        "(file_df[file_df.note==\"Unable to process file\"][[\"old_folder\", \"old_name\"]]).values"
      ]
    },
    {
      "cell_type": "code",
      "execution_count": null,
      "metadata": {
        "colab": {
          "base_uri": "https://localhost:8080/",
          "height": 52
        },
        "id": "Q_kJG8JaKmwY",
        "outputId": "529880cd-3f9d-49e5-a345-9bb035303e98"
      },
      "outputs": [],
      "source": [
        "# View images not processed\n",
        "from os.path import exists\n",
        "from IPython.display import Image\n",
        "path = '/content/drive/MyDrive/2_Camera Trap photos/COPY of data for script/On_Deck/W2 GC Channel 2-5-19 thru 12-31-19/10120510.JPG'\n",
        "file_exists  = exists(path)\n",
        "print(\"file_exists:\" , file_exists)\n",
        "Image(path)"
      ]
    },
    {
      "cell_type": "code",
      "execution_count": null,
      "metadata": {
        "colab": {
          "base_uri": "https://localhost:8080/",
          "height": 52
        },
        "id": "7jMOISeT_h4_",
        "outputId": "ff4452c9-f2de-4cae-d05f-60fd1c46f65c"
      },
      "outputs": [],
      "source": [
        "path = \"/content/drive/MyDrive/2_Camera Trap photos/COPY of data for script/Newly_uploaded_data/W1 GC Channel 11-7-20  thru 5-9-21/01130140.JPG\"\n",
        "file_exists = exists(path)\n",
        "print(\"file_exists:\" , file_exists)\n",
        "Image(path)"
      ]
    }
  ],
  "metadata": {
    "colab": {
      "collapsed_sections": [],
      "name": "Untitled10.ipynb",
      "provenance": []
    },
    "kernelspec": {
      "display_name": "Python 3",
      "name": "python3"
    },
    "language_info": {
      "name": "python"
    }
  },
  "nbformat": 4,
  "nbformat_minor": 0
}
