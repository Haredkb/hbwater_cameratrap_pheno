{
  "nbformat": 4,
  "nbformat_minor": 0,
  "metadata": {
    "colab": {
      "name": "replace_images.ipynb",
      "provenance": [],
      "collapsed_sections": []
    },
    "kernelspec": {
      "name": "python3",
      "display_name": "Python 3"
    },
    "language_info": {
      "name": "python"
    }
  },
  "cells": [
    {
      "cell_type": "code",
      "source": [
        "! apt install tesseract-ocr\n",
        "! apt install libtesseract-dev\n",
        "! pip install pytesseract"
      ],
      "metadata": {
        "id": "if23gnJmqhha"
      },
      "execution_count": null,
      "outputs": []
    },
    {
      "cell_type": "code",
      "source": [
        "#import packages\n",
        "import numpy as np\n",
        "import pandas as pd\n",
        "import re\n",
        "import os\n",
        "import shutil\n",
        "from google.colab import drive\n",
        "from glob import glob\n",
        "from distutils.dir_util import copy_tree"
      ],
      "metadata": {
        "id": "16zjTsbAqjpn"
      },
      "execution_count": 22,
      "outputs": []
    },
    {
      "cell_type": "code",
      "source": [
        "#this will connect to your Google Drive. It will ask you to allow access\n",
        "drive.mount('/content/drive', force_remount=True)"
      ],
      "metadata": {
        "id": "Uyw5MwPzqjgw",
        "colab": {
          "base_uri": "https://localhost:8080/"
        },
        "outputId": "29b3a57b-9b5e-4da4-eef2-720836df1282"
      },
      "execution_count": null,
      "outputs": [
        {
          "output_type": "stream",
          "name": "stdout",
          "text": [
            "Mounted at /content/drive\n"
          ]
        }
      ]
    },
    {
      "cell_type": "code",
      "source": [
        "missing_images = [] # Contains images not copied over to the data folder in COPY..\n",
        "missing_image_folder = [] # Contains the associated folder name for each image\n",
        "missing_img_info = pd.DataFrame(missing_images, missing_image_folder, columns = [\"Image\", \"Folder\"])"
      ],
      "metadata": {
        "id": "nD5Oz8ffqmsH"
      },
      "execution_count": 23,
      "outputs": []
    },
    {
      "cell_type": "code",
      "source": [
        "def copy_files(source, copy):\n",
        "  source_file_list = os.listdir(source)\n",
        "  copy_file_list = os.listdir(copy)\n",
        "  missing_files = [i for i in source_file_list if i not in copy_file_list]\n",
        "  print(missing_files)\n",
        "  try:\n",
        "    for folder in missing_files:\n",
        "        if folder == 'desktop.ini': #1\n",
        "          shutil.copy(source + '/' + folder, copy)\n",
        "          missing_files.remove(folder)\n",
        "        elif folder == 'NOTES for Charlotte.gdoc': #2\n",
        "          missing_files.remove(folder)\n",
        "    for folder in missing_files:\n",
        "      new_dst = copy + '/' + folder\n",
        "      os.mkdir(new_dst)\n",
        "      copy_tree(source + '/' + folder, new_dst)\n",
        "  except:\n",
        "      print(\"An error occured. This is likely because you tried copying a Google file. See the text block on how to resolve this\")"
      ],
      "metadata": {
        "id": "cZhDhScl7Uz-"
      },
      "execution_count": 52,
      "outputs": []
    },
    {
      "cell_type": "markdown",
      "source": [
        "The above lines in the if statement and elif statement (labeled 1 and 2) should be updated **manually** if other unwanted files/folders which do not contain images are in the folder - these will throw an error when you try to copy them as folders or, alternatively, get copied as folders themselves which is not correct. \n",
        "\n",
        "Line #2 specifically:\n",
        "Google files (with extension .gdoc, .gsheets etc.) cannot be copied in Google colab as they are 'special.' Just download and reupload them manually instead. Then, before calling the function again, update the elif line (#2) to remove them from the list of files/folders to copy and prevent this error.\n",
        "\n",
        "More info: https://stackoverflow.com/questions/65510040/how-to-copy-a-google-file-with-colaboratory"
      ],
      "metadata": {
        "id": "4RLGEYeEQcEG"
      }
    },
    {
      "cell_type": "code",
      "source": [
        "# MAIN Method\n",
        "args = (\"/content/drive/MyDrive/Duke 2022-2023/Data+/2_Camera Trap photos/Stream Photos/On_Deck\", \"/content/drive/MyDrive/Duke 2022-2023/Data+/2_Camera Trap photos/COPY of data for script/On_Deck\")\n",
        "\n",
        "copy_files(*args)\n",
        "\n"
      ],
      "metadata": {
        "id": "d7v5Ppyfya0O",
        "colab": {
          "base_uri": "https://localhost:8080/"
        },
        "outputId": "9b691e84-0c84-45a3-e702-6767097b169e"
      },
      "execution_count": 53,
      "outputs": [
        {
          "output_type": "stream",
          "name": "stdout",
          "text": [
            "['NOTES for Charlotte.gdoc', 'W2 GC Channel 3-16-20 thru 11-6-20', 'W2 GC Channel 2-5-19 thru 12-31-19', 'W2 GC Channel 1-1-19 thru 2-4-19']\n"
          ]
        }
      ]
    }
  ]
}