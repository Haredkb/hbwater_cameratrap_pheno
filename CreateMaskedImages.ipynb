{
 "cells": [
  {
   "cell_type": "code",
   "execution_count": 2,
   "metadata": {},
   "outputs": [
    {
     "name": "stdout",
     "output_type": "stream",
     "text": [
      "C:\\Users\\Thell\\Documents\\Duke University\\Research\\_HBEF\\CameraTrapAnalysis\\hbwater_cameratrap_pheno\n"
     ]
    }
   ],
   "source": [
    "#adds in imports and changes working directory \n",
    "\n",
    "from PIL import Image\n",
    "import os \n",
    "from PIL import ImageFilter\n",
    "import imageio\n",
    "import cv2\n",
    "import skimage\n",
    "import numpy as np\n",
    "import matplotlib\n",
    "from skimage.viewer import ImageViewer\n",
    "\n",
    "#os.getcwd() #get current working directory \n",
    "#copy path: Documents/Duke University/Research/_HBEF/CameraTrapAnalysis/hbwater_cameratrap_pheno/\n",
    "%cd \"C:/Users/Thell/Documents/Duke University/Research/_HBEF/CameraTrapAnalysis/hbwater_cameratrap_pheno\""
   ]
  },
  {
   "cell_type": "code",
   "execution_count": 7,
   "metadata": {},
   "outputs": [],
   "source": [
    "#load in mask, invert mask \n",
    "ROI_name = 'W6 Channel Oct-Dec 2018_RF_0002_02.tif'\n",
    "mask = imageio.imread('data_raw/W6 Channel Oct-Dec 2018/ROI/' + ROI_name)                                                         \n",
    "\n",
    "# Change 1s to 0s and 0s to 1s\n",
    "mask = 255 - mask          \n",
    "imageio.imwrite(\"data_raw/W6 Channel Oct-Dec 2018/ROI/invertedmask_1.tif\", mask) # we may not need to save results\n",
    "mask2 = cv2.imread('data_raw/W6 Channel Oct-Dec 2018/ROI/invertedmask_1.tif',0)\n",
    "# Save result and re-load into the proper format "
   ]
  },
  {
   "cell_type": "code",
   "execution_count": 8,
   "metadata": {},
   "outputs": [
    {
     "name": "stdout",
     "output_type": "stream",
     "text": [
      "[[0 0 0 ... 0 0 0]\n",
      " [0 0 0 ... 0 0 0]\n",
      " [0 0 0 ... 0 0 0]\n",
      " ...\n",
      " [0 0 0 ... 0 0 0]\n",
      " [0 0 0 ... 0 0 0]\n",
      " [0 0 0 ... 0 0 0]]\n"
     ]
    }
   ],
   "source": [
    "print(mask2) #ensure mask worked "
   ]
  },
  {
   "cell_type": "code",
   "execution_count": 9,
   "metadata": {},
   "outputs": [
    {
     "name": "stdout",
     "output_type": "stream",
     "text": [
      "Successfully created the directory data_der/W6_channel_top2018 \n"
     ]
    }
   ],
   "source": [
    "#create folder to hold masked images \n",
    "\n",
    "ROI_id = 'W6_channel_top2018'\n",
    "path = 'data_der/' + ROI_id\n",
    "\n",
    "try:\n",
    "    os.mkdir(path)\n",
    "except OSError:\n",
    "    print (\"Creation of the directory %s failed\" % path)\n",
    "else:\n",
    "    print (\"Successfully created the directory %s \" % path)"
   ]
  },
  {
   "cell_type": "code",
   "execution_count": 10,
   "metadata": {},
   "outputs": [
    {
     "name": "stdout",
     "output_type": "stream",
     "text": [
      "data_der/W6_channel_top2018\\invert_Hbwtr_w6_20181013_120459.JPG\n",
      "data_der/W6_channel_top2018\\invert_Hbwtr_w6_20181014_120456.JPG\n",
      "data_der/W6_channel_top2018\\invert_Hbwtr_w6_20181015_115953.JPG\n",
      "data_der/W6_channel_top2018\\invert_Hbwtr_w6_20181016_120450.JPG\n",
      "data_der/W6_channel_top2018\\invert_Hbwtr_w6_20181017_115947.JPG\n",
      "data_der/W6_channel_top2018\\invert_Hbwtr_w6_20181018_120443.JPG\n",
      "data_der/W6_channel_top2018\\invert_Hbwtr_w6_20181019_115940.JPG\n",
      "data_der/W6_channel_top2018\\invert_Hbwtr_w6_20181020_115937.JPG\n",
      "data_der/W6_channel_top2018\\invert_Hbwtr_w6_20181021_115934.JPG\n",
      "data_der/W6_channel_top2018\\invert_Hbwtr_w6_20181022_115931.JPG\n",
      "data_der/W6_channel_top2018\\invert_Hbwtr_w6_20181023_115928.JPG\n",
      "data_der/W6_channel_top2018\\invert_Hbwtr_w6_20181024_120424.JPG\n",
      "data_der/W6_channel_top2018\\invert_Hbwtr_w6_20181025_115921.JPG\n",
      "data_der/W6_channel_top2018\\invert_Hbwtr_w6_20181026_115918.JPG\n",
      "data_der/W6_channel_top2018\\invert_Hbwtr_w6_20181027_120415.JPG\n",
      "data_der/W6_channel_top2018\\invert_Hbwtr_w6_20181028_115912.JPG\n",
      "data_der/W6_channel_top2018\\invert_Hbwtr_w6_20181029_115909.JPG\n",
      "data_der/W6_channel_top2018\\invert_Hbwtr_w6_20181030_120405.JPG\n",
      "data_der/W6_channel_top2018\\invert_Hbwtr_w6_20181031_115902.JPG\n",
      "data_der/W6_channel_top2018\\invert_Hbwtr_w6_20181101_115859.JPG\n",
      "data_der/W6_channel_top2018\\invert_Hbwtr_w6_20181102_115856.JPG\n",
      "data_der/W6_channel_top2018\\invert_Hbwtr_w6_20181103_115853.JPG\n",
      "data_der/W6_channel_top2018\\invert_Hbwtr_w6_20181104_115850.JPG\n",
      "data_der/W6_channel_top2018\\invert_Hbwtr_w6_20181105_115847.JPG\n",
      "data_der/W6_channel_top2018\\invert_Hbwtr_w6_20181106_115843.JPG\n",
      "data_der/W6_channel_top2018\\invert_Hbwtr_w6_20181107_115840.JPG\n",
      "data_der/W6_channel_top2018\\invert_Hbwtr_w6_20181108_115837.JPG\n",
      "data_der/W6_channel_top2018\\invert_Hbwtr_w6_20181109_115834.JPG\n",
      "data_der/W6_channel_top2018\\invert_Hbwtr_w6_20181110_120331.JPG\n",
      "data_der/W6_channel_top2018\\invert_Hbwtr_w6_20181111_115828.JPG\n",
      "data_der/W6_channel_top2018\\invert_Hbwtr_w6_20181112_115824.JPG\n",
      "data_der/W6_channel_top2018\\invert_Hbwtr_w6_20181113_115821.JPG\n",
      "data_der/W6_channel_top2018\\invert_Hbwtr_w6_20181114_115818.JPG\n",
      "data_der/W6_channel_top2018\\invert_Hbwtr_w6_20181115_120315.JPG\n",
      "data_der/W6_channel_top2018\\invert_Hbwtr_w6_20181116_115812.JPG\n",
      "data_der/W6_channel_top2018\\invert_Hbwtr_w6_20181117_120308.JPG\n",
      "data_der/W6_channel_top2018\\invert_Hbwtr_w6_20181118_120305.JPG\n",
      "data_der/W6_channel_top2018\\invert_Hbwtr_w6_20181119_115802.JPG\n",
      "data_der/W6_channel_top2018\\invert_Hbwtr_w6_20181119_120503.JPG\n",
      "data_der/W6_channel_top2018\\invert_Hbwtr_w6_20181120_120000.JPG\n",
      "data_der/W6_channel_top2018\\invert_Hbwtr_w6_20181121_115956.JPG\n",
      "data_der/W6_channel_top2018\\invert_Hbwtr_w6_20181122_115953.JPG\n",
      "data_der/W6_channel_top2018\\invert_Hbwtr_w6_20181123_115950.JPG\n",
      "data_der/W6_channel_top2018\\invert_Hbwtr_w6_20181124_115947.JPG\n",
      "data_der/W6_channel_top2018\\invert_Hbwtr_w6_20181125_115944.JPG\n",
      "data_der/W6_channel_top2018\\invert_Hbwtr_w6_20181126_115940.JPG\n",
      "data_der/W6_channel_top2018\\invert_Hbwtr_w6_20181127_115937.JPG\n",
      "data_der/W6_channel_top2018\\invert_Hbwtr_w6_20181128_115934.JPG\n",
      "data_der/W6_channel_top2018\\invert_Hbwtr_w6_20181129_115931.JPG\n",
      "data_der/W6_channel_top2018\\invert_Hbwtr_w6_20181130_115927.JPG\n",
      "data_der/W6_channel_top2018\\invert_Hbwtr_w6_20181201_115924.JPG\n",
      "data_der/W6_channel_top2018\\invert_Hbwtr_w6_20181202_115921.JPG\n",
      "data_der/W6_channel_top2018\\invert_Hbwtr_w6_20181203_115918.JPG\n",
      "data_der/W6_channel_top2018\\invert_Hbwtr_w6_20181204_115915.JPG\n",
      "data_der/W6_channel_top2018\\invert_Hbwtr_w6_20181205_115912.JPG\n",
      "data_der/W6_channel_top2018\\invert_Hbwtr_w6_20181206_120408.JPG\n",
      "data_der/W6_channel_top2018\\invert_Hbwtr_w6_20181207_115905.JPG\n",
      "data_der/W6_channel_top2018\\invert_Hbwtr_w6_20181208_115902.JPG\n",
      "data_der/W6_channel_top2018\\invert_Hbwtr_w6_20181209_120358.JPG\n",
      "data_der/W6_channel_top2018\\invert_Hbwtr_w6_20181210_115855.JPG\n",
      "data_der/W6_channel_top2018\\invert_Hbwtr_w6_20181211_115852.JPG\n",
      "data_der/W6_channel_top2018\\invert_Hbwtr_w6_20181212_115849.JPG\n",
      "data_der/W6_channel_top2018\\invert_Hbwtr_w6_20181213_115845.JPG\n",
      "data_der/W6_channel_top2018\\invert_Hbwtr_w6_20181214_115842.JPG\n",
      "data_der/W6_channel_top2018\\invert_Hbwtr_w6_20181215_115839.JPG\n",
      "data_der/W6_channel_top2018\\invert_Hbwtr_w6_20181216_115836.JPG\n",
      "data_der/W6_channel_top2018\\invert_Hbwtr_w6_20181217_115833.JPG\n",
      "data_der/W6_channel_top2018\\invert_Hbwtr_w6_20181218_115829.JPG\n",
      "data_der/W6_channel_top2018\\invert_Hbwtr_w6_20181219_115826.JPG\n",
      "data_der/W6_channel_top2018\\invert_Hbwtr_w6_20181220_115823.JPG\n",
      "data_der/W6_channel_top2018\\invert_Hbwtr_w6_20181221_115820.JPG\n",
      "data_der/W6_channel_top2018\\invert_Hbwtr_w6_20181222_115817.JPG\n",
      "data_der/W6_channel_top2018\\invert_Hbwtr_w6_20181223_115813.JPG\n",
      "data_der/W6_channel_top2018\\invert_Hbwtr_w6_20181224_115810.JPG\n",
      "data_der/W6_channel_top2018\\invert_Hbwtr_w6_20181225_115807.JPG\n",
      "data_der/W6_channel_top2018\\invert_Hbwtr_w6_20181226_115804.JPG\n",
      "data_der/W6_channel_top2018\\invert_Hbwtr_w6_20181227_115800.JPG\n",
      "data_der/W6_channel_top2018\\invert_Hbwtr_w6_20181228_120000.JPG\n",
      "data_der/W6_channel_top2018\\invert_Hbwtr_w6_20181229_115957.JPG\n",
      "data_der/W6_channel_top2018\\invert_Hbwtr_w6_20181230_120454.JPG\n",
      "data_der/W6_channel_top2018\\invert_Hbwtr_w6_20181231_115950.JPG\n"
     ]
    }
   ],
   "source": [
    "#make masked images in for-loop\n",
    "folder = \"W6 Channel Oct-Dec 2018\"\n",
    "outfolder = \"W6_channel_top2018\"\n",
    "def main(): \n",
    "    # path of the folder containing the raw images \n",
    "    inPath =\"data_raw/\" + folder\n",
    "  \n",
    "    # path of the folder that will contain the modified image \n",
    "    outPath =\"data_der/\" + outfolder\n",
    "  \n",
    "    for imagePath in [fn for fn in os.listdir(inPath)\n",
    "              if fn.endswith('.JPG')]: \n",
    "        # imagePath contains name of the image  \n",
    "        #imagePath = os.listdir(inPath)\n",
    "        inputPath = os.path.join(inPath, imagePath) \n",
    "  \n",
    "        # inputPath contains the full directory name \n",
    "        img = skimage.io.imread(inputPath)\n",
    "\n",
    "        fullOutPath = os.path.join(outPath, 'invert_'+imagePath) \n",
    "        # fullOutPath contains the path of the output \n",
    "        # image that needs to be generated \n",
    "        res = cv2.bitwise_and(img, img, mask = mask2)\n",
    "        #img.rotate(90).save(fullOutPath) \n",
    "        imageio.imwrite(fullOutPath,res)\n",
    "\n",
    "        print(fullOutPath)\n",
    "  \n",
    "        #Driver Function \n",
    "if __name__ == '__main__': \n",
    "    main() "
   ]
  }
 ],
 "metadata": {
  "kernelspec": {
   "display_name": "Python 3",
   "language": "python",
   "name": "python3"
  },
  "language_info": {
   "codemirror_mode": {
    "name": "ipython",
    "version": 3
   },
   "file_extension": ".py",
   "mimetype": "text/x-python",
   "name": "python",
   "nbconvert_exporter": "python",
   "pygments_lexer": "ipython3",
   "version": "3.8.3"
  }
 },
 "nbformat": 4,
 "nbformat_minor": 4
}
