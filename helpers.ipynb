{
  "cells": [
    {
      "cell_type": "code",
      "execution_count": null,
      "metadata": {
        "id": "if23gnJmqhha"
      },
      "outputs": [],
      "source": [
        "# Run this code before each session\n",
        "! apt install tesseract-ocr\n",
        "! apt install libtesseract-dev\n",
        "! pip install pytesseract"
      ]
    },
    {
      "cell_type": "code",
      "execution_count": null,
      "metadata": {
        "id": "16zjTsbAqjpn"
      },
      "outputs": [],
      "source": [
        "# Import packages/libraries\n",
        "import numpy as np\n",
        "import pandas as pd\n",
        "import re\n",
        "import os\n",
        "import shutil\n",
        "from google.colab import drive\n",
        "from glob import glob\n",
        "from distutils.dir_util import copy_tree"
      ]
    },
    {
      "cell_type": "code",
      "execution_count": null,
      "metadata": {
        "colab": {
          "base_uri": "https://localhost:8080/"
        },
        "id": "Uyw5MwPzqjgw",
        "outputId": "05b202ac-4bb6-430e-d9ab-edc215ca3e52"
      },
      "outputs": [],
      "source": [
        "# This will connect to your Google Drive. It will ask you to allow access\n",
        "drive.mount('/content/drive', force_remount=True)"
      ]
    },
    {
      "cell_type": "code",
      "execution_count": null,
      "metadata": {
        "id": "cZhDhScl7Uz-"
      },
      "outputs": [],
      "source": [
        "'''\n",
        "Method for copying files between folders. It will copy the contents of every subfolder\n",
        "within the specified source folder given it is NOT PRESENT in the destination. \n",
        "If there are a few additional files not in subfolders, specify those in lines 1 and 2 below for them to get copied. \n",
        "\n",
        "Parameters:\n",
        "-----------------\n",
        "source - path for the source folder from which files/folders are being copied\n",
        "copy - path for the destination folder which files are copied into\n",
        "\n",
        "Returns: \n",
        "----------------\n",
        "none \n",
        "'''\n",
        "\n",
        "def copy_files(source, copy):\n",
        "  source_file_list = os.listdir(source)\n",
        "  copy_file_list = os.listdir(copy)\n",
        "  file_list = [source_file_list, copy_file_list]\n",
        "  file_df = pd.DataFrame(file_list)\n",
        "  file_df.sort_values(1)\n",
        "  # print(file_df) # Uncomment this line if you want to see the list of folders and files in the source/copy\n",
        "\n",
        "  missing_files = [i for i in source_file_list if i not in copy_file_list]\n",
        "  if len(missing_files):\n",
        "    print(missing_files)\n",
        "  else:\n",
        "    print(\"There are no files missing from the destination\")\n",
        "  try:\n",
        "    for folder in missing_files:\n",
        "      new_dst = copy + '/' + folder\n",
        "      if os.path.isfile(folder) == True: #1 (can add ' or folder == \"Filename\" ') \n",
        "        shutil.copy(source + '/' + folder, copy)\n",
        "        missing_files.remove(folder)\n",
        "      elif folder == 'NOTES for Charlotte.gdoc': #2 Copy manually, see below\n",
        "        missing_files.remove(folder)\n",
        "      else:\n",
        "        os.mkdir(new_dst)\n",
        "        copy_tree(source + '/' + folder, new_dst)\n",
        "        missing_files.remove(folder)\n",
        "    print(\"These folders/files were not copied (ignore if list is empty): \")\n",
        "    print(missing_files)\n",
        "  except:\n",
        "      print(\"An error occured. This is likely because you tried copying a Google file. See the text block on how to resolve this\")"
      ]
    },
    {
      "cell_type": "markdown",
      "metadata": {
        "id": "4RLGEYeEQcEG"
      },
      "source": [
        "The above lines in the if statement and elif statement (labeled 1 and 2) should be updated **manually** if other files/folders which do not contain images are in the folder - these will throw an error when you try to copy them as folders or, alternatively, get copied as folders themselves which is not correct. Line #1 will copy the file, line #2 will not.\n",
        "\n",
        "Line #2 specifically:\n",
        "Google files (with extension .gdoc, .gsheets etc.) cannot be copied in Google colab as they are 'special.' Just either a) download and reupload them manually instead, or b) create a corresponding docs/sheets/slides file in the destination folder and copy-paste the contents of the source file. Then, before calling the function again, update the elif line (#2) to remove them from the list of files/folders to copy and prevent this error.\n",
        "\n",
        "More info: https://stackoverflow.com/questions/65510040/how-to-copy-a-google-file-with-colaboratory"
      ]
    },
    {
      "cell_type": "code",
      "execution_count": null,
      "metadata": {
        "id": "BJRwli1__317"
      },
      "outputs": [],
      "source": [
        "'''\n",
        "Method for copying ONE SINGULAR FOLDER which contains files rather than a folder containing\n",
        "an ensemble of subfolders. This is needed because the above method will not work in these\n",
        "cases and will instead try copying each file within the folder as a folder itself.\n",
        "\n",
        "Parameters: \n",
        "----------------\n",
        "folder_name - the name of the folder being copied\n",
        "source - path for the source folder from which files/folders are being copied\n",
        "copy - path for the destination folder which files are copied into\n",
        "\n",
        "Returns: \n",
        "----------------\n",
        "None\n",
        "\n",
        "'''\n",
        "\n",
        "def copy_one(folder_name, source, copy):\n",
        "  try:  \n",
        "    new_dst = copy + '/' + folder_name\n",
        "    os.mkdir(new_dst)\n",
        "    copy_tree(source, new_dst)\n",
        "  except:\n",
        "    print(\"Error - check if there is already a folder of that name in the specified directory\")\n"
      ]
    },
    {
      "cell_type": "code",
      "execution_count": null,
      "metadata": {
        "colab": {
          "base_uri": "https://localhost:8080/"
        },
        "id": "d7v5Ppyfya0O",
        "outputId": "76651b84-733b-4830-ce64-19d9f54e2328"
      },
      "outputs": [],
      "source": [
        "'''\n",
        "Main method\n",
        "Used to call other functions above. User should update arguments manually for their\n",
        "specific Drive path.\n",
        "\n",
        "Parameters: \n",
        "----------------\n",
        "none \n",
        "\n",
        "Returns: \n",
        "----------------\n",
        "none \n",
        "\n",
        "'''\n",
        "\n",
        "args = (\"/content/drive/MyDrive/Duke 2022-2023/Data+/2_Camera Trap photos/Stream Photos/Newly_uploaded_data/W2 GC Channel 11-7-20 thru 5-9-21\", \"/content/drive/MyDrive/Duke 2022-2023/Data+/2_Camera Trap photos/COPY of data for script/Newly_uploaded_data\")\n",
        "# copy_files(*args)\n",
        "args2 = (\"W2 GC Channel 11-7-20 thru 5-9-21\", \"/content/drive/MyDrive/Duke 2022-2023/Data+/2_Camera Trap photos/Stream Photos/Newly_uploaded_data/W2 GC Channel 11-7-20 thru 5-9-21\", \"/content/drive/MyDrive/Duke 2022-2023/Data+/2_Camera Trap photos/COPY of data for script/Newly_uploaded_data\")\n",
        "copy_one(*args2)\n",
        "\n",
        "\n"
      ]
    }
  ],
  "metadata": {
    "colab": {
      "collapsed_sections": [],
      "name": "helpers.ipynb",
      "provenance": []
    },
    "kernelspec": {
      "display_name": "Python 3",
      "name": "python3"
    },
    "language_info": {
      "name": "python"
    }
  },
  "nbformat": 4,
  "nbformat_minor": 0
}
