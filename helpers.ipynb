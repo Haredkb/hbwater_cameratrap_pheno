{
  "cells": [
    {
      "cell_type": "code",
      "execution_count": null,
      "metadata": {
        "id": "if23gnJmqhha"
      },
      "outputs": [],
      "source": [
        "# Run this code before each session\n",
        "! apt install tesseract-ocr\n",
        "! apt install libtesseract-dev\n",
        "! pip install pytesseract"
      ]
    },
    {
      "cell_type": "code",
      "execution_count": null,
      "metadata": {
        "id": "16zjTsbAqjpn"
      },
      "outputs": [],
      "source": [
        "# Import packages/libraries\n",
        "import numpy as np\n",
        "import pandas as pd\n",
        "import re\n",
        "import os\n",
        "import shutil\n",
        "from google.colab import drive\n",
        "from glob import glob"
      ]
    },
    {
      "cell_type": "code",
      "execution_count": null,
      "metadata": {
        "colab": {
          "base_uri": "https://localhost:8080/"
        },
        "id": "Uyw5MwPzqjgw",
        "outputId": "1ca33bc4-7f7d-41fa-d1ff-1f8932fbf925"
      },
      "outputs": [],
      "source": [
        "# This will connect to your Google Drive. It will ask you to allow access\n",
        "drive.mount('/content/drive', force_remount=True)"
      ]
    },
    {
      "cell_type": "code",
      "execution_count": null,
      "metadata": {
        "id": "cZhDhScl7Uz-"
      },
      "outputs": [],
      "source": [
        "'''\n",
        "Method for copying files between folders. It will copy the contents of every subfolder\n",
        "within the specified source folder given it is NOT PRESENT in the destination. \n",
        "If there are a few additional files not in subfolders, specify those in lines 1 and 2 below for them to get copied. \n",
        "\n",
        "Parameters:\n",
        "-----------------\n",
        "source\n",
        "  - path for the source folder from which files/folders are being copied\n",
        "copy \n",
        "  - path for the destination folder which files are copied into\n",
        "directory_name\n",
        "  - Name for the directory/folder which is created to store the files in the destination\n",
        "  - Is only used if the source and destination directories are wholly independent and do not share any files\n",
        "\n",
        "Returns: \n",
        "----------------\n",
        "none \n",
        "'''\n",
        "\n",
        "def copy_files(source, destination, directory_name):\n",
        "  source_file_list = os.listdir(source)\n",
        "  copy_file_list = os.listdir(destination)\n",
        "  missing_files = [i for i in source_file_list if i not in copy_file_list]\n",
        "  if len(missing_files):\n",
        "    print(missing_files)\n",
        "  else:\n",
        "    print(\"There are no files missing from the destination\")\n",
        "\n",
        "  try:\n",
        "    if missing_files == source_file_list: # Will copy entire source folder into destination when no subfolders/files are shared between the two\n",
        "      shutil.copytree(source, destination + '/' + directory_name, ignore = shutil.ignore_patterns('*.gdoc', '*.gsheet', '*.gslides')) #1\n",
        "\n",
        "    else:\n",
        "        for folder in missing_files: # Will copy all missing files/subfolders not present in the destination\n",
        "          new_dst = destination + '/' + folder\n",
        "          if os.path.isfile(folder) == False: # Copies all subfolders/subdirectories\n",
        "            shutil.copytree(source + '/' + folder, new_dst, ignore = shutil.ignore_patterns('*.gdoc', '*.gsheet', '*.gslides')) #1\n",
        "            missing_files.remove(folder)\n",
        "          else: # Copies files not contained within a subdirectory\n",
        "            shutil.copy(source + '/' + folder, destination)\n",
        "            missing_files.remove(folder) \n",
        "        print(\"These folders/files were not copied (ignore if list is empty): \")\n",
        "        print(missing_files)\n",
        "  except:\n",
        "    print(\"An error occured. Check if the directory you want to copy already exists in the destination location, or if it contains a google file/another file which cannot be copied\")\n",
        "    print(\"See the text below on how you can resolve this\")\n",
        "\n"
      ]
    },
    {
      "cell_type": "markdown",
      "metadata": {
        "id": "4RLGEYeEQcEG"
      },
      "source": [
        "The arguments of copy_tree (both labeled #1) for the copy_files method should be updated **manually** to include extensions of any files which cannot be copied using shutil.\n",
        "For instance, google files (with extension .gdoc, .gsheets etc.) cannot be copied as they are 'special.' Just either a) download and reupload them manually instead, or b) create a corresponding docs/sheets/slides file in the destination folder and copy-paste the contents of the source file. \n",
        "\n",
        "More info: https://stackoverflow.com/questions/65510040/how-to-copy-a-google-file-with-colaboratory\n",
        "\n",
        "More info about ignore and shutil: https://stackoverflow.com/questions/42487578/python-shutil-copytree-use-ignore-function-to-keep-specific-files-types \n",
        "\n",
        "------------------------------------------------------------------------------\n",
        "\n",
        "Additionally, when passing in parameters to this function, be sure that you know whether you are copying a folder with files or a folder containing subfolders, and whether or not a folder of this name already exists in the desired destination. This will help avoid errors"
      ]
    },
    {
      "cell_type": "code",
      "execution_count": null,
      "metadata": {},
      "outputs": [],
      "source": [
        "'''\n",
        "Method for counting the number of files in a directory. Useful in google drive where\n",
        "this information is not readily visible.\n",
        "\n",
        "Parameters: \n",
        "----------------\n",
        "source\n",
        "  - path for the source folder to count files from\n",
        "\n",
        "Returns: \n",
        "----------------\n",
        "none \n",
        "\n",
        "'''\n",
        "def count_files(source):\n",
        "  count = 0\n",
        "  for folder in os.listdir(source): # if the file is a folder and needs to be expanded\n",
        "    if os.path.isfile(source + '/' + folder) == False:\n",
        "      files = os.listdir(source + '/' + folder)\n",
        "      count += len(files)\n",
        "    else: # if the file is a file and can be counted directly\n",
        "      count += 1\n",
        "  print(count)\n"
      ]
    },
    {
      "cell_type": "code",
      "execution_count": null,
      "metadata": {
        "colab": {
          "base_uri": "https://localhost:8080/"
        },
        "id": "d7v5Ppyfya0O",
        "outputId": "2316fbe7-ec51-4405-c8a2-8eb8682e757c"
      },
      "outputs": [],
      "source": [
        "'''\n",
        "Main method\n",
        "Used to call other functions above. User should update arguments manually for their\n",
        "specific Drive path.\n",
        "\n",
        "Parameters: \n",
        "----------------\n",
        "none \n",
        "\n",
        "Returns: \n",
        "----------------\n",
        "none \n",
        "\n",
        "'''\n",
        "\n",
        "args = (\"/content/drive/MyDrive/Duke 2022-2023/Data+/2_Camera Trap photos/Stream Photos/On_Deck\", \"/content/drive/MyDrive/Duke 2022-2023/Data+/2_Camera Trap photos/COPY of data for script/On_Deck\", \"Newly_uploaded_data\")\n",
        "# copy_files(*args)\n",
        "# count_files('/content/drive/MyDrive/Duke 2022-2023/Data+/2_Camera Trap photos/COPY of data for script/Newly_uploaded_data')\n",
        "\n",
        "\n"
      ]
    }
  ],
  "metadata": {
    "colab": {
      "collapsed_sections": [],
      "name": "helpers.ipynb",
      "provenance": []
    },
    "interpreter": {
      "hash": "31f2aee4e71d21fbe5cf8b01ff0e069b9275f58929596ceb00d14d90e3e16cd6"
    },
    "kernelspec": {
      "display_name": "Python 3.8.9 64-bit",
      "language": "python",
      "name": "python3"
    },
    "language_info": {
      "name": "python",
      "version": "3.8.9"
    }
  },
  "nbformat": 4,
  "nbformat_minor": 0
}
