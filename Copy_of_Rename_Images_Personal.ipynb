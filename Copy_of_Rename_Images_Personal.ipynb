{
  "nbformat": 4,
  "nbformat_minor": 0,
  "metadata": {
    "colab": {
      "name": "Copy of Rename Images Personal",
      "provenance": [],
      "collapsed_sections": []
    },
    "kernelspec": {
      "name": "python3",
      "display_name": "Python 3"
    },
    "language_info": {
      "name": "python"
    }
  },
  "cells": [
    {
      "cell_type": "markdown",
      "source": [
        "# Envrionment Setup"
      ],
      "metadata": {
        "id": "O0wZswo9wpXo"
      }
    },
    {
      "cell_type": "markdown",
      "source": [
        "You'll probably need to install tesseract (by running this code) at the beginning of each Colab session. You don't need to rerun this part for every folder, if you're running multiple folders in one session. \n",
        "\n",
        "Restart the runtime after installation. You can do this by going to Runtime>Restart Runtime or pressing the button at the output dialogue."
      ],
      "metadata": {
        "id": "Ki-AqbmlxwEP"
      }
    },
    {
      "cell_type": "code",
      "source": [
        "! apt install tesseract-ocr\n",
        "! apt install libtesseract-dev\n",
        "! pip install pytesseract"
      ],
      "metadata": {
        "id": "qxyBxCRLQkgh",
        "colab": {
          "base_uri": "https://localhost:8080/",
          "height": 1000
        },
        "outputId": "3cafa268-25f9-4cf4-8f46-3095d8324690"
      },
      "execution_count": 1,
      "outputs": [
        {
          "output_type": "stream",
          "name": "stdout",
          "text": [
            "Reading package lists... Done\n",
            "Building dependency tree       \n",
            "Reading state information... Done\n",
            "The following package was automatically installed and is no longer required:\n",
            "  libnvidia-common-460\n",
            "Use 'apt autoremove' to remove it.\n",
            "The following additional packages will be installed:\n",
            "  tesseract-ocr-eng tesseract-ocr-osd\n",
            "The following NEW packages will be installed:\n",
            "  tesseract-ocr tesseract-ocr-eng tesseract-ocr-osd\n",
            "0 upgraded, 3 newly installed, 0 to remove and 42 not upgraded.\n",
            "Need to get 4,795 kB of archives.\n",
            "After this operation, 15.8 MB of additional disk space will be used.\n",
            "Get:1 http://archive.ubuntu.com/ubuntu bionic/universe amd64 tesseract-ocr-eng all 4.00~git24-0e00fe6-1.2 [1,588 kB]\n",
            "Get:2 http://archive.ubuntu.com/ubuntu bionic/universe amd64 tesseract-ocr-osd all 4.00~git24-0e00fe6-1.2 [2,989 kB]\n",
            "Get:3 http://archive.ubuntu.com/ubuntu bionic/universe amd64 tesseract-ocr amd64 4.00~git2288-10f4998a-2 [218 kB]\n",
            "Fetched 4,795 kB in 0s (14.1 MB/s)\n",
            "Selecting previously unselected package tesseract-ocr-eng.\n",
            "(Reading database ... 155629 files and directories currently installed.)\n",
            "Preparing to unpack .../tesseract-ocr-eng_4.00~git24-0e00fe6-1.2_all.deb ...\n",
            "Unpacking tesseract-ocr-eng (4.00~git24-0e00fe6-1.2) ...\n",
            "Selecting previously unselected package tesseract-ocr-osd.\n",
            "Preparing to unpack .../tesseract-ocr-osd_4.00~git24-0e00fe6-1.2_all.deb ...\n",
            "Unpacking tesseract-ocr-osd (4.00~git24-0e00fe6-1.2) ...\n",
            "Selecting previously unselected package tesseract-ocr.\n",
            "Preparing to unpack .../tesseract-ocr_4.00~git2288-10f4998a-2_amd64.deb ...\n",
            "Unpacking tesseract-ocr (4.00~git2288-10f4998a-2) ...\n",
            "Setting up tesseract-ocr-osd (4.00~git24-0e00fe6-1.2) ...\n",
            "Setting up tesseract-ocr-eng (4.00~git24-0e00fe6-1.2) ...\n",
            "Setting up tesseract-ocr (4.00~git2288-10f4998a-2) ...\n",
            "Processing triggers for man-db (2.8.3-2ubuntu0.1) ...\n",
            "Reading package lists... Done\n",
            "Building dependency tree       \n",
            "Reading state information... Done\n",
            "The following package was automatically installed and is no longer required:\n",
            "  libnvidia-common-460\n",
            "Use 'apt autoremove' to remove it.\n",
            "The following additional packages will be installed:\n",
            "  libleptonica-dev\n",
            "The following NEW packages will be installed:\n",
            "  libleptonica-dev libtesseract-dev\n",
            "0 upgraded, 2 newly installed, 0 to remove and 42 not upgraded.\n",
            "Need to get 2,755 kB of archives.\n",
            "After this operation, 13.8 MB of additional disk space will be used.\n",
            "Get:1 http://archive.ubuntu.com/ubuntu bionic/universe amd64 libleptonica-dev amd64 1.75.3-3 [1,308 kB]\n",
            "Get:2 http://archive.ubuntu.com/ubuntu bionic/universe amd64 libtesseract-dev amd64 4.00~git2288-10f4998a-2 [1,447 kB]\n",
            "Fetched 2,755 kB in 0s (18.7 MB/s)\n",
            "Selecting previously unselected package libleptonica-dev.\n",
            "(Reading database ... 155676 files and directories currently installed.)\n",
            "Preparing to unpack .../libleptonica-dev_1.75.3-3_amd64.deb ...\n",
            "Unpacking libleptonica-dev (1.75.3-3) ...\n",
            "Selecting previously unselected package libtesseract-dev.\n",
            "Preparing to unpack .../libtesseract-dev_4.00~git2288-10f4998a-2_amd64.deb ...\n",
            "Unpacking libtesseract-dev (4.00~git2288-10f4998a-2) ...\n",
            "Setting up libleptonica-dev (1.75.3-3) ...\n",
            "Setting up libtesseract-dev (4.00~git2288-10f4998a-2) ...\n",
            "Looking in indexes: https://pypi.org/simple, https://us-python.pkg.dev/colab-wheels/public/simple/\n",
            "Collecting pytesseract\n",
            "  Downloading pytesseract-0.3.9-py2.py3-none-any.whl (14 kB)\n",
            "Collecting Pillow>=8.0.0\n",
            "  Downloading Pillow-9.1.1-cp37-cp37m-manylinux_2_17_x86_64.manylinux2014_x86_64.whl (3.1 MB)\n",
            "\u001b[K     |████████████████████████████████| 3.1 MB 31.0 MB/s \n",
            "\u001b[?25hRequirement already satisfied: packaging>=21.3 in /usr/local/lib/python3.7/dist-packages (from pytesseract) (21.3)\n",
            "Requirement already satisfied: pyparsing!=3.0.5,>=2.0.2 in /usr/local/lib/python3.7/dist-packages (from packaging>=21.3->pytesseract) (3.0.9)\n",
            "Installing collected packages: Pillow, pytesseract\n",
            "  Attempting uninstall: Pillow\n",
            "    Found existing installation: Pillow 7.1.2\n",
            "    Uninstalling Pillow-7.1.2:\n",
            "      Successfully uninstalled Pillow-7.1.2\n",
            "\u001b[31mERROR: pip's dependency resolver does not currently take into account all the packages that are installed. This behaviour is the source of the following dependency conflicts.\n",
            "albumentations 0.1.12 requires imgaug<0.2.7,>=0.2.5, but you have imgaug 0.2.9 which is incompatible.\u001b[0m\n",
            "Successfully installed Pillow-9.1.1 pytesseract-0.3.9\n"
          ]
        },
        {
          "output_type": "display_data",
          "data": {
            "application/vnd.colab-display-data+json": {
              "pip_warning": {
                "packages": [
                  "PIL"
                ]
              }
            }
          },
          "metadata": {}
        }
      ]
    },
    {
      "cell_type": "markdown",
      "source": [
        "# Import Packages and Define Functions"
      ],
      "metadata": {
        "id": "KaUzCy4lwumS"
      }
    },
    {
      "cell_type": "code",
      "source": [
        "#import packages\n",
        "import pytesseract\n",
        "import cv2\n",
        "from google.colab.patches import cv2_imshow\n",
        "import numpy as np\n",
        "import re\n",
        "import os\n",
        "import shutil\n",
        "from google.colab import drive"
      ],
      "metadata": {
        "id": "h_hJfp43QLVf"
      },
      "execution_count": 1,
      "outputs": []
    },
    {
      "cell_type": "code",
      "source": [
        "#Param: full source address of current picture file\n",
        "#Returns: unaltered timeStamp from bottom of the photo (as a string)\n",
        "def extract_timeStamp(pic_address):\n",
        "    img = cv2.imread(pic_address) #read as an image\n",
        "    ts = img[2352:, 2000:, :] #(change if sizing conventions change!)\n",
        "    text = pytesseract.image_to_string(ts)\n",
        "    return text"
      ],
      "metadata": {
        "id": "nUHbolFyuLjS"
      },
      "execution_count": 2,
      "outputs": []
    },
    {
      "cell_type": "markdown",
      "source": [
        "Note: The generate_picName function requires the folder to start with W# to get the watershed number! If this is not the case, update the ws_num variable manually."
      ],
      "metadata": {
        "id": "HRKBHAGiyU4x"
      }
    },
    {
      "cell_type": "code",
      "source": [
        "#Param: full source address of current picture file, unaltered timeStamp from bottom of the photo (as a string)\n",
        "#Returns: new name of picture\n",
        "\n",
        "def generate_picName(fdr_name, tStamp):\n",
        "  ws_num = fdr_name[1] #!!!this should be changed if src_elements[-2][1] will not be watershed number!!\n",
        "\n",
        "  stamp_elements = re.split('[\\n: -]', tStamp)\n",
        "  date = stamp_elements[2] + stamp_elements[0] + stamp_elements[1]\n",
        "  time = stamp_elements[3] + stamp_elements[4] + stamp_elements[5]\n",
        "\n",
        "  new_name = \"Hbwtr_w\" + ws_num + '_' + date + '_' + time + '.JPG'\n",
        "  return new_name"
      ],
      "metadata": {
        "id": "4E3b3-vwqRox"
      },
      "execution_count": 3,
      "outputs": []
    },
    {
      "cell_type": "code",
      "source": [
        "#Param: address of folder you're going to copy, address of destination parent folder\n",
        "#Returns: name of folder (to use later), full new address of copy folder \n",
        "#determines new folder address\n",
        "\n",
        "def new_folder(src, dst = None):\n",
        "  if dst is None:\n",
        "    dst = src\n",
        "\n",
        "  src_elements = src.split('/')\n",
        "  folder_name = src_elements[-1]\n",
        "  newAddress = dst + \"/\" + folder_name\n",
        "  return folder_name, newAddress"
      ],
      "metadata": {
        "id": "YKhYhQA9x8A_"
      },
      "execution_count": 4,
      "outputs": []
    },
    {
      "cell_type": "code",
      "source": [
        "#Param: address of folder\n",
        "#No return variable\n",
        "#Renames all files in the current folder\n",
        "\n",
        "def rename_images(picFolder, fdr_name, fdr_dst):\n",
        "  picFiles = np.array(os.listdir(picFolder))\n",
        "  \n",
        "  for filename in picFiles:\n",
        "    print(filename) #just to track where you are\n",
        "    src = picFolder + '/' + filename #old img address\n",
        "    filetype = filename[-4:]\n",
        "\n",
        "    if (filetype == '.JPG') or (filetype == '.jpg'):\n",
        "      tStamp = extract_timeStamp(src)\n",
        "      new_name = generate_picName(fdr_name, tStamp)\n",
        "\n",
        "      dst = fdr_dst + '/' + filename #new img address\n",
        "      dst_renamed = fdr_dst + '/' + new_name #img new address + name\n",
        "\n",
        "      shutil.copy(src, dst_renamed) #copies old image to new destination\n",
        "      #os.rename(src, dst) #renames file in Google Drive"
      ],
      "metadata": {
        "id": "Z7ixTniiQUgu"
      },
      "execution_count": 5,
      "outputs": []
    },
    {
      "cell_type": "code",
      "source": [
        ""
      ],
      "metadata": {
        "id": "aPj72a_GPLzy"
      },
      "execution_count": null,
      "outputs": []
    },
    {
      "cell_type": "code",
      "source": [
        "def unzip_src(folder):\n",
        "  new_src = folder\n",
        "  unzipped = None\n",
        "\n",
        "  if folder[-4:] == '.zip':\n",
        "    src_as_zip = True\n",
        "    unzipped = folder[:-4]\n",
        "    shutil.unpack_archive(folder, unzipped)\n",
        "\n",
        "    parentZip = np.array(os.listdir(unzipped))\n",
        "    new_src = unzipped + '/' + parentZip[0]\n",
        "  \n",
        "  return new_src, unzipped"
      ],
      "metadata": {
        "id": "GeJaQ2VKsMBy"
      },
      "execution_count": 6,
      "outputs": []
    },
    {
      "cell_type": "markdown",
      "source": [
        "# Main Code"
      ],
      "metadata": {
        "id": "pWw-fG0cwhux"
      }
    },
    {
      "cell_type": "code",
      "execution_count": 7,
      "metadata": {
        "colab": {
          "base_uri": "https://localhost:8080/"
        },
        "id": "lJvbPny2OK1O",
        "outputId": "fa9bee23-af1b-4566-d373-6680877ae552"
      },
      "outputs": [
        {
          "output_type": "stream",
          "name": "stdout",
          "text": [
            "Mounted at /content/drive\n"
          ]
        }
      ],
      "source": [
        "#this will connect to your Google Drive. It will ask you to allow access\n",
        "drive.mount('/content/drive', force_remount=True)"
      ]
    },
    {
      "cell_type": "markdown",
      "source": [
        "Change the `folder` variable to match address of folder in your personal GoogleDrive. All addresses will start with /content/drive and should NOT end with a backslash.\n",
        "\n",
        "You should not have to change the `dst` address now that we are copying the whole folder.\n",
        "\n",
        "\n",
        "Additionally, set the boolean `save_as_zip` to True if you want the new folder to be saved as a zip file, and False otherwise. Right now, if set to True, it will create both a zipped and unzipped folder of the  renamed files in your drive, but I can change it to only keep the zipped folder if that's preferred (code would only change by 1 line).\n",
        "\n",
        "The code will deal with it automatically if the source folder is a zip file, so don't worry about that."
      ],
      "metadata": {
        "id": "5SxLDjfmhYur"
      }
    },
    {
      "cell_type": "code",
      "source": [
        "folder = \"/content/drive/My Drive/2_Camera Trap Photos /COPY of data for script /On_Deck /W2 GC Channel 3-16-20 thru 11-6-20\"\n",
        "dst = \"/content/drive/My Drive/2_Camera Trap Photos /COPY of data for script /Testing destination /W2\"\n",
        "save_as_zip = False\n",
        "\n",
        "#will unzip if necessary\n",
        "folder, unzipped = unzip_src(folder)\n",
        "\n",
        "#create new destination folder\n",
        "fdr_name, fdr_dst = new_folder(folder, dst)\n",
        "if os.path.exists(fdr_dst):\n",
        "  print(\"path already exists\")\n",
        "else:\n",
        "  print(\"new path\")\n",
        "  os.mkdir(fdr_dst)"
      ],
      "metadata": {
        "id": "B0RL5EqdJetm",
        "colab": {
          "base_uri": "https://localhost:8080/",
          "height": 356
        },
        "outputId": "13d63dda-0ca1-4d10-9899-1baa9f1122ee"
      },
      "execution_count": 15,
      "outputs": [
        {
          "output_type": "stream",
          "name": "stdout",
          "text": [
            "new path\n"
          ]
        },
        {
          "output_type": "error",
          "ename": "FileNotFoundError",
          "evalue": "ignored",
          "traceback": [
            "\u001b[0;31m---------------------------------------------------------------------------\u001b[0m",
            "\u001b[0;31mFileNotFoundError\u001b[0m                         Traceback (most recent call last)",
            "\u001b[0;32m<ipython-input-15-b325755418cc>\u001b[0m in \u001b[0;36m<module>\u001b[0;34m()\u001b[0m\n\u001b[1;32m     12\u001b[0m \u001b[0;32melse\u001b[0m\u001b[0;34m:\u001b[0m\u001b[0;34m\u001b[0m\u001b[0;34m\u001b[0m\u001b[0m\n\u001b[1;32m     13\u001b[0m   \u001b[0mprint\u001b[0m\u001b[0;34m(\u001b[0m\u001b[0;34m\"new path\"\u001b[0m\u001b[0;34m)\u001b[0m\u001b[0;34m\u001b[0m\u001b[0;34m\u001b[0m\u001b[0m\n\u001b[0;32m---> 14\u001b[0;31m   \u001b[0mos\u001b[0m\u001b[0;34m.\u001b[0m\u001b[0mmkdir\u001b[0m\u001b[0;34m(\u001b[0m\u001b[0mfdr_dst\u001b[0m\u001b[0;34m)\u001b[0m\u001b[0;34m\u001b[0m\u001b[0;34m\u001b[0m\u001b[0m\n\u001b[0m",
            "\u001b[0;31mFileNotFoundError\u001b[0m: [Errno 2] No such file or directory: '/content/drive/My Drive/2_Camera Trap Photos /COPY of data for script /Testing destination /W2/W2 GC Channel 3-16-20 thru 11-6-20'"
          ]
        }
      ]
    },
    {
      "cell_type": "code",
      "source": [
        "#copy all images in folder and rename\n",
        "rename_images(folder, fdr_name, fdr_dst)"
      ],
      "metadata": {
        "id": "lTTLyVs3rFKS"
      },
      "execution_count": null,
      "outputs": []
    },
    {
      "cell_type": "code",
      "source": [
        "if save_as_zip:\n",
        "  shutil.make_archive(fdr_dst, 'zip', fdr_dst)"
      ],
      "metadata": {
        "id": "8JlrFIMi81VB"
      },
      "execution_count": null,
      "outputs": []
    },
    {
      "cell_type": "code",
      "source": [
        "#clean up contents from unzipping\n",
        "if unzipped:\n",
        "  shutil.rmtree(unzipped)\n",
        "\n",
        "#saves all changes to your Google Drive\n",
        "drive.flush_and_unmount()\n",
        "print('All changes made in this colab session should now be visible in Drive.')"
      ],
      "metadata": {
        "id": "I-McEZ2iPYyZ"
      },
      "execution_count": null,
      "outputs": []
    }
  ]
}