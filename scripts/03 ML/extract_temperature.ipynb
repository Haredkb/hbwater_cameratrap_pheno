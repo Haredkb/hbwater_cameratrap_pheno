{
 "cells": [
  {
   "cell_type": "code",
   "execution_count": null,
   "metadata": {},
   "outputs": [],
   "source": [
    "! pip install tesseract\n",
    "! pip install tesseract-ocr\n",
    "! pip install libtesseract-dev\n",
    "! pip install pytesseract"
   ]
  },
  {
   "cell_type": "code",
   "execution_count": 10,
   "metadata": {},
   "outputs": [],
   "source": [
    "#import packages\n",
    "import pytesseract\n",
    "#Set tesseract location\n",
    "pytesseract.pytesseract.tesseract_cmd = r'C:\\Users\\hecon\\Documents\\New Folder (2)\\Tesseract-OCR\\tesseract.exe'\n",
    "\n",
    "import cv2\n",
    "import numpy as np\n",
    "import pandas as pd\n",
    "import re"
   ]
  },
  {
   "cell_type": "code",
   "execution_count": 11,
   "metadata": {},
   "outputs": [],
   "source": [
    "def extract_temperature(pic_address):\n",
    "    '''\n",
    "    Extract temperature from picture file.\n",
    "\n",
    "    From the middle of each picture file, the time stamp is read as image using cv2. It is then converted to a string.\n",
    "    text which is then checked for format and subsequently returned through temp_format.\n",
    "\n",
    "    Parameters\n",
    "    ----------\n",
    "    pic_address : full source address of current picture file.\n",
    "    Returns\n",
    "    -------\n",
    "    temp_format.group(0) : unaltered temperature from bottom of the photo as a string.\n",
    "    '''\n",
    "    # print(pic_\n",
    "\n",
    "    img = cv2.imread(pic_address) #read as an image\n",
    "\n",
    "    # check if the timestamp is the correct format\n",
    "    temp_pattern = \"\\d\\dF\" # eg 37F3C or 30F-1C\n",
    "\n",
    "    loop = 5\n",
    "    size_extension=0\n",
    "    x,y,z = np.shape(img)\n",
    "    x = (x//1000)*1000\n",
    "\n",
    "    y = (y//1000)*1000\n",
    "    # print(x,y,z)\n",
    "    while loop>0:\n",
    "      ts = img[2400 - size_extension:, 1490-size_extension:, :] #(change if sizing conventions change!)\n",
    "      text = pytesseract.image_to_string(ts)\n",
    "      temp_format = re.search(temp_pattern,text)\n",
    "      if temp_format:\n",
    "        # found temperature, return\n",
    "        break\n",
    "      ts_2 = img[2430 - size_extension:, 1565-size_extension:, :] #(change if sizing conventions change!)\n",
    "      text_2= pytesseract.image_to_string(ts_2)\n",
    "      temp_format = re.search(temp_pattern,text_2)\n",
    "      if temp_format:\n",
    "        # found temperature, return\n",
    "        break\n",
    "      size_extension+=50\n",
    "      loop-=1\n",
    "\n",
    "    if loop ==0:      \n",
    "      # reached end of loop without finding correct timestamp\n",
    "      print(\"Correct temperature not found\")\n",
    "\n",
    "    else:\n",
    "      return temp_format.group(0)\n"
   ]
  },
  {
   "cell_type": "code",
   "execution_count": null,
   "metadata": {},
   "outputs": [],
   "source": [
    "# MAIN\n",
    "\n",
    "from glob import glob\n",
    "\n",
    "#collect all folder paths from newly uploaded data on folder\n",
    "folder_list = glob(r\"C:\\Users\\Downloads\\W3_1-1-20 thru 3-5-20\\W3 GC Channel 1-1-20 thru 3-5-20/*.JPG\", recursive = True)\n",
    "# extract folder_name \n",
    "i = 0\n",
    "file_df = pd.read_csv(r\"C:\\Users\\ML_stage\\hbwater_cameratrap_pheno\\scripts\\sandbox\\ML\\example_data\\hbwater_w3_bottom_1_1_20-3_5_20_csv.csv\")\n",
    "temp_list = []\n",
    "for image in folder_list:\n",
    "    temp_list.append(extract_temperature(image))\n",
    "\n",
    "\n"
   ]
  },
  {
   "cell_type": "code",
   "execution_count": null,
   "metadata": {},
   "outputs": [],
   "source": [
    "none_empty_list = list(filter(None, temp_list))\n",
    "len(none_empty_list)\n",
    "len(none_empty_list)/len(temp_list)\n"
   ]
  }
 ],
 "metadata": {
  "kernelspec": {
   "display_name": "Python 3.10.5 64-bit",
   "language": "python",
   "name": "python3"
  },
  "language_info": {
   "codemirror_mode": {
    "name": "ipython",
    "version": 3
   },
   "file_extension": ".py",
   "mimetype": "text/x-python",
   "name": "python",
   "nbconvert_exporter": "python",
   "pygments_lexer": "ipython3",
   "version": "3.10.5"
  },
  "orig_nbformat": 4,
  "vscode": {
   "interpreter": {
    "hash": "4defc799f3799d5092fbd9e6719296554c424b72c3dcca37fd71d5dafe2405ae"
   }
  }
 },
 "nbformat": 4,
 "nbformat_minor": 2
}
