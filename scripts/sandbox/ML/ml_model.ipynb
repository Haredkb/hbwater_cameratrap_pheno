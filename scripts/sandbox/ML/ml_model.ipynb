{
 "cells": [
  {
   "cell_type": "code",
   "execution_count": 1,
   "id": "2057eb0b-d6c0-41d4-948d-5aa5625d6c07",
   "metadata": {},
   "outputs": [],
   "source": [
    "import pandas as pd\n",
    "import matplotlib.pyplot as plt\n",
    "import numpy as np\n",
    "import seaborn as sns\n",
    "from sklearn.model_selection import train_test_split, RandomizedSearchCV,GridSearchCV\n",
    "from sklearn.ensemble import RandomForestClassifier\n",
    "from sklearn.metrics import classification_report,confusion_matrix, accuracy_score\n",
    "from sklearn.metrics import ConfusionMatrixDisplay\n",
    "import os\n"
   ]
  },
  {
   "cell_type": "markdown",
   "id": "a2fa50f5-b9d2-4d40-a740-e27cb170428b",
   "metadata": {
    "tags": []
   },
   "source": [
    "## Merging Data"
   ]
  },
  {
   "cell_type": "code",
   "execution_count": 2,
   "id": "83c4febf-7b55-42d6-94cd-dbc44e78cb3e",
   "metadata": {},
   "outputs": [
    {
     "name": "stderr",
     "output_type": "stream",
     "text": [
      "C:\\Users\\Dell\\AppData\\Local\\Temp\\ipykernel_6480\\3833984767.py:2: DtypeWarning: Columns (9) have mixed types. Specify dtype option on import or set low_memory=False.\n",
      "  w_6_1= pd.read_csv(r\"C:\\Users\\Dell\\Downloads\\water_project\\pixels_df_2.csv\")\n",
      "C:\\Users\\Dell\\AppData\\Local\\Temp\\ipykernel_6480\\3833984767.py:3: DtypeWarning: Columns (9) have mixed types. Specify dtype option on import or set low_memory=False.\n",
      "  w_6_2 = pd.read_csv(r\"C:\\Users\\Dell\\Downloads\\water_project\\pixels_df_3.csv\")\n"
     ]
    }
   ],
   "source": [
    "w_3 = pd.read_csv(r\"C:\\Users\\Dell\\Downloads\\water_project\\pixels_df_1.csv\")\n",
    "w_6_1= pd.read_csv(r\"C:\\Users\\Dell\\Downloads\\water_project\\pixels_df_2.csv\")\n",
    "w_6_2 = pd.read_csv(r\"C:\\Users\\Dell\\Downloads\\water_project\\pixels_df_3.csv\")"
   ]
  },
  {
   "cell_type": "code",
   "execution_count": 3,
   "id": "05a87971-2d6d-4c14-b36b-086f8fb87525",
   "metadata": {},
   "outputs": [],
   "source": [
    "w_6_orig = pd.concat([w_6_1, w_6_2])\n",
    "w_6 = w_6_orig.copy()\n",
    "w_3_orig = w_3.copy()\n"
   ]
  },
  {
   "cell_type": "code",
   "execution_count": 4,
   "id": "3616e164",
   "metadata": {},
   "outputs": [
    {
     "data": {
      "text/html": [
       "<div>\n",
       "<style scoped>\n",
       "    .dataframe tbody tr th:only-of-type {\n",
       "        vertical-align: middle;\n",
       "    }\n",
       "\n",
       "    .dataframe tbody tr th {\n",
       "        vertical-align: top;\n",
       "    }\n",
       "\n",
       "    .dataframe thead th {\n",
       "        text-align: right;\n",
       "    }\n",
       "</style>\n",
       "<table border=\"1\" class=\"dataframe\">\n",
       "  <thead>\n",
       "    <tr style=\"text-align: right;\">\n",
       "      <th></th>\n",
       "      <th>x</th>\n",
       "      <th>y</th>\n",
       "      <th>R</th>\n",
       "      <th>G</th>\n",
       "      <th>B</th>\n",
       "      <th>date</th>\n",
       "      <th>time</th>\n",
       "      <th>orig_name</th>\n",
       "      <th>watershed</th>\n",
       "      <th>temperature</th>\n",
       "      <th>class</th>\n",
       "    </tr>\n",
       "  </thead>\n",
       "  <tbody>\n",
       "    <tr>\n",
       "      <th>0</th>\n",
       "      <td>1403</td>\n",
       "      <td>1265</td>\n",
       "      <td>192</td>\n",
       "      <td>177</td>\n",
       "      <td>218</td>\n",
       "      <td>01/01/2019</td>\n",
       "      <td>11:59:47</td>\n",
       "      <td>Hbwtr_w6_20190101_115947.JPG</td>\n",
       "      <td>w6</td>\n",
       "      <td>35F</td>\n",
       "      <td>snow_o</td>\n",
       "    </tr>\n",
       "    <tr>\n",
       "      <th>1</th>\n",
       "      <td>1403</td>\n",
       "      <td>1266</td>\n",
       "      <td>192</td>\n",
       "      <td>177</td>\n",
       "      <td>218</td>\n",
       "      <td>01/01/2019</td>\n",
       "      <td>11:59:47</td>\n",
       "      <td>Hbwtr_w6_20190101_115947.JPG</td>\n",
       "      <td>w6</td>\n",
       "      <td>35F</td>\n",
       "      <td>snow_o</td>\n",
       "    </tr>\n",
       "    <tr>\n",
       "      <th>2</th>\n",
       "      <td>1403</td>\n",
       "      <td>1267</td>\n",
       "      <td>192</td>\n",
       "      <td>177</td>\n",
       "      <td>218</td>\n",
       "      <td>01/01/2019</td>\n",
       "      <td>11:59:47</td>\n",
       "      <td>Hbwtr_w6_20190101_115947.JPG</td>\n",
       "      <td>w6</td>\n",
       "      <td>35F</td>\n",
       "      <td>snow_o</td>\n",
       "    </tr>\n",
       "    <tr>\n",
       "      <th>3</th>\n",
       "      <td>1403</td>\n",
       "      <td>1268</td>\n",
       "      <td>190</td>\n",
       "      <td>178</td>\n",
       "      <td>218</td>\n",
       "      <td>01/01/2019</td>\n",
       "      <td>11:59:47</td>\n",
       "      <td>Hbwtr_w6_20190101_115947.JPG</td>\n",
       "      <td>w6</td>\n",
       "      <td>35F</td>\n",
       "      <td>snow_o</td>\n",
       "    </tr>\n",
       "    <tr>\n",
       "      <th>4</th>\n",
       "      <td>1403</td>\n",
       "      <td>1269</td>\n",
       "      <td>190</td>\n",
       "      <td>178</td>\n",
       "      <td>218</td>\n",
       "      <td>01/01/2019</td>\n",
       "      <td>11:59:47</td>\n",
       "      <td>Hbwtr_w6_20190101_115947.JPG</td>\n",
       "      <td>w6</td>\n",
       "      <td>35F</td>\n",
       "      <td>snow_o</td>\n",
       "    </tr>\n",
       "  </tbody>\n",
       "</table>\n",
       "</div>"
      ],
      "text/plain": [
       "      x     y    R    G    B        date      time  \\\n",
       "0  1403  1265  192  177  218  01/01/2019  11:59:47   \n",
       "1  1403  1266  192  177  218  01/01/2019  11:59:47   \n",
       "2  1403  1267  192  177  218  01/01/2019  11:59:47   \n",
       "3  1403  1268  190  178  218  01/01/2019  11:59:47   \n",
       "4  1403  1269  190  178  218  01/01/2019  11:59:47   \n",
       "\n",
       "                      orig_name watershed temperature   class  \n",
       "0  Hbwtr_w6_20190101_115947.JPG        w6         35F  snow_o  \n",
       "1  Hbwtr_w6_20190101_115947.JPG        w6         35F  snow_o  \n",
       "2  Hbwtr_w6_20190101_115947.JPG        w6         35F  snow_o  \n",
       "3  Hbwtr_w6_20190101_115947.JPG        w6         35F  snow_o  \n",
       "4  Hbwtr_w6_20190101_115947.JPG        w6         35F  snow_o  "
      ]
     },
     "execution_count": 4,
     "metadata": {},
     "output_type": "execute_result"
    }
   ],
   "source": [
    "w_6.head()"
   ]
  },
  {
   "cell_type": "code",
   "execution_count": 5,
   "id": "10663e03-9027-4e47-82dd-5f9bf77dcdd3",
   "metadata": {},
   "outputs": [],
   "source": [
    "def wrangle_data(df):\n",
    "    # remove duplicate RGB\n",
    "    df = df.drop_duplicates()\n",
    "    df[\"date\"] = pd.to_datetime(df[\"date\"])\n",
    "    df[\"temperature\"] = df.temperature.apply(lambda a: float(a[:-1]) if type(a) != float else np.nan)\n",
    "    return df\n",
    "\n",
    "def pick_samples(df):\n",
    "    sampled_df = df.head(1)\n",
    "    max_class_size = 100\n",
    "    for date in df.orig_name.unique():\n",
    "        date_grouped = df[df.orig_name==date]\n",
    "        nth = len(date_grouped)//max_class_size\n",
    "        if nth==0:\n",
    "            sampled_df = pd.concat([sampled_df,date_grouped])\n",
    "        else:\n",
    "            curr_group = date_grouped.iloc[::nth,:]\n",
    "            sampled_df = pd.concat([sampled_df,curr_group])\n",
    "    return sampled_df\n",
    "def split_fit_basic_report(df):\n",
    "    X = df.drop('class',axis=1)\n",
    "    y = df['class'] \n",
    "    X_train, X_test, y_train, y_test = train_test_split(X, y, test_size=0.30, random_state=1, stratify=y)\n",
    "    rfc = RandomForestClassifier(random_state = 1)\n",
    "    rfc.fit(X_train, y_train)\n",
    "    # predict on test data\n",
    "    rfc_pred = rfc.predict(X_test)\n",
    "    print(classification_report(y_test,rfc_pred))\n",
    "    feature_val = pd.DataFrame(rfc.feature_importances_, index = X_train.columns)\n",
    "    print(feature_val.sort_values(0, ascending=False))\n",
    "    return rfc, rfc_pred,feature_val,  X_train, X_test, y_train, y_test\n",
    "\n",
    "def plot_cm(y_test, rfc_pred):\n",
    "    p,ax = plt.subplots(figsize=(18, 10))\n",
    "\n",
    "    ConfusionMatrixDisplay.from_predictions(y_test, rfc_pred, ax=ax, colorbar=True)\n",
    "    plt.show()\n"
   ]
  },
  {
   "cell_type": "code",
   "execution_count": 6,
   "id": "e86ff8dd-31ba-44e4-b2fc-4dedcd022ec5",
   "metadata": {},
   "outputs": [
    {
     "name": "stderr",
     "output_type": "stream",
     "text": [
      "C:\\Users\\Dell\\AppData\\Local\\Temp\\ipykernel_11732\\1587573484.py:4: SettingWithCopyWarning: \n",
      "A value is trying to be set on a copy of a slice from a DataFrame.\n",
      "Try using .loc[row_indexer,col_indexer] = value instead\n",
      "\n",
      "See the caveats in the documentation: https://pandas.pydata.org/pandas-docs/stable/user_guide/indexing.html#returning-a-view-versus-a-copy\n",
      "  df[\"date\"] = pd.to_datetime(df[\"date\"])\n",
      "C:\\Users\\Dell\\AppData\\Local\\Temp\\ipykernel_11732\\1587573484.py:5: SettingWithCopyWarning: \n",
      "A value is trying to be set on a copy of a slice from a DataFrame.\n",
      "Try using .loc[row_indexer,col_indexer] = value instead\n",
      "\n",
      "See the caveats in the documentation: https://pandas.pydata.org/pandas-docs/stable/user_guide/indexing.html#returning-a-view-versus-a-copy\n",
      "  df[\"temperature\"] = df.temperature.apply(lambda a: float(a[:-1]) if type(a) != float else np.nan)\n"
     ]
    }
   ],
   "source": [
    "w_6 = wrangle_data(w_6)\n",
    "w_3 = wrangle_data(w_3)"
   ]
  },
  {
   "cell_type": "code",
   "execution_count": 8,
   "id": "d6039630-ae06-4a93-a782-71e991928cfb",
   "metadata": {},
   "outputs": [
    {
     "data": {
      "text/html": [
       "<div>\n",
       "<style scoped>\n",
       "    .dataframe tbody tr th:only-of-type {\n",
       "        vertical-align: middle;\n",
       "    }\n",
       "\n",
       "    .dataframe tbody tr th {\n",
       "        vertical-align: top;\n",
       "    }\n",
       "\n",
       "    .dataframe thead th {\n",
       "        text-align: right;\n",
       "    }\n",
       "</style>\n",
       "<table border=\"1\" class=\"dataframe\">\n",
       "  <thead>\n",
       "    <tr style=\"text-align: right;\">\n",
       "      <th></th>\n",
       "      <th>x</th>\n",
       "      <th>y</th>\n",
       "      <th>R</th>\n",
       "      <th>G</th>\n",
       "      <th>B</th>\n",
       "      <th>date</th>\n",
       "      <th>time</th>\n",
       "      <th>orig_name</th>\n",
       "      <th>watershed</th>\n",
       "      <th>temperature</th>\n",
       "      <th>class</th>\n",
       "    </tr>\n",
       "  </thead>\n",
       "  <tbody>\n",
       "    <tr>\n",
       "      <th>0</th>\n",
       "      <td>1403</td>\n",
       "      <td>1265</td>\n",
       "      <td>192</td>\n",
       "      <td>177</td>\n",
       "      <td>218</td>\n",
       "      <td>2019-01-01</td>\n",
       "      <td>11:59:47</td>\n",
       "      <td>Hbwtr_w6_20190101_115947.JPG</td>\n",
       "      <td>w6</td>\n",
       "      <td>35.0</td>\n",
       "      <td>snow_o</td>\n",
       "    </tr>\n",
       "    <tr>\n",
       "      <th>1</th>\n",
       "      <td>1403</td>\n",
       "      <td>1266</td>\n",
       "      <td>192</td>\n",
       "      <td>177</td>\n",
       "      <td>218</td>\n",
       "      <td>2019-01-01</td>\n",
       "      <td>11:59:47</td>\n",
       "      <td>Hbwtr_w6_20190101_115947.JPG</td>\n",
       "      <td>w6</td>\n",
       "      <td>35.0</td>\n",
       "      <td>snow_o</td>\n",
       "    </tr>\n",
       "    <tr>\n",
       "      <th>2</th>\n",
       "      <td>1403</td>\n",
       "      <td>1267</td>\n",
       "      <td>192</td>\n",
       "      <td>177</td>\n",
       "      <td>218</td>\n",
       "      <td>2019-01-01</td>\n",
       "      <td>11:59:47</td>\n",
       "      <td>Hbwtr_w6_20190101_115947.JPG</td>\n",
       "      <td>w6</td>\n",
       "      <td>35.0</td>\n",
       "      <td>snow_o</td>\n",
       "    </tr>\n",
       "    <tr>\n",
       "      <th>3</th>\n",
       "      <td>1403</td>\n",
       "      <td>1268</td>\n",
       "      <td>190</td>\n",
       "      <td>178</td>\n",
       "      <td>218</td>\n",
       "      <td>2019-01-01</td>\n",
       "      <td>11:59:47</td>\n",
       "      <td>Hbwtr_w6_20190101_115947.JPG</td>\n",
       "      <td>w6</td>\n",
       "      <td>35.0</td>\n",
       "      <td>snow_o</td>\n",
       "    </tr>\n",
       "    <tr>\n",
       "      <th>4</th>\n",
       "      <td>1403</td>\n",
       "      <td>1269</td>\n",
       "      <td>190</td>\n",
       "      <td>178</td>\n",
       "      <td>218</td>\n",
       "      <td>2019-01-01</td>\n",
       "      <td>11:59:47</td>\n",
       "      <td>Hbwtr_w6_20190101_115947.JPG</td>\n",
       "      <td>w6</td>\n",
       "      <td>35.0</td>\n",
       "      <td>snow_o</td>\n",
       "    </tr>\n",
       "  </tbody>\n",
       "</table>\n",
       "</div>"
      ],
      "text/plain": [
       "      x     y    R    G    B       date      time  \\\n",
       "0  1403  1265  192  177  218 2019-01-01  11:59:47   \n",
       "1  1403  1266  192  177  218 2019-01-01  11:59:47   \n",
       "2  1403  1267  192  177  218 2019-01-01  11:59:47   \n",
       "3  1403  1268  190  178  218 2019-01-01  11:59:47   \n",
       "4  1403  1269  190  178  218 2019-01-01  11:59:47   \n",
       "\n",
       "                      orig_name watershed  temperature   class  \n",
       "0  Hbwtr_w6_20190101_115947.JPG        w6         35.0  snow_o  \n",
       "1  Hbwtr_w6_20190101_115947.JPG        w6         35.0  snow_o  \n",
       "2  Hbwtr_w6_20190101_115947.JPG        w6         35.0  snow_o  \n",
       "3  Hbwtr_w6_20190101_115947.JPG        w6         35.0  snow_o  \n",
       "4  Hbwtr_w6_20190101_115947.JPG        w6         35.0  snow_o  "
      ]
     },
     "execution_count": 8,
     "metadata": {},
     "output_type": "execute_result"
    }
   ],
   "source": [
    "merged = pd.concat([w_6,w_3])\n",
    "merged.head()"
   ]
  },
  {
   "cell_type": "code",
   "execution_count": null,
   "id": "aa151aec-c104-4279-b0a5-9ad384d832d5",
   "metadata": {},
   "outputs": [],
   "source": [
    "merged.shape"
   ]
  },
  {
   "cell_type": "code",
   "execution_count": 10,
   "id": "e5d2f136-b726-4e9f-aaba-6d57d6eabfd0",
   "metadata": {},
   "outputs": [],
   "source": [
    "merged.to_csv(\"merged.csv\", index=False)"
   ]
  },
  {
   "cell_type": "code",
   "execution_count": 4,
   "id": "c5a2e63c-0fdb-4b64-b8d9-a5e1f6f041a8",
   "metadata": {},
   "outputs": [
    {
     "data": {
      "text/plain": [
       "(34177, 11)"
      ]
     },
     "execution_count": 4,
     "metadata": {},
     "output_type": "execute_result"
    }
   ],
   "source": [
    "sample_merged = pick_samples(merged)\n",
    "sample_merged.shape"
   ]
  },
  {
   "cell_type": "code",
   "execution_count": 5,
   "id": "20c63da0-9a3a-4004-ad8d-0aab3301d158",
   "metadata": {},
   "outputs": [],
   "source": [
    "sample_merged.to_csv(\"sample_merged.csv\", index=False)"
   ]
  },
  {
   "cell_type": "code",
   "execution_count": 2,
   "id": "3ffa57ce-3d99-4153-8a6e-f3e5be99ee91",
   "metadata": {},
   "outputs": [],
   "source": [
    "merged = pd.read_csv(\"merged.csv\")"
   ]
  },
  {
   "cell_type": "code",
   "execution_count": 11,
   "id": "17f1c630-2b52-4e44-8067-ce9b59227db1",
   "metadata": {},
   "outputs": [],
   "source": [
    "sample_merged = pd.read_csv(\"sample_merged.csv\")"
   ]
  },
  {
   "cell_type": "code",
   "execution_count": 5,
   "id": "9f5804c1-6a08-4f89-a273-7909134b1102",
   "metadata": {},
   "outputs": [
    {
     "data": {
      "text/html": [
       "<div>\n",
       "<style scoped>\n",
       "    .dataframe tbody tr th:only-of-type {\n",
       "        vertical-align: middle;\n",
       "    }\n",
       "\n",
       "    .dataframe tbody tr th {\n",
       "        vertical-align: top;\n",
       "    }\n",
       "\n",
       "    .dataframe thead th {\n",
       "        text-align: right;\n",
       "    }\n",
       "</style>\n",
       "<table border=\"1\" class=\"dataframe\">\n",
       "  <thead>\n",
       "    <tr style=\"text-align: right;\">\n",
       "      <th></th>\n",
       "      <th>x</th>\n",
       "      <th>y</th>\n",
       "      <th>R</th>\n",
       "      <th>G</th>\n",
       "      <th>B</th>\n",
       "      <th>temperature</th>\n",
       "    </tr>\n",
       "  </thead>\n",
       "  <tbody>\n",
       "    <tr>\n",
       "      <th>count</th>\n",
       "      <td>34177.000000</td>\n",
       "      <td>34177.000000</td>\n",
       "      <td>34177.000000</td>\n",
       "      <td>34177.000000</td>\n",
       "      <td>34177.000000</td>\n",
       "      <td>23353.000000</td>\n",
       "    </tr>\n",
       "    <tr>\n",
       "      <th>mean</th>\n",
       "      <td>1229.140270</td>\n",
       "      <td>1729.387746</td>\n",
       "      <td>131.806420</td>\n",
       "      <td>121.492553</td>\n",
       "      <td>128.556134</td>\n",
       "      <td>35.247120</td>\n",
       "    </tr>\n",
       "    <tr>\n",
       "      <th>std</th>\n",
       "      <td>376.924503</td>\n",
       "      <td>327.388308</td>\n",
       "      <td>78.530278</td>\n",
       "      <td>79.799760</td>\n",
       "      <td>93.328750</td>\n",
       "      <td>12.429984</td>\n",
       "    </tr>\n",
       "    <tr>\n",
       "      <th>min</th>\n",
       "      <td>47.000000</td>\n",
       "      <td>1234.000000</td>\n",
       "      <td>0.000000</td>\n",
       "      <td>0.000000</td>\n",
       "      <td>0.000000</td>\n",
       "      <td>12.000000</td>\n",
       "    </tr>\n",
       "    <tr>\n",
       "      <th>25%</th>\n",
       "      <td>1036.000000</td>\n",
       "      <td>1439.000000</td>\n",
       "      <td>58.000000</td>\n",
       "      <td>47.000000</td>\n",
       "      <td>38.000000</td>\n",
       "      <td>28.000000</td>\n",
       "    </tr>\n",
       "    <tr>\n",
       "      <th>50%</th>\n",
       "      <td>1267.000000</td>\n",
       "      <td>1608.000000</td>\n",
       "      <td>125.000000</td>\n",
       "      <td>110.000000</td>\n",
       "      <td>104.000000</td>\n",
       "      <td>33.000000</td>\n",
       "    </tr>\n",
       "    <tr>\n",
       "      <th>75%</th>\n",
       "      <td>1489.000000</td>\n",
       "      <td>2074.000000</td>\n",
       "      <td>202.000000</td>\n",
       "      <td>194.000000</td>\n",
       "      <td>230.000000</td>\n",
       "      <td>41.000000</td>\n",
       "    </tr>\n",
       "    <tr>\n",
       "      <th>max</th>\n",
       "      <td>1997.000000</td>\n",
       "      <td>2336.000000</td>\n",
       "      <td>255.000000</td>\n",
       "      <td>255.000000</td>\n",
       "      <td>255.000000</td>\n",
       "      <td>98.000000</td>\n",
       "    </tr>\n",
       "  </tbody>\n",
       "</table>\n",
       "</div>"
      ],
      "text/plain": [
       "                  x             y             R             G             B  \\\n",
       "count  34177.000000  34177.000000  34177.000000  34177.000000  34177.000000   \n",
       "mean    1229.140270   1729.387746    131.806420    121.492553    128.556134   \n",
       "std      376.924503    327.388308     78.530278     79.799760     93.328750   \n",
       "min       47.000000   1234.000000      0.000000      0.000000      0.000000   \n",
       "25%     1036.000000   1439.000000     58.000000     47.000000     38.000000   \n",
       "50%     1267.000000   1608.000000    125.000000    110.000000    104.000000   \n",
       "75%     1489.000000   2074.000000    202.000000    194.000000    230.000000   \n",
       "max     1997.000000   2336.000000    255.000000    255.000000    255.000000   \n",
       "\n",
       "        temperature  \n",
       "count  23353.000000  \n",
       "mean      35.247120  \n",
       "std       12.429984  \n",
       "min       12.000000  \n",
       "25%       28.000000  \n",
       "50%       33.000000  \n",
       "75%       41.000000  \n",
       "max       98.000000  "
      ]
     },
     "execution_count": 5,
     "metadata": {},
     "output_type": "execute_result"
    }
   ],
   "source": [
    "sample_merged.describe()"
   ]
  },
  {
   "cell_type": "code",
   "execution_count": 6,
   "id": "21c8502a-94e8-4779-bc96-b95b855ca408",
   "metadata": {},
   "outputs": [
    {
     "data": {
      "text/plain": [
       "<AxesSubplot:>"
      ]
     },
     "execution_count": 6,
     "metadata": {},
     "output_type": "execute_result"
    },
    {
     "data": {
      "image/png": "[encoded data removed]",
      "text/plain": [
       "<Figure size 432x288 with 1 Axes>"
      ]
     },
     "metadata": {
      "needs_background": "light"
     },
     "output_type": "display_data"
    }
   ],
   "source": [
    "sample_merged[\"class\"].value_counts().sort_values(ascending=True).plot(kind=\"barh\")"
   ]
  },
  {
   "cell_type": "code",
   "execution_count": 12,
   "id": "d1cee16b-f4c5-44ee-9d9a-8f8c954923eb",
   "metadata": {},
   "outputs": [
    {
     "data": {
      "text/plain": [
       "(23267, 15)"
      ]
     },
     "execution_count": 12,
     "metadata": {},
     "output_type": "execute_result"
    }
   ],
   "source": [
    "sample_copy = sample_merged.copy()\n",
    "sample_merged = sample_merged.dropna()\n",
    "sample_merged.shape"
   ]
  },
  {
   "cell_type": "code",
   "execution_count": 10,
   "id": "b52c6cb3-1807-49b1-bc08-124a5e9a2928",
   "metadata": {},
   "outputs": [
    {
     "data": {
      "text/plain": [
       "<AxesSubplot:>"
      ]
     },
     "execution_count": 10,
     "metadata": {},
     "output_type": "execute_result"
    },
    {
     "data": {
      "image/png": "[encoded data removed]",
      "text/plain": [
       "<Figure size 432x288 with 1 Axes>"
      ]
     },
     "metadata": {
      "needs_background": "light"
     },
     "output_type": "display_data"
    }
   ],
   "source": [
    "sample_merged[\"class\"].value_counts().sort_values(ascending=True).plot(kind=\"barh\")"
   ]
  },
  {
   "cell_type": "code",
   "execution_count": 6,
   "id": "13f6ed53-ecf3-4d66-a4c1-56b0865fc050",
   "metadata": {},
   "outputs": [
    {
     "data": {
      "text/html": [
       "<div>\n",
       "<style scoped>\n",
       "    .dataframe tbody tr th:only-of-type {\n",
       "        vertical-align: middle;\n",
       "    }\n",
       "\n",
       "    .dataframe tbody tr th {\n",
       "        vertical-align: top;\n",
       "    }\n",
       "\n",
       "    .dataframe thead th {\n",
       "        text-align: right;\n",
       "    }\n",
       "</style>\n",
       "<table border=\"1\" class=\"dataframe\">\n",
       "  <thead>\n",
       "    <tr style=\"text-align: right;\">\n",
       "      <th></th>\n",
       "      <th>x</th>\n",
       "      <th>y</th>\n",
       "      <th>R</th>\n",
       "      <th>G</th>\n",
       "      <th>B</th>\n",
       "      <th>date</th>\n",
       "      <th>time</th>\n",
       "      <th>orig_name</th>\n",
       "      <th>watershed</th>\n",
       "      <th>temperature</th>\n",
       "      <th>class</th>\n",
       "    </tr>\n",
       "  </thead>\n",
       "  <tbody>\n",
       "    <tr>\n",
       "      <th>0</th>\n",
       "      <td>1403</td>\n",
       "      <td>1265</td>\n",
       "      <td>192</td>\n",
       "      <td>177</td>\n",
       "      <td>218</td>\n",
       "      <td>2019-01-01</td>\n",
       "      <td>11:59:47</td>\n",
       "      <td>Hbwtr_w6_20190101_115947.JPG</td>\n",
       "      <td>w6</td>\n",
       "      <td>35.0</td>\n",
       "      <td>snow_o</td>\n",
       "    </tr>\n",
       "    <tr>\n",
       "      <th>1</th>\n",
       "      <td>1403</td>\n",
       "      <td>1266</td>\n",
       "      <td>192</td>\n",
       "      <td>177</td>\n",
       "      <td>218</td>\n",
       "      <td>2019-01-01</td>\n",
       "      <td>11:59:47</td>\n",
       "      <td>Hbwtr_w6_20190101_115947.JPG</td>\n",
       "      <td>w6</td>\n",
       "      <td>35.0</td>\n",
       "      <td>snow_o</td>\n",
       "    </tr>\n",
       "    <tr>\n",
       "      <th>2</th>\n",
       "      <td>1403</td>\n",
       "      <td>1267</td>\n",
       "      <td>192</td>\n",
       "      <td>177</td>\n",
       "      <td>218</td>\n",
       "      <td>2019-01-01</td>\n",
       "      <td>11:59:47</td>\n",
       "      <td>Hbwtr_w6_20190101_115947.JPG</td>\n",
       "      <td>w6</td>\n",
       "      <td>35.0</td>\n",
       "      <td>snow_o</td>\n",
       "    </tr>\n",
       "    <tr>\n",
       "      <th>3</th>\n",
       "      <td>1403</td>\n",
       "      <td>1268</td>\n",
       "      <td>190</td>\n",
       "      <td>178</td>\n",
       "      <td>218</td>\n",
       "      <td>2019-01-01</td>\n",
       "      <td>11:59:47</td>\n",
       "      <td>Hbwtr_w6_20190101_115947.JPG</td>\n",
       "      <td>w6</td>\n",
       "      <td>35.0</td>\n",
       "      <td>snow_o</td>\n",
       "    </tr>\n",
       "    <tr>\n",
       "      <th>4</th>\n",
       "      <td>1403</td>\n",
       "      <td>1269</td>\n",
       "      <td>190</td>\n",
       "      <td>178</td>\n",
       "      <td>218</td>\n",
       "      <td>2019-01-01</td>\n",
       "      <td>11:59:47</td>\n",
       "      <td>Hbwtr_w6_20190101_115947.JPG</td>\n",
       "      <td>w6</td>\n",
       "      <td>35.0</td>\n",
       "      <td>snow_o</td>\n",
       "    </tr>\n",
       "  </tbody>\n",
       "</table>\n",
       "</div>"
      ],
      "text/plain": [
       "      x     y    R    G    B       date      time  \\\n",
       "0  1403  1265  192  177  218 2019-01-01  11:59:47   \n",
       "1  1403  1266  192  177  218 2019-01-01  11:59:47   \n",
       "2  1403  1267  192  177  218 2019-01-01  11:59:47   \n",
       "3  1403  1268  190  178  218 2019-01-01  11:59:47   \n",
       "4  1403  1269  190  178  218 2019-01-01  11:59:47   \n",
       "\n",
       "                      orig_name watershed  temperature   class  \n",
       "0  Hbwtr_w6_20190101_115947.JPG        w6         35.0  snow_o  \n",
       "1  Hbwtr_w6_20190101_115947.JPG        w6         35.0  snow_o  \n",
       "2  Hbwtr_w6_20190101_115947.JPG        w6         35.0  snow_o  \n",
       "3  Hbwtr_w6_20190101_115947.JPG        w6         35.0  snow_o  \n",
       "4  Hbwtr_w6_20190101_115947.JPG        w6         35.0  snow_o  "
      ]
     },
     "execution_count": 6,
     "metadata": {},
     "output_type": "execute_result"
    }
   ],
   "source": [
    "w_6.head()"
   ]
  },
  {
   "cell_type": "code",
   "execution_count": 9,
   "id": "b45af6b8-bcad-4088-98ed-2f42165388a3",
   "metadata": {},
   "outputs": [
    {
     "data": {
      "text/plain": [
       "<AxesSubplot:>"
      ]
     },
     "execution_count": 9,
     "metadata": {},
     "output_type": "execute_result"
    },
    {
     "data": {
      "image/png": "[encoded data removed]",
      "text/plain": [
       "<Figure size 432x288 with 1 Axes>"
      ]
     },
     "metadata": {
      "needs_background": "light"
     },
     "output_type": "display_data"
    }
   ],
   "source": [
    "w_6[\"class\"].value_counts().sort_values(ascending=True).plot(kind=\"barh\")"
   ]
  },
  {
   "cell_type": "code",
   "execution_count": 10,
   "id": "c52a52e6-faaa-4fcc-bedc-dbbed80feea5",
   "metadata": {},
   "outputs": [
    {
     "data": {
      "text/plain": [
       "<AxesSubplot:>"
      ]
     },
     "execution_count": 10,
     "metadata": {},
     "output_type": "execute_result"
    },
    {
     "data": {
      "image/png": "[encoded data removed]",
      "text/plain": [
       "<Figure size 432x288 with 1 Axes>"
      ]
     },
     "metadata": {
      "needs_background": "light"
     },
     "output_type": "display_data"
    }
   ],
   "source": [
    "w_3[\"class\"].value_counts().sort_values(ascending=True).plot(kind=\"barh\")"
   ]
  },
  {
   "cell_type": "markdown",
   "id": "69b81cbf",
   "metadata": {
    "tags": []
   },
   "source": [
    "## Train and Test on w6"
   ]
  },
  {
   "cell_type": "code",
   "execution_count": 12,
   "id": "e70571f6",
   "metadata": {},
   "outputs": [
    {
     "data": {
      "text/html": [
       "<div>\n",
       "<style scoped>\n",
       "    .dataframe tbody tr th:only-of-type {\n",
       "        vertical-align: middle;\n",
       "    }\n",
       "\n",
       "    .dataframe tbody tr th {\n",
       "        vertical-align: top;\n",
       "    }\n",
       "\n",
       "    .dataframe thead th {\n",
       "        text-align: right;\n",
       "    }\n",
       "</style>\n",
       "<table border=\"1\" class=\"dataframe\">\n",
       "  <thead>\n",
       "    <tr style=\"text-align: right;\">\n",
       "      <th></th>\n",
       "      <th>x</th>\n",
       "      <th>y</th>\n",
       "      <th>R</th>\n",
       "      <th>G</th>\n",
       "      <th>B</th>\n",
       "      <th>date</th>\n",
       "      <th>time</th>\n",
       "      <th>orig_name</th>\n",
       "      <th>watershed</th>\n",
       "      <th>temperature</th>\n",
       "      <th>class</th>\n",
       "    </tr>\n",
       "  </thead>\n",
       "  <tbody>\n",
       "    <tr>\n",
       "      <th>0</th>\n",
       "      <td>1403</td>\n",
       "      <td>1265</td>\n",
       "      <td>192</td>\n",
       "      <td>177</td>\n",
       "      <td>218</td>\n",
       "      <td>2019-01-01</td>\n",
       "      <td>11:59:47</td>\n",
       "      <td>Hbwtr_w6_20190101_115947.JPG</td>\n",
       "      <td>w6</td>\n",
       "      <td>35F</td>\n",
       "      <td>snow_o</td>\n",
       "    </tr>\n",
       "    <tr>\n",
       "      <th>3</th>\n",
       "      <td>1403</td>\n",
       "      <td>1268</td>\n",
       "      <td>190</td>\n",
       "      <td>178</td>\n",
       "      <td>218</td>\n",
       "      <td>2019-01-01</td>\n",
       "      <td>11:59:47</td>\n",
       "      <td>Hbwtr_w6_20190101_115947.JPG</td>\n",
       "      <td>w6</td>\n",
       "      <td>35F</td>\n",
       "      <td>snow_o</td>\n",
       "    </tr>\n",
       "    <tr>\n",
       "      <th>6</th>\n",
       "      <td>1403</td>\n",
       "      <td>1271</td>\n",
       "      <td>189</td>\n",
       "      <td>178</td>\n",
       "      <td>218</td>\n",
       "      <td>2019-01-01</td>\n",
       "      <td>11:59:47</td>\n",
       "      <td>Hbwtr_w6_20190101_115947.JPG</td>\n",
       "      <td>w6</td>\n",
       "      <td>35F</td>\n",
       "      <td>snow_o</td>\n",
       "    </tr>\n",
       "    <tr>\n",
       "      <th>7</th>\n",
       "      <td>1403</td>\n",
       "      <td>1272</td>\n",
       "      <td>190</td>\n",
       "      <td>179</td>\n",
       "      <td>219</td>\n",
       "      <td>2019-01-01</td>\n",
       "      <td>11:59:47</td>\n",
       "      <td>Hbwtr_w6_20190101_115947.JPG</td>\n",
       "      <td>w6</td>\n",
       "      <td>35F</td>\n",
       "      <td>snow_o</td>\n",
       "    </tr>\n",
       "    <tr>\n",
       "      <th>8</th>\n",
       "      <td>1403</td>\n",
       "      <td>1273</td>\n",
       "      <td>191</td>\n",
       "      <td>180</td>\n",
       "      <td>220</td>\n",
       "      <td>2019-01-01</td>\n",
       "      <td>11:59:47</td>\n",
       "      <td>Hbwtr_w6_20190101_115947.JPG</td>\n",
       "      <td>w6</td>\n",
       "      <td>35F</td>\n",
       "      <td>snow_o</td>\n",
       "    </tr>\n",
       "  </tbody>\n",
       "</table>\n",
       "</div>"
      ],
      "text/plain": [
       "      x     y    R    G    B       date      time  \\\n",
       "0  1403  1265  192  177  218 2019-01-01  11:59:47   \n",
       "3  1403  1268  190  178  218 2019-01-01  11:59:47   \n",
       "6  1403  1271  189  178  218 2019-01-01  11:59:47   \n",
       "7  1403  1272  190  179  219 2019-01-01  11:59:47   \n",
       "8  1403  1273  191  180  220 2019-01-01  11:59:47   \n",
       "\n",
       "                      orig_name watershed temperature   class  \n",
       "0  Hbwtr_w6_20190101_115947.JPG        w6         35F  snow_o  \n",
       "3  Hbwtr_w6_20190101_115947.JPG        w6         35F  snow_o  \n",
       "6  Hbwtr_w6_20190101_115947.JPG        w6         35F  snow_o  \n",
       "7  Hbwtr_w6_20190101_115947.JPG        w6         35F  snow_o  \n",
       "8  Hbwtr_w6_20190101_115947.JPG        w6         35F  snow_o  "
      ]
     },
     "execution_count": 12,
     "metadata": {},
     "output_type": "execute_result"
    }
   ],
   "source": [
    "# train and test on w6\n",
    "w_6.head()"
   ]
  },
  {
   "cell_type": "code",
   "execution_count": 16,
   "id": "5f008e9c-67c6-43e8-a9fd-90d3efb52e5c",
   "metadata": {},
   "outputs": [
    {
     "data": {
      "text/plain": [
       "0    35\n",
       "1    35\n",
       "2    35\n",
       "3    35\n",
       "4    35\n",
       "Name: temperature, dtype: object"
      ]
     },
     "execution_count": 16,
     "metadata": {},
     "output_type": "execute_result"
    }
   ],
   "source": [
    "w_6.head().temperature.apply(lambda a:a[:-1])"
   ]
  },
  {
   "cell_type": "markdown",
   "id": "9dcb24ad",
   "metadata": {
    "jp-MarkdownHeadingCollapsed": true,
    "tags": []
   },
   "source": [
    "### Train only using RGB"
   ]
  },
  {
   "cell_type": "code",
   "execution_count": 13,
   "id": "e567e2ff",
   "metadata": {},
   "outputs": [],
   "source": [
    "w_6_train = w_6[[\"R\",\"G\",\"B\", \"class\"]]\n"
   ]
  },
  {
   "cell_type": "code",
   "execution_count": 14,
   "id": "45fa2b63",
   "metadata": {},
   "outputs": [
    {
     "data": {
      "text/plain": [
       "leaf_fall           113695\n",
       "leaf_sub             54657\n",
       "rock                 33001\n",
       "open_water           19778\n",
       "ice_t                17787\n",
       "snow_o               12429\n",
       "leaf_green            8992\n",
       "open_water_green      7516\n",
       "open_water_dark       7277\n",
       "other                 3628\n",
       "riffle                3594\n",
       "ice_o                 2353\n",
       "snow_t                1841\n",
       "Name: class, dtype: int64"
      ]
     },
     "execution_count": 14,
     "metadata": {},
     "output_type": "execute_result"
    }
   ],
   "source": [
    "# imbalanced classes, is an issue\n",
    "w_6_train[\"class\"].value_counts()"
   ]
  },
  {
   "cell_type": "code",
   "execution_count": 15,
   "id": "59b78470",
   "metadata": {},
   "outputs": [],
   "source": [
    "X = w_6_train.drop('class',axis=1)\n",
    "y = w_6_train['class']\n",
    "X_train, X_test, y_train, y_test = train_test_split(X, y, test_size=0.50, random_state=1, stratify=y)\n",
    "# stratify - keeps the same proportion "
   ]
  },
  {
   "cell_type": "code",
   "execution_count": 16,
   "id": "5fb72f07",
   "metadata": {
    "tags": []
   },
   "outputs": [
    {
     "data": {
      "text/plain": [
       "RandomForestClassifier()"
      ]
     },
     "execution_count": 16,
     "metadata": {},
     "output_type": "execute_result"
    }
   ],
   "source": [
    "# fit model\n",
    "rfc = RandomForestClassifier()\n",
    "rfc.fit(X_train, y_train)"
   ]
  },
  {
   "cell_type": "code",
   "execution_count": 17,
   "id": "601ad191",
   "metadata": {},
   "outputs": [
    {
     "data": {
      "text/plain": [
       "0.6579421248796014"
      ]
     },
     "execution_count": 17,
     "metadata": {},
     "output_type": "execute_result"
    }
   ],
   "source": [
    "# predict on test data\n",
    "rfc_pred = rfc.predict(X_test)\n",
    "accuracy_score(y_test,rfc_pred)"
   ]
  },
  {
   "cell_type": "code",
   "execution_count": 18,
   "id": "97f77afe",
   "metadata": {},
   "outputs": [
    {
     "name": "stdout",
     "output_type": "stream",
     "text": [
      "                  precision    recall  f1-score   support\n",
      "\n",
      "           ice_o       0.34      0.20      0.25      1177\n",
      "           ice_t       0.59      0.71      0.64      8893\n",
      "       leaf_fall       0.78      0.85      0.82     56847\n",
      "      leaf_green       0.59      0.54      0.56      4496\n",
      "        leaf_sub       0.57      0.51      0.54     27329\n",
      "      open_water       0.52      0.50      0.51      9889\n",
      " open_water_dark       0.58      0.56      0.57      3639\n",
      "open_water_green       0.46      0.40      0.43      3758\n",
      "           other       0.31      0.12      0.17      1814\n",
      "          riffle       0.36      0.28      0.31      1797\n",
      "            rock       0.50      0.49      0.50     16501\n",
      "          snow_o       0.82      0.86      0.84      6214\n",
      "          snow_t       0.32      0.17      0.22       920\n",
      "\n",
      "        accuracy                           0.66    143274\n",
      "       macro avg       0.52      0.48      0.49    143274\n",
      "    weighted avg       0.65      0.66      0.65    143274\n",
      "\n"
     ]
    }
   ],
   "source": [
    "print(classification_report(y_test,rfc_pred))"
   ]
  },
  {
   "cell_type": "code",
   "execution_count": 19,
   "id": "0868294f",
   "metadata": {},
   "outputs": [
    {
     "data": {
      "image/png": "[encoded data removed]",
      "text/plain": [
       "<Figure size 1296x720 with 2 Axes>"
      ]
     },
     "metadata": {
      "needs_background": "light"
     },
     "output_type": "display_data"
    }
   ],
   "source": [
    "p,ax = plt.subplots(figsize=(18, 10))\n",
    "\n",
    "ConfusionMatrixDisplay.from_predictions(y_test, rfc_pred, ax=ax, colorbar=True)\n",
    "plt.show()"
   ]
  },
  {
   "cell_type": "code",
   "execution_count": 20,
   "id": "55e95328",
   "metadata": {},
   "outputs": [
    {
     "data": {
      "text/html": [
       "<div>\n",
       "<style scoped>\n",
       "    .dataframe tbody tr th:only-of-type {\n",
       "        vertical-align: middle;\n",
       "    }\n",
       "\n",
       "    .dataframe tbody tr th {\n",
       "        vertical-align: top;\n",
       "    }\n",
       "\n",
       "    .dataframe thead th {\n",
       "        text-align: right;\n",
       "    }\n",
       "</style>\n",
       "<table border=\"1\" class=\"dataframe\">\n",
       "  <thead>\n",
       "    <tr style=\"text-align: right;\">\n",
       "      <th></th>\n",
       "      <th>0</th>\n",
       "    </tr>\n",
       "  </thead>\n",
       "  <tbody>\n",
       "    <tr>\n",
       "      <th>R</th>\n",
       "      <td>0.338431</td>\n",
       "    </tr>\n",
       "    <tr>\n",
       "      <th>G</th>\n",
       "      <td>0.278765</td>\n",
       "    </tr>\n",
       "    <tr>\n",
       "      <th>B</th>\n",
       "      <td>0.382804</td>\n",
       "    </tr>\n",
       "  </tbody>\n",
       "</table>\n",
       "</div>"
      ],
      "text/plain": [
       "          0\n",
       "R  0.338431\n",
       "G  0.278765\n",
       "B  0.382804"
      ]
     },
     "execution_count": 20,
     "metadata": {},
     "output_type": "execute_result"
    }
   ],
   "source": [
    "pd.DataFrame(rfc.feature_importances_, index = X_train.columns)"
   ]
  },
  {
   "cell_type": "markdown",
   "id": "2cbf7ab1",
   "metadata": {},
   "source": [
    "Poor perforamnce, resample data and train using grid search\n",
    "\n",
    "only using RGB"
   ]
  },
  {
   "cell_type": "code",
   "execution_count": 21,
   "id": "cac0aea3",
   "metadata": {},
   "outputs": [
    {
     "data": {
      "text/plain": [
       "Hbwtr_w6_20181013_120459.JPG    34063\n",
       "Hbwtr_w6_20181014_120456.JPG    21922\n",
       "Hbwtr_w6_20181016_120450.JPG    16894\n",
       "Hbwtr_w6_20181021_115934.JPG    14114\n",
       "Hbwtr_w6_20181023_115928.JPG    10771\n",
       "                                ...  \n",
       "Hbwtr_w6_20190309_120109.JPG        4\n",
       "Hbwtr_w6_20190227_120103.JPG        3\n",
       "Hbwtr_w6_20190328_120615.JPG        3\n",
       "Hbwtr_w6_20191221_115858.JPG        3\n",
       "Hbwtr_w6_20190313_120110.JPG        2\n",
       "Name: orig_name, Length: 176, dtype: int64"
      ]
     },
     "execution_count": 21,
     "metadata": {},
     "output_type": "execute_result"
    }
   ],
   "source": [
    "w_6.orig_name.value_counts()"
   ]
  },
  {
   "cell_type": "code",
   "execution_count": 22,
   "id": "d7785884",
   "metadata": {},
   "outputs": [],
   "source": [
    "# sample max=100 and min=2 points from all images\n",
    "sampled_df = w_6.head(1)\n",
    "max_class_size = 10\n",
    "li = []\n",
    "for date in w_6.orig_name.unique():\n",
    "    date_grouped = w_6[w_6.orig_name==date]\n",
    "    nth = len(date_grouped)//max_class_size\n",
    "    if nth==0:\n",
    "        sampled_df = pd.concat([sampled_df,date_grouped])\n",
    "    else:\n",
    "        curr_group = date_grouped.iloc[::nth,:]\n",
    "        sampled_df = pd.concat([sampled_df,curr_group])\n",
    "    li.append(nth)\n",
    "    # print(nth, len(date_grouped))"
   ]
  },
  {
   "cell_type": "code",
   "execution_count": 23,
   "id": "cc38a2c9",
   "metadata": {},
   "outputs": [
    {
     "data": {
      "text/plain": [
       "((1912, 11), (286548, 11))"
      ]
     },
     "execution_count": 23,
     "metadata": {},
     "output_type": "execute_result"
    }
   ],
   "source": [
    "sampled_df.shape, w_6.shape"
   ]
  },
  {
   "cell_type": "markdown",
   "id": "3581ac9c",
   "metadata": {},
   "source": [
    "imbalanced class, issue"
   ]
  },
  {
   "cell_type": "code",
   "execution_count": 55,
   "id": "c7d94a1b",
   "metadata": {},
   "outputs": [],
   "source": [
    "# train split resampled\n",
    "\n",
    "df_1 = sampled_df[[\"R\",\"G\",\"B\", \"class\"]]\n",
    "X = df_1.drop('class',axis=1)\n",
    "y = df_1['class']\n",
    "X_train, X_test, y_train, y_test = train_test_split(X, y, test_size=0.40, random_state=1, stratify=y)"
   ]
  },
  {
   "cell_type": "code",
   "execution_count": 56,
   "id": "4f680ecf",
   "metadata": {},
   "outputs": [
    {
     "name": "stdout",
     "output_type": "stream",
     "text": [
      "                  precision    recall  f1-score   support\n",
      "\n",
      "           ice_o       0.00      0.00      0.00         9\n",
      "           ice_t       0.47      0.45      0.46        69\n",
      "       leaf_fall       0.59      0.63      0.61       103\n",
      "      leaf_green       0.65      0.88      0.75        25\n",
      "        leaf_sub       0.39      0.33      0.36        90\n",
      "      open_water       0.36      0.38      0.37        52\n",
      " open_water_dark       0.60      0.64      0.62        39\n",
      "open_water_green       0.00      0.00      0.00         7\n",
      "           other       0.00      0.00      0.00        10\n",
      "          riffle       1.00      0.33      0.50         6\n",
      "            rock       0.40      0.45      0.42       103\n",
      "          snow_o       0.88      0.94      0.90       233\n",
      "          snow_t       0.00      0.00      0.00        19\n",
      "\n",
      "        accuracy                           0.60       765\n",
      "       macro avg       0.41      0.39      0.38       765\n",
      "    weighted avg       0.57      0.60      0.58       765\n",
      "\n"
     ]
    },
    {
     "name": "stderr",
     "output_type": "stream",
     "text": [
      "C:\\Users\\Dell\\anaconda3\\lib\\site-packages\\sklearn\\metrics\\_classification.py:1318: UndefinedMetricWarning: Precision and F-score are ill-defined and being set to 0.0 in labels with no predicted samples. Use `zero_division` parameter to control this behavior.\n",
      "  _warn_prf(average, modifier, msg_start, len(result))\n",
      "C:\\Users\\Dell\\anaconda3\\lib\\site-packages\\sklearn\\metrics\\_classification.py:1318: UndefinedMetricWarning: Precision and F-score are ill-defined and being set to 0.0 in labels with no predicted samples. Use `zero_division` parameter to control this behavior.\n",
      "  _warn_prf(average, modifier, msg_start, len(result))\n",
      "C:\\Users\\Dell\\anaconda3\\lib\\site-packages\\sklearn\\metrics\\_classification.py:1318: UndefinedMetricWarning: Precision and F-score are ill-defined and being set to 0.0 in labels with no predicted samples. Use `zero_division` parameter to control this behavior.\n",
      "  _warn_prf(average, modifier, msg_start, len(result))\n"
     ]
    }
   ],
   "source": [
    "# run them default\n",
    "# fit model\n",
    "rfc = RandomForestClassifier()\n",
    "rfc.fit(X_train, y_train)\n",
    "# predict on test data\n",
    "rfc_pred = rfc.predict(X_test)\n",
    "print(classification_report(y_test,rfc_pred))"
   ]
  },
  {
   "cell_type": "code",
   "execution_count": null,
   "id": "93bab78b",
   "metadata": {},
   "outputs": [],
   "source": [
    "# 100-> 0.65\n",
    "# 1,000 ->0.63\n",
    "# 10,000->0.65"
   ]
  },
  {
   "cell_type": "code",
   "execution_count": 27,
   "id": "5a4cde45-a9f9-4a1a-a8ba-af56d6b246b4",
   "metadata": {},
   "outputs": [],
   "source": []
  },
  {
   "cell_type": "markdown",
   "id": "af0f7354",
   "metadata": {},
   "source": [
    " Now, grid search"
   ]
  },
  {
   "cell_type": "code",
   "execution_count": 51,
   "id": "d514d38e",
   "metadata": {},
   "outputs": [],
   "source": [
    "n_cpus = os.cpu_count()\n",
    "# grid search create dict\n",
    "# Number of trees in random forest\n",
    "n_estimators = np.linspace(100, 3000, int((3000-100)/200) + 1, dtype=int)\n",
    "# Number of features to consider at every split\n",
    "max_features = ['auto', 'sqrt']\n",
    "# Maximum number of levels in tree\n",
    "max_depth = [1, 5, 10, 20, 50, 75, 100, 150, 200]\n",
    "# Minimum number of samples required to split a node\n",
    "min_samples_split = [1, 2, 5, 10, 15, 20, 30]\n",
    "# Minimum number of samples required at each leaf node\n",
    "min_samples_leaf = [1, 2, 3, 4]\n",
    "# Method of selecting samples for training each tree\n",
    "bootstrap = [True, False]\n",
    "# Criterion\n",
    "criterion=['gini', 'entropy']\n",
    "random_grid = {'n_estimators': n_estimators,\n",
    "#                'max_features': max_features,\n",
    "               'max_depth': max_depth,\n",
    "               'min_samples_split': min_samples_split,\n",
    "               'min_samples_leaf': min_samples_leaf,\n",
    "               'bootstrap': bootstrap,\n",
    "               'criterion': criterion}\n",
    "rf_base = RandomForestClassifier()\n",
    "rf_random = RandomizedSearchCV(estimator = rf_base,\n",
    "                               param_distributions = random_grid,\n",
    "                               n_iter = 10, cv = 5,\n",
    "                               verbose=3,\n",
    "                               random_state=42, n_jobs = n_cpus-1,\n",
    "                               scoring = \"accuracy\")"
   ]
  },
  {
   "cell_type": "code",
   "execution_count": 52,
   "id": "ad800fab",
   "metadata": {},
   "outputs": [
    {
     "name": "stdout",
     "output_type": "stream",
     "text": [
      "Fitting 5 folds for each of 10 candidates, totalling 50 fits\n"
     ]
    },
    {
     "data": {
      "text/plain": [
       "RandomizedSearchCV(cv=5, estimator=RandomForestClassifier(), n_jobs=7,\n",
       "                   param_distributions={'bootstrap': [True, False],\n",
       "                                        'criterion': ['gini', 'entropy'],\n",
       "                                        'max_depth': [1, 5, 10, 20, 50, 75, 100,\n",
       "                                                      150, 200],\n",
       "                                        'min_samples_leaf': [1, 2, 3, 4],\n",
       "                                        'min_samples_split': [1, 2, 5, 10, 15,\n",
       "                                                              20, 30],\n",
       "                                        'n_estimators': array([ 100,  307,  514,  721,  928, 1135, 1342, 1550, 1757, 1964, 2171,\n",
       "       2378, 2585, 2792, 3000])},\n",
       "                   random_state=42, scoring='accuracy', verbose=3)"
      ]
     },
     "execution_count": 52,
     "metadata": {},
     "output_type": "execute_result"
    }
   ],
   "source": [
    "rf_random.fit(X_train, y_train)"
   ]
  },
  {
   "cell_type": "code",
   "execution_count": 53,
   "id": "30632435-f587-463a-ad99-0357a9201883",
   "metadata": {},
   "outputs": [
    {
     "data": {
      "text/plain": [
       "{'n_estimators': 1135,\n",
       " 'min_samples_split': 2,\n",
       " 'min_samples_leaf': 1,\n",
       " 'max_depth': 10,\n",
       " 'criterion': 'gini',\n",
       " 'bootstrap': True}"
      ]
     },
     "execution_count": 53,
     "metadata": {},
     "output_type": "execute_result"
    }
   ],
   "source": [
    "rf_random.best_params_"
   ]
  },
  {
   "cell_type": "code",
   "execution_count": 57,
   "id": "30395bf1-3183-4aed-8261-a6c837654f97",
   "metadata": {},
   "outputs": [
    {
     "name": "stdout",
     "output_type": "stream",
     "text": [
      "0.9616390584132519\n",
      "0.6222222222222222\n"
     ]
    }
   ],
   "source": [
    "# training error\n",
    "print (rf_random.score(X_train, y_train))\n",
    "# testing error\n",
    "print(rf_random.score(X_test, y_test))"
   ]
  },
  {
   "cell_type": "code",
   "execution_count": 60,
   "id": "187c0df3",
   "metadata": {},
   "outputs": [],
   "source": [
    "# build up on the randomized cv search and find better params\n",
    "\n",
    "param_grid = {\n",
    "    'n_estimators': np.linspace(1100, 1300, 5, dtype = int),\n",
    "    'max_depth': [8,10,12,15],\n",
    "    'min_samples_split': [2, 3, 4],\n",
    "    'min_samples_leaf': [1, 2, 3, 4]\n",
    "}\n",
    "\n",
    "# Base model\n",
    "rf_grid = RandomForestClassifier(criterion = 'gini', bootstrap = True)\n",
    "# Instantiate the grid search model\n",
    "grid_rf_search = GridSearchCV(estimator = rf_grid, param_grid = param_grid, \n",
    "                          cv = 5, n_jobs = n_cpus-1, verbose = 3)\n"
   ]
  },
  {
   "cell_type": "code",
   "execution_count": 61,
   "id": "b5cee199",
   "metadata": {},
   "outputs": [
    {
     "name": "stdout",
     "output_type": "stream",
     "text": [
      "Fitting 5 folds for each of 240 candidates, totalling 1200 fits\n"
     ]
    },
    {
     "data": {
      "text/plain": [
       "GridSearchCV(cv=5, estimator=RandomForestClassifier(), n_jobs=7,\n",
       "             param_grid={'max_depth': [8, 10, 12, 15],\n",
       "                         'min_samples_leaf': [1, 2, 3, 4],\n",
       "                         'min_samples_split': [2, 3, 4],\n",
       "                         'n_estimators': array([1100, 1150, 1200, 1250, 1300])},\n",
       "             verbose=3)"
      ]
     },
     "execution_count": 61,
     "metadata": {},
     "output_type": "execute_result"
    }
   ],
   "source": [
    "grid_rf_search.fit(X_train, y_train)"
   ]
  },
  {
   "cell_type": "code",
   "execution_count": 62,
   "id": "cfcd8a23-5c8f-4f94-a61b-56990f27b55a",
   "metadata": {},
   "outputs": [
    {
     "data": {
      "text/plain": [
       "{'max_depth': 15,\n",
       " 'min_samples_leaf': 1,\n",
       " 'min_samples_split': 2,\n",
       " 'n_estimators': 1100}"
      ]
     },
     "execution_count": 62,
     "metadata": {},
     "output_type": "execute_result"
    }
   ],
   "source": [
    "best_rf_grid = grid_rf_search.best_estimator_\n",
    "grid_rf_search.best_params_"
   ]
  },
  {
   "cell_type": "code",
   "execution_count": 64,
   "id": "b00067fa-b496-47e9-8fc6-e6e0737f8388",
   "metadata": {},
   "outputs": [
    {
     "name": "stdout",
     "output_type": "stream",
     "text": [
      "1.0\n",
      "0.6130718954248366\n"
     ]
    }
   ],
   "source": [
    "# training error\n",
    "print (grid_rf_search.score(X_train, y_train))\n",
    "# testing error\n",
    "print(grid_rf_search.score(X_test, y_test))"
   ]
  },
  {
   "cell_type": "code",
   "execution_count": null,
   "id": "ed8b2039-2749-4484-8328-63fa0e014bc0",
   "metadata": {},
   "outputs": [],
   "source": [
    "pd.DataFrame(best_rf_grid.feature_importances_, index = X_train.columns)"
   ]
  },
  {
   "cell_type": "markdown",
   "id": "89b494f1-cc24-457e-b052-4cba456b360f",
   "metadata": {},
   "source": [
    "Max accuracy found 62%."
   ]
  },
  {
   "cell_type": "markdown",
   "id": "ad320b9b-3c4e-4f35-88bb-96eed2a4d506",
   "metadata": {
    "tags": []
   },
   "source": [
    "### Train using RGB, x, y and temp on W6"
   ]
  },
  {
   "cell_type": "code",
   "execution_count": 11,
   "id": "9f96433c-ffc7-40e0-9f48-f3d38b79651b",
   "metadata": {},
   "outputs": [
    {
     "data": {
      "text/html": [
       "<div>\n",
       "<style scoped>\n",
       "    .dataframe tbody tr th:only-of-type {\n",
       "        vertical-align: middle;\n",
       "    }\n",
       "\n",
       "    .dataframe tbody tr th {\n",
       "        vertical-align: top;\n",
       "    }\n",
       "\n",
       "    .dataframe thead th {\n",
       "        text-align: right;\n",
       "    }\n",
       "</style>\n",
       "<table border=\"1\" class=\"dataframe\">\n",
       "  <thead>\n",
       "    <tr style=\"text-align: right;\">\n",
       "      <th></th>\n",
       "      <th>x</th>\n",
       "      <th>y</th>\n",
       "      <th>R</th>\n",
       "      <th>G</th>\n",
       "      <th>B</th>\n",
       "      <th>date</th>\n",
       "      <th>time</th>\n",
       "      <th>orig_name</th>\n",
       "      <th>watershed</th>\n",
       "      <th>temperature</th>\n",
       "      <th>class</th>\n",
       "    </tr>\n",
       "  </thead>\n",
       "  <tbody>\n",
       "    <tr>\n",
       "      <th>0</th>\n",
       "      <td>1403</td>\n",
       "      <td>1265</td>\n",
       "      <td>192</td>\n",
       "      <td>177</td>\n",
       "      <td>218</td>\n",
       "      <td>2019-01-01</td>\n",
       "      <td>11:59:47</td>\n",
       "      <td>Hbwtr_w6_20190101_115947.JPG</td>\n",
       "      <td>w6</td>\n",
       "      <td>35.0</td>\n",
       "      <td>snow_o</td>\n",
       "    </tr>\n",
       "    <tr>\n",
       "      <th>1</th>\n",
       "      <td>1403</td>\n",
       "      <td>1266</td>\n",
       "      <td>192</td>\n",
       "      <td>177</td>\n",
       "      <td>218</td>\n",
       "      <td>2019-01-01</td>\n",
       "      <td>11:59:47</td>\n",
       "      <td>Hbwtr_w6_20190101_115947.JPG</td>\n",
       "      <td>w6</td>\n",
       "      <td>35.0</td>\n",
       "      <td>snow_o</td>\n",
       "    </tr>\n",
       "    <tr>\n",
       "      <th>2</th>\n",
       "      <td>1403</td>\n",
       "      <td>1267</td>\n",
       "      <td>192</td>\n",
       "      <td>177</td>\n",
       "      <td>218</td>\n",
       "      <td>2019-01-01</td>\n",
       "      <td>11:59:47</td>\n",
       "      <td>Hbwtr_w6_20190101_115947.JPG</td>\n",
       "      <td>w6</td>\n",
       "      <td>35.0</td>\n",
       "      <td>snow_o</td>\n",
       "    </tr>\n",
       "    <tr>\n",
       "      <th>3</th>\n",
       "      <td>1403</td>\n",
       "      <td>1268</td>\n",
       "      <td>190</td>\n",
       "      <td>178</td>\n",
       "      <td>218</td>\n",
       "      <td>2019-01-01</td>\n",
       "      <td>11:59:47</td>\n",
       "      <td>Hbwtr_w6_20190101_115947.JPG</td>\n",
       "      <td>w6</td>\n",
       "      <td>35.0</td>\n",
       "      <td>snow_o</td>\n",
       "    </tr>\n",
       "    <tr>\n",
       "      <th>4</th>\n",
       "      <td>1403</td>\n",
       "      <td>1269</td>\n",
       "      <td>190</td>\n",
       "      <td>178</td>\n",
       "      <td>218</td>\n",
       "      <td>2019-01-01</td>\n",
       "      <td>11:59:47</td>\n",
       "      <td>Hbwtr_w6_20190101_115947.JPG</td>\n",
       "      <td>w6</td>\n",
       "      <td>35.0</td>\n",
       "      <td>snow_o</td>\n",
       "    </tr>\n",
       "  </tbody>\n",
       "</table>\n",
       "</div>"
      ],
      "text/plain": [
       "      x     y    R    G    B       date      time  \\\n",
       "0  1403  1265  192  177  218 2019-01-01  11:59:47   \n",
       "1  1403  1266  192  177  218 2019-01-01  11:59:47   \n",
       "2  1403  1267  192  177  218 2019-01-01  11:59:47   \n",
       "3  1403  1268  190  178  218 2019-01-01  11:59:47   \n",
       "4  1403  1269  190  178  218 2019-01-01  11:59:47   \n",
       "\n",
       "                      orig_name watershed  temperature   class  \n",
       "0  Hbwtr_w6_20190101_115947.JPG        w6         35.0  snow_o  \n",
       "1  Hbwtr_w6_20190101_115947.JPG        w6         35.0  snow_o  \n",
       "2  Hbwtr_w6_20190101_115947.JPG        w6         35.0  snow_o  \n",
       "3  Hbwtr_w6_20190101_115947.JPG        w6         35.0  snow_o  \n",
       "4  Hbwtr_w6_20190101_115947.JPG        w6         35.0  snow_o  "
      ]
     },
     "execution_count": 11,
     "metadata": {},
     "output_type": "execute_result"
    }
   ],
   "source": [
    "w_6.head()"
   ]
  },
  {
   "cell_type": "code",
   "execution_count": 7,
   "id": "8fd0326e-e701-43fe-b0b2-ea54d0399288",
   "metadata": {},
   "outputs": [
    {
     "data": {
      "text/html": [
       "<div>\n",
       "<style scoped>\n",
       "    .dataframe tbody tr th:only-of-type {\n",
       "        vertical-align: middle;\n",
       "    }\n",
       "\n",
       "    .dataframe tbody tr th {\n",
       "        vertical-align: top;\n",
       "    }\n",
       "\n",
       "    .dataframe thead th {\n",
       "        text-align: right;\n",
       "    }\n",
       "</style>\n",
       "<table border=\"1\" class=\"dataframe\">\n",
       "  <thead>\n",
       "    <tr style=\"text-align: right;\">\n",
       "      <th></th>\n",
       "      <th>x</th>\n",
       "      <th>y</th>\n",
       "      <th>R</th>\n",
       "      <th>G</th>\n",
       "      <th>B</th>\n",
       "      <th>date</th>\n",
       "      <th>time</th>\n",
       "      <th>orig_name</th>\n",
       "      <th>watershed</th>\n",
       "      <th>temperature</th>\n",
       "      <th>class</th>\n",
       "    </tr>\n",
       "  </thead>\n",
       "  <tbody>\n",
       "    <tr>\n",
       "      <th>0</th>\n",
       "      <td>1403</td>\n",
       "      <td>1265</td>\n",
       "      <td>192</td>\n",
       "      <td>177</td>\n",
       "      <td>218</td>\n",
       "      <td>2019-01-01</td>\n",
       "      <td>11:59:47</td>\n",
       "      <td>Hbwtr_w6_20190101_115947.JPG</td>\n",
       "      <td>w6</td>\n",
       "      <td>35.0</td>\n",
       "      <td>snow_o</td>\n",
       "    </tr>\n",
       "    <tr>\n",
       "      <th>1</th>\n",
       "      <td>1403</td>\n",
       "      <td>1265</td>\n",
       "      <td>192</td>\n",
       "      <td>177</td>\n",
       "      <td>218</td>\n",
       "      <td>2019-01-01</td>\n",
       "      <td>11:59:47</td>\n",
       "      <td>Hbwtr_w6_20190101_115947.JPG</td>\n",
       "      <td>w6</td>\n",
       "      <td>35.0</td>\n",
       "      <td>snow_o</td>\n",
       "    </tr>\n",
       "    <tr>\n",
       "      <th>2</th>\n",
       "      <td>1407</td>\n",
       "      <td>1294</td>\n",
       "      <td>186</td>\n",
       "      <td>175</td>\n",
       "      <td>215</td>\n",
       "      <td>2019-01-01</td>\n",
       "      <td>11:59:47</td>\n",
       "      <td>Hbwtr_w6_20190101_115947.JPG</td>\n",
       "      <td>w6</td>\n",
       "      <td>35.0</td>\n",
       "      <td>snow_o</td>\n",
       "    </tr>\n",
       "    <tr>\n",
       "      <th>3</th>\n",
       "      <td>1412</td>\n",
       "      <td>1290</td>\n",
       "      <td>194</td>\n",
       "      <td>183</td>\n",
       "      <td>223</td>\n",
       "      <td>2019-01-01</td>\n",
       "      <td>11:59:47</td>\n",
       "      <td>Hbwtr_w6_20190101_115947.JPG</td>\n",
       "      <td>w6</td>\n",
       "      <td>35.0</td>\n",
       "      <td>snow_o</td>\n",
       "    </tr>\n",
       "    <tr>\n",
       "      <th>4</th>\n",
       "      <td>1417</td>\n",
       "      <td>1286</td>\n",
       "      <td>188</td>\n",
       "      <td>180</td>\n",
       "      <td>219</td>\n",
       "      <td>2019-01-01</td>\n",
       "      <td>11:59:47</td>\n",
       "      <td>Hbwtr_w6_20190101_115947.JPG</td>\n",
       "      <td>w6</td>\n",
       "      <td>35.0</td>\n",
       "      <td>snow_o</td>\n",
       "    </tr>\n",
       "  </tbody>\n",
       "</table>\n",
       "</div>"
      ],
      "text/plain": [
       "      x     y    R    G    B        date      time  \\\n",
       "0  1403  1265  192  177  218  2019-01-01  11:59:47   \n",
       "1  1403  1265  192  177  218  2019-01-01  11:59:47   \n",
       "2  1407  1294  186  175  215  2019-01-01  11:59:47   \n",
       "3  1412  1290  194  183  223  2019-01-01  11:59:47   \n",
       "4  1417  1286  188  180  219  2019-01-01  11:59:47   \n",
       "\n",
       "                      orig_name watershed  temperature   class  \n",
       "0  Hbwtr_w6_20190101_115947.JPG        w6         35.0  snow_o  \n",
       "1  Hbwtr_w6_20190101_115947.JPG        w6         35.0  snow_o  \n",
       "2  Hbwtr_w6_20190101_115947.JPG        w6         35.0  snow_o  \n",
       "3  Hbwtr_w6_20190101_115947.JPG        w6         35.0  snow_o  \n",
       "4  Hbwtr_w6_20190101_115947.JPG        w6         35.0  snow_o  "
      ]
     },
     "execution_count": 7,
     "metadata": {},
     "output_type": "execute_result"
    }
   ],
   "source": [
    "sample_merged.head()"
   ]
  },
  {
   "cell_type": "code",
   "execution_count": 12,
   "id": "8197066d-a9a8-46a2-9e59-40d6239db042",
   "metadata": {},
   "outputs": [
    {
     "data": {
      "text/plain": [
       "(26603, 7)"
      ]
     },
     "execution_count": 12,
     "metadata": {},
     "output_type": "execute_result"
    }
   ],
   "source": [
    "train_w6_2 = pick_samples(w_6)\n",
    "train_w6_2 = train_w6_2[[\"x\",\"y\",\"R\",\"G\",\"B\", \"temperature\", \"class\"]]\n",
    "train_w6_2.shape"
   ]
  },
  {
   "cell_type": "code",
   "execution_count": 11,
   "id": "f1ad4676-d3b3-400e-b8c1-e8470bfb9a56",
   "metadata": {},
   "outputs": [
    {
     "data": {
      "text/html": [
       "<div>\n",
       "<style scoped>\n",
       "    .dataframe tbody tr th:only-of-type {\n",
       "        vertical-align: middle;\n",
       "    }\n",
       "\n",
       "    .dataframe tbody tr th {\n",
       "        vertical-align: top;\n",
       "    }\n",
       "\n",
       "    .dataframe thead th {\n",
       "        text-align: right;\n",
       "    }\n",
       "</style>\n",
       "<table border=\"1\" class=\"dataframe\">\n",
       "  <thead>\n",
       "    <tr style=\"text-align: right;\">\n",
       "      <th></th>\n",
       "      <th>x</th>\n",
       "      <th>y</th>\n",
       "      <th>R</th>\n",
       "      <th>G</th>\n",
       "      <th>B</th>\n",
       "      <th>date</th>\n",
       "      <th>time</th>\n",
       "      <th>orig_name</th>\n",
       "      <th>watershed</th>\n",
       "      <th>temperature</th>\n",
       "      <th>class</th>\n",
       "    </tr>\n",
       "  </thead>\n",
       "  <tbody>\n",
       "    <tr>\n",
       "      <th>0</th>\n",
       "      <td>1403</td>\n",
       "      <td>1265</td>\n",
       "      <td>192</td>\n",
       "      <td>177</td>\n",
       "      <td>218</td>\n",
       "      <td>2019-01-01</td>\n",
       "      <td>11:59:47</td>\n",
       "      <td>Hbwtr_w6_20190101_115947.JPG</td>\n",
       "      <td>w6</td>\n",
       "      <td>35.0</td>\n",
       "      <td>snow_o</td>\n",
       "    </tr>\n",
       "    <tr>\n",
       "      <th>1</th>\n",
       "      <td>1403</td>\n",
       "      <td>1265</td>\n",
       "      <td>192</td>\n",
       "      <td>177</td>\n",
       "      <td>218</td>\n",
       "      <td>2019-01-01</td>\n",
       "      <td>11:59:47</td>\n",
       "      <td>Hbwtr_w6_20190101_115947.JPG</td>\n",
       "      <td>w6</td>\n",
       "      <td>35.0</td>\n",
       "      <td>snow_o</td>\n",
       "    </tr>\n",
       "    <tr>\n",
       "      <th>2</th>\n",
       "      <td>1407</td>\n",
       "      <td>1294</td>\n",
       "      <td>186</td>\n",
       "      <td>175</td>\n",
       "      <td>215</td>\n",
       "      <td>2019-01-01</td>\n",
       "      <td>11:59:47</td>\n",
       "      <td>Hbwtr_w6_20190101_115947.JPG</td>\n",
       "      <td>w6</td>\n",
       "      <td>35.0</td>\n",
       "      <td>snow_o</td>\n",
       "    </tr>\n",
       "    <tr>\n",
       "      <th>3</th>\n",
       "      <td>1412</td>\n",
       "      <td>1290</td>\n",
       "      <td>194</td>\n",
       "      <td>183</td>\n",
       "      <td>223</td>\n",
       "      <td>2019-01-01</td>\n",
       "      <td>11:59:47</td>\n",
       "      <td>Hbwtr_w6_20190101_115947.JPG</td>\n",
       "      <td>w6</td>\n",
       "      <td>35.0</td>\n",
       "      <td>snow_o</td>\n",
       "    </tr>\n",
       "    <tr>\n",
       "      <th>4</th>\n",
       "      <td>1417</td>\n",
       "      <td>1286</td>\n",
       "      <td>188</td>\n",
       "      <td>180</td>\n",
       "      <td>219</td>\n",
       "      <td>2019-01-01</td>\n",
       "      <td>11:59:47</td>\n",
       "      <td>Hbwtr_w6_20190101_115947.JPG</td>\n",
       "      <td>w6</td>\n",
       "      <td>35.0</td>\n",
       "      <td>snow_o</td>\n",
       "    </tr>\n",
       "  </tbody>\n",
       "</table>\n",
       "</div>"
      ],
      "text/plain": [
       "      x     y    R    G    B        date      time  \\\n",
       "0  1403  1265  192  177  218  2019-01-01  11:59:47   \n",
       "1  1403  1265  192  177  218  2019-01-01  11:59:47   \n",
       "2  1407  1294  186  175  215  2019-01-01  11:59:47   \n",
       "3  1412  1290  194  183  223  2019-01-01  11:59:47   \n",
       "4  1417  1286  188  180  219  2019-01-01  11:59:47   \n",
       "\n",
       "                      orig_name watershed  temperature   class  \n",
       "0  Hbwtr_w6_20190101_115947.JPG        w6         35.0  snow_o  \n",
       "1  Hbwtr_w6_20190101_115947.JPG        w6         35.0  snow_o  \n",
       "2  Hbwtr_w6_20190101_115947.JPG        w6         35.0  snow_o  \n",
       "3  Hbwtr_w6_20190101_115947.JPG        w6         35.0  snow_o  \n",
       "4  Hbwtr_w6_20190101_115947.JPG        w6         35.0  snow_o  "
      ]
     },
     "execution_count": 11,
     "metadata": {},
     "output_type": "execute_result"
    }
   ],
   "source": [
    "sample_merged.head()"
   ]
  },
  {
   "cell_type": "code",
   "execution_count": null,
   "id": "8a367f70-3074-4826-8d6a-5ca28dfe03a6",
   "metadata": {},
   "outputs": [],
   "source": []
  },
  {
   "cell_type": "code",
   "execution_count": 31,
   "id": "c1cfb1ae-9957-45ea-9928-1b683b0a80e9",
   "metadata": {},
   "outputs": [
    {
     "data": {
      "text/plain": [
       "(26603, 11)"
      ]
     },
     "execution_count": 31,
     "metadata": {},
     "output_type": "execute_result"
    }
   ],
   "source": [
    "sampled_df.shape"
   ]
  },
  {
   "cell_type": "code",
   "execution_count": 13,
   "id": "e4480638-a4c9-4a9c-b86c-c63c5e25b22c",
   "metadata": {},
   "outputs": [
    {
     "data": {
      "text/plain": [
       "(26603, 7)"
      ]
     },
     "execution_count": 13,
     "metadata": {},
     "output_type": "execute_result"
    }
   ],
   "source": [
    "train_w6_2.shape"
   ]
  },
  {
   "cell_type": "code",
   "execution_count": 19,
   "id": "0f321525-8e85-4efe-bfb0-b7c5ecfa22cf",
   "metadata": {},
   "outputs": [],
   "source": [
    "\n"
   ]
  },
  {
   "cell_type": "code",
   "execution_count": 26,
   "id": "539268ce-f5d4-40bf-8d6d-ebad1dce97a3",
   "metadata": {},
   "outputs": [
    {
     "name": "stdout",
     "output_type": "stream",
     "text": [
      "                  precision    recall  f1-score   support\n",
      "\n",
      "           ice_o       0.89      0.57      0.70        54\n",
      "           ice_t       0.81      0.79      0.80       310\n",
      "       leaf_fall       0.87      0.76      0.81       365\n",
      "      leaf_green       0.95      0.78      0.86        77\n",
      "        leaf_sub       0.80      0.88      0.84       577\n",
      "      open_water       0.79      0.81      0.80       412\n",
      " open_water_dark       0.86      0.93      0.89       487\n",
      "open_water_green       0.83      0.57      0.68        70\n",
      "           other       1.00      0.29      0.45        17\n",
      "          riffle       0.73      0.42      0.53        19\n",
      "            rock       0.89      0.90      0.90       591\n",
      "          snow_o       0.98      0.99      0.98      2232\n",
      "          snow_t       0.90      0.66      0.76       106\n",
      "\n",
      "        accuracy                           0.90      5317\n",
      "       macro avg       0.87      0.72      0.77      5317\n",
      "    weighted avg       0.90      0.90      0.90      5317\n",
      "\n",
      "                    0\n",
      "B            0.307478\n",
      "G            0.175775\n",
      "R            0.150825\n",
      "y            0.140436\n",
      "temperature  0.115286\n",
      "x            0.110200\n"
     ]
    }
   ],
   "source": [
    "train_w6_2=train_w6_2.dropna()\n",
    "rfc, rfc_pred,feature_val,  X_train, X_test, y_train, y_test = split_fit_basic_report(train_w6_2)"
   ]
  },
  {
   "cell_type": "code",
   "execution_count": 18,
   "id": "d585d6ba-3672-4433-9bcf-cdcc3cc787eb",
   "metadata": {
    "collapsed": true,
    "jupyter": {
     "outputs_hidden": true
    },
    "tags": []
   },
   "outputs": [
    {
     "data": {
      "image/png": "[encoded data removed]",
      "text/plain": [
       "<Figure size 1296x720 with 2 Axes>"
      ]
     },
     "metadata": {
      "needs_background": "light"
     },
     "output_type": "display_data"
    }
   ],
   "source": [
    "plot_cm(y_test, rfc_pred)"
   ]
  },
  {
   "cell_type": "markdown",
   "id": "66555055-346e-4f23-be5a-57f09525eebd",
   "metadata": {},
   "source": [
    " Max accuracy found - 0.9\n",
    " \n",
    " Use Grid search for best paramters"
   ]
  },
  {
   "cell_type": "code",
   "execution_count": 28,
   "id": "a7115f5c-14c5-4295-b00a-5af90cab3aff",
   "metadata": {},
   "outputs": [],
   "source": [
    "n_cpus = os.cpu_count()\n",
    "# grid search create dict\n",
    "# Number of trees in random forest\n",
    "n_estimators = np.linspace(100, 3000, int((3000-100)/200) + 1, dtype=int)\n",
    "# Number of features to consider at every split\n",
    "max_features = ['auto', 'sqrt']\n",
    "# Maximum number of levels in tree\n",
    "max_depth = [1, 5, 10, 20, 50, 75, 100, 150, 200]\n",
    "# Minimum number of samples required to split a node\n",
    "min_samples_split = [2, 5, 10, 15, 20, 30]\n",
    "# Minimum number of samples required at each leaf node\n",
    "min_samples_leaf = [1, 2, 3, 4]\n",
    "# Method of selecting samples for training each tree\n",
    "bootstrap = [True, False]\n",
    "# Criterion\n",
    "criterion=['gini', 'entropy']\n",
    "random_grid = {'n_estimators': n_estimators,\n",
    "#                'max_features': max_features,\n",
    "               'max_depth': max_depth,\n",
    "               'min_samples_split': min_samples_split,\n",
    "               'min_samples_leaf': min_samples_leaf,\n",
    "               'bootstrap': bootstrap,\n",
    "               'criterion': criterion}\n",
    "rf_base = RandomForestClassifier()\n",
    "rf_random = RandomizedSearchCV(estimator = rf_base,\n",
    "                               param_distributions = random_grid,\n",
    "                               n_iter = 50, cv = 3,\n",
    "                               verbose=4,\n",
    "                               random_state=42, n_jobs = n_cpus-1,\n",
    "                               scoring = \"accuracy\")"
   ]
  },
  {
   "cell_type": "code",
   "execution_count": 29,
   "id": "d08c836e-d515-43bc-8c47-b0e3667395ae",
   "metadata": {},
   "outputs": [
    {
     "name": "stdout",
     "output_type": "stream",
     "text": [
      "Fitting 3 folds for each of 50 candidates, totalling 150 fits\n"
     ]
    },
    {
     "data": {
      "text/plain": [
       "RandomizedSearchCV(cv=3, estimator=RandomForestClassifier(), n_iter=50,\n",
       "                   n_jobs=7,\n",
       "                   param_distributions={'bootstrap': [True, False],\n",
       "                                        'criterion': ['gini', 'entropy'],\n",
       "                                        'max_depth': [1, 5, 10, 20, 50, 75, 100,\n",
       "                                                      150, 200],\n",
       "                                        'min_samples_leaf': [1, 2, 3, 4],\n",
       "                                        'min_samples_split': [2, 5, 10, 15, 20,\n",
       "                                                              30],\n",
       "                                        'n_estimators': array([ 100,  307,  514,  721,  928, 1135, 1342, 1550, 1757, 1964, 2171,\n",
       "       2378, 2585, 2792, 3000])},\n",
       "                   random_state=42, scoring='accuracy', verbose=4)"
      ]
     },
     "execution_count": 29,
     "metadata": {},
     "output_type": "execute_result"
    }
   ],
   "source": [
    "rf_random.fit(X_train, y_train)"
   ]
  },
  {
   "cell_type": "code",
   "execution_count": 30,
   "id": "ed65ebc9-94ae-4685-ba04-79e4c82b5921",
   "metadata": {},
   "outputs": [
    {
     "data": {
      "text/plain": [
       "{'n_estimators': 2378,\n",
       " 'min_samples_split': 5,\n",
       " 'min_samples_leaf': 1,\n",
       " 'max_depth': 100,\n",
       " 'criterion': 'gini',\n",
       " 'bootstrap': False}"
      ]
     },
     "execution_count": 30,
     "metadata": {},
     "output_type": "execute_result"
    }
   ],
   "source": [
    "rf_random.best_params_"
   ]
  },
  {
   "cell_type": "code",
   "execution_count": 32,
   "id": "a2c1ce31-5296-45df-a874-c50ceac16678",
   "metadata": {},
   "outputs": [
    {
     "name": "stdout",
     "output_type": "stream",
     "text": [
      "1.0\n",
      "0.902388564980252\n"
     ]
    }
   ],
   "source": [
    "# training error\n",
    "print (rf_random.score(X_train, y_train))\n",
    "# testing error\n",
    "print(rf_random.score(X_test, y_test))"
   ]
  },
  {
   "cell_type": "code",
   "execution_count": 33,
   "id": "d63634e8-b1d6-4e95-9be6-4c70ffbd06f5",
   "metadata": {},
   "outputs": [],
   "source": [
    "# build up on the randomized cv search and find better params\n",
    "\n",
    "param_grid = {\n",
    "    'n_estimators': np.linspace(2350, 2400, 5, dtype = int),\n",
    "    'max_depth': [50,70,100,110, 120],\n",
    "    'min_samples_split': [4,5,6],\n",
    "    'min_samples_leaf': [1, 2]\n",
    "}\n",
    "\n",
    "# Base model\n",
    "rf_grid = RandomForestClassifier(criterion = 'entropy', bootstrap = True)\n",
    "# Instantiate the grid search model\n",
    "grid_rf_search = GridSearchCV(estimator = rf_grid, param_grid = param_grid, \n",
    "                          cv = 5, n_jobs = n_cpus-1, verbose = 3)\n"
   ]
  },
  {
   "cell_type": "code",
   "execution_count": null,
   "id": "e74122cb-29d4-4faf-8d0f-7e60a45fb896",
   "metadata": {},
   "outputs": [
    {
     "name": "stdout",
     "output_type": "stream",
     "text": [
      "Fitting 5 folds for each of 150 candidates, totalling 750 fits\n"
     ]
    }
   ],
   "source": [
    "grid_rf_search.fit(X_train, y_train)"
   ]
  },
  {
   "cell_type": "code",
   "execution_count": 62,
   "id": "341b5f6a-32c3-4daf-8407-075c6c9cb143",
   "metadata": {},
   "outputs": [
    {
     "data": {
      "text/plain": [
       "{'max_depth': 15,\n",
       " 'min_samples_leaf': 1,\n",
       " 'min_samples_split': 2,\n",
       " 'n_estimators': 1100}"
      ]
     },
     "execution_count": 62,
     "metadata": {},
     "output_type": "execute_result"
    }
   ],
   "source": [
    "best_rf_grid = grid_rf_search.best_estimator_\n",
    "grid_rf_search.best_params_"
   ]
  },
  {
   "cell_type": "code",
   "execution_count": 64,
   "id": "29c0fb6e-9db5-4f6e-bb4f-e44769c6da5a",
   "metadata": {},
   "outputs": [
    {
     "name": "stdout",
     "output_type": "stream",
     "text": [
      "1.0\n",
      "0.6130718954248366\n"
     ]
    }
   ],
   "source": [
    "# training error\n",
    "print (grid_rf_search.score(X_train, y_train))\n",
    "# testing error\n",
    "print(grid_rf_search.score(X_test, y_test))"
   ]
  },
  {
   "cell_type": "code",
   "execution_count": null,
   "id": "2c3d7480-62a0-4a8e-aeef-6d7e9e3e5f55",
   "metadata": {},
   "outputs": [],
   "source": [
    "pd.DataFrame(best_rf_grid.feature_importances_, index = X_train.columns)"
   ]
  },
  {
   "cell_type": "markdown",
   "id": "8e05c36f-2570-42c2-a2e5-d4cae10c5922",
   "metadata": {
    "tags": []
   },
   "source": [
    "## Tran and test using W3"
   ]
  },
  {
   "cell_type": "code",
   "execution_count": null,
   "id": "f7a55cd6-776d-4254-933a-a1065bc76e2b",
   "metadata": {},
   "outputs": [],
   "source": []
  },
  {
   "cell_type": "markdown",
   "id": "1056510a-937b-44a3-ba04-52fee6cfdea6",
   "metadata": {
    "jp-MarkdownHeadingCollapsed": true,
    "tags": []
   },
   "source": [
    "### Train only using RGB"
   ]
  },
  {
   "cell_type": "code",
   "execution_count": 78,
   "id": "178a9242-080b-45fb-a050-bacfc955fd36",
   "metadata": {},
   "outputs": [
    {
     "data": {
      "text/plain": [
       "(813257, 11)"
      ]
     },
     "execution_count": 78,
     "metadata": {},
     "output_type": "execute_result"
    }
   ],
   "source": [
    "w_3[\"date\"] = pd.to_datetime(w_3[\"date\"])\n",
    "w_3 = w_3.dropna()\n",
    "w_3 = w_3.drop_duplicates()\n",
    "w_3.shape"
   ]
  },
  {
   "cell_type": "code",
   "execution_count": 84,
   "id": "bb4017ac-aefd-4a80-9ada-14ef27f499f4",
   "metadata": {},
   "outputs": [
    {
     "data": {
      "text/html": [
       "<div>\n",
       "<style scoped>\n",
       "    .dataframe tbody tr th:only-of-type {\n",
       "        vertical-align: middle;\n",
       "    }\n",
       "\n",
       "    .dataframe tbody tr th {\n",
       "        vertical-align: top;\n",
       "    }\n",
       "\n",
       "    .dataframe thead th {\n",
       "        text-align: right;\n",
       "    }\n",
       "</style>\n",
       "<table border=\"1\" class=\"dataframe\">\n",
       "  <thead>\n",
       "    <tr style=\"text-align: right;\">\n",
       "      <th></th>\n",
       "      <th>R</th>\n",
       "      <th>G</th>\n",
       "      <th>B</th>\n",
       "      <th>class</th>\n",
       "    </tr>\n",
       "  </thead>\n",
       "  <tbody>\n",
       "    <tr>\n",
       "      <th>0</th>\n",
       "      <td>30</td>\n",
       "      <td>32</td>\n",
       "      <td>47</td>\n",
       "      <td>open_water_dark</td>\n",
       "    </tr>\n",
       "    <tr>\n",
       "      <th>1</th>\n",
       "      <td>20</td>\n",
       "      <td>22</td>\n",
       "      <td>37</td>\n",
       "      <td>open_water_dark</td>\n",
       "    </tr>\n",
       "    <tr>\n",
       "      <th>2</th>\n",
       "      <td>15</td>\n",
       "      <td>17</td>\n",
       "      <td>32</td>\n",
       "      <td>open_water_dark</td>\n",
       "    </tr>\n",
       "    <tr>\n",
       "      <th>3</th>\n",
       "      <td>16</td>\n",
       "      <td>18</td>\n",
       "      <td>33</td>\n",
       "      <td>open_water_dark</td>\n",
       "    </tr>\n",
       "    <tr>\n",
       "      <th>4</th>\n",
       "      <td>18</td>\n",
       "      <td>21</td>\n",
       "      <td>30</td>\n",
       "      <td>open_water_dark</td>\n",
       "    </tr>\n",
       "    <tr>\n",
       "      <th>...</th>\n",
       "      <td>...</td>\n",
       "      <td>...</td>\n",
       "      <td>...</td>\n",
       "      <td>...</td>\n",
       "    </tr>\n",
       "    <tr>\n",
       "      <th>1102364</th>\n",
       "      <td>131</td>\n",
       "      <td>132</td>\n",
       "      <td>98</td>\n",
       "      <td>open_water_green</td>\n",
       "    </tr>\n",
       "    <tr>\n",
       "      <th>1102365</th>\n",
       "      <td>122</td>\n",
       "      <td>124</td>\n",
       "      <td>85</td>\n",
       "      <td>open_water_green</td>\n",
       "    </tr>\n",
       "    <tr>\n",
       "      <th>1102366</th>\n",
       "      <td>135</td>\n",
       "      <td>138</td>\n",
       "      <td>95</td>\n",
       "      <td>open_water_green</td>\n",
       "    </tr>\n",
       "    <tr>\n",
       "      <th>1102367</th>\n",
       "      <td>154</td>\n",
       "      <td>157</td>\n",
       "      <td>110</td>\n",
       "      <td>open_water_green</td>\n",
       "    </tr>\n",
       "    <tr>\n",
       "      <th>1102368</th>\n",
       "      <td>154</td>\n",
       "      <td>158</td>\n",
       "      <td>107</td>\n",
       "      <td>open_water_green</td>\n",
       "    </tr>\n",
       "  </tbody>\n",
       "</table>\n",
       "<p>813257 rows × 4 columns</p>\n",
       "</div>"
      ],
      "text/plain": [
       "           R    G    B             class\n",
       "0         30   32   47   open_water_dark\n",
       "1         20   22   37   open_water_dark\n",
       "2         15   17   32   open_water_dark\n",
       "3         16   18   33   open_water_dark\n",
       "4         18   21   30   open_water_dark\n",
       "...      ...  ...  ...               ...\n",
       "1102364  131  132   98  open_water_green\n",
       "1102365  122  124   85  open_water_green\n",
       "1102366  135  138   95  open_water_green\n",
       "1102367  154  157  110  open_water_green\n",
       "1102368  154  158  107  open_water_green\n",
       "\n",
       "[813257 rows x 4 columns]"
      ]
     },
     "execution_count": 84,
     "metadata": {},
     "output_type": "execute_result"
    }
   ],
   "source": [
    "w_3 = w_3[[\"R\",\"G\",\"B\", \"class\"]]\n",
    "w_3"
   ]
  },
  {
   "cell_type": "code",
   "execution_count": 85,
   "id": "8d47a8b2-c97d-4abd-a589-8d1d1080dc91",
   "metadata": {},
   "outputs": [],
   "source": [
    "X = w_3.drop('class',axis=1)\n",
    "y = w_3['class']\n",
    "X_train, X_test, y_train, y_test = train_test_split(X, y, test_size=0.30)\n"
   ]
  },
  {
   "cell_type": "code",
   "execution_count": 86,
   "id": "ac33fda6-7a5c-422c-bfd9-9f16ee553165",
   "metadata": {},
   "outputs": [
    {
     "data": {
      "text/plain": [
       "RandomForestClassifier()"
      ]
     },
     "execution_count": 86,
     "metadata": {},
     "output_type": "execute_result"
    }
   ],
   "source": [
    "rfc = RandomForestClassifier(n_estimators=100)\n",
    "rfc.fit(X_train, y_train)"
   ]
  },
  {
   "cell_type": "code",
   "execution_count": 87,
   "id": "0f3b156f-8b83-4986-8076-c52f0eb46d58",
   "metadata": {},
   "outputs": [],
   "source": [
    "rfc_pred = rfc.predict(X_test)\n"
   ]
  },
  {
   "cell_type": "code",
   "execution_count": 88,
   "id": "ed993b5a-c1e7-4b6f-aaf9-458d651ddac8",
   "metadata": {},
   "outputs": [
    {
     "name": "stdout",
     "output_type": "stream",
     "text": [
      "                  precision    recall  f1-score   support\n",
      "\n",
      "           ice_o       0.84      0.89      0.87     19334\n",
      "           ice_t       0.78      0.74      0.76     28896\n",
      " open_water_dark       0.83      0.90      0.86    118873\n",
      "open_water_green       0.77      0.62      0.69     45118\n",
      "          riffle       0.79      0.80      0.80      4009\n",
      "          snow_o       0.96      0.98      0.97     23097\n",
      "          snow_t       0.68      0.51      0.58      4651\n",
      "\n",
      "        accuracy                           0.83    243978\n",
      "       macro avg       0.81      0.78      0.79    243978\n",
      "    weighted avg       0.82      0.83      0.82    243978\n",
      "\n"
     ]
    }
   ],
   "source": [
    "print(classification_report(y_test,rfc_pred))\n"
   ]
  },
  {
   "cell_type": "code",
   "execution_count": 30,
   "id": "b46823aa",
   "metadata": {},
   "outputs": [
    {
     "data": {
      "text/plain": [
       "Hbwtr_w6_20181013_120459.JPG    34063\n",
       "Hbwtr_w6_20181014_120456.JPG    21922\n",
       "Hbwtr_w6_20181016_120450.JPG    16894\n",
       "Hbwtr_w6_20181021_115934.JPG    14114\n",
       "Hbwtr_w6_20181023_115928.JPG    10771\n",
       "                                ...  \n",
       "Hbwtr_w6_20190309_120109.JPG        4\n",
       "Hbwtr_w6_20190227_120103.JPG        3\n",
       "Hbwtr_w6_20190328_120615.JPG        3\n",
       "Hbwtr_w6_20191221_115858.JPG        3\n",
       "Hbwtr_w6_20190313_120110.JPG        2\n",
       "Name: orig_name, Length: 176, dtype: int64"
      ]
     },
     "execution_count": 30,
     "metadata": {},
     "output_type": "execute_result"
    }
   ],
   "source": [
    "w_6.orig_name.value_counts()"
   ]
  },
  {
   "cell_type": "code",
   "execution_count": 82,
   "id": "86adc7b0",
   "metadata": {},
   "outputs": [],
   "source": []
  },
  {
   "cell_type": "code",
   "execution_count": 83,
   "id": "ee0854cc",
   "metadata": {},
   "outputs": [
    {
     "data": {
      "text/html": [
       "<div>\n",
       "<style scoped>\n",
       "    .dataframe tbody tr th:only-of-type {\n",
       "        vertical-align: middle;\n",
       "    }\n",
       "\n",
       "    .dataframe tbody tr th {\n",
       "        vertical-align: top;\n",
       "    }\n",
       "\n",
       "    .dataframe thead th {\n",
       "        text-align: right;\n",
       "    }\n",
       "</style>\n",
       "<table border=\"1\" class=\"dataframe\">\n",
       "  <thead>\n",
       "    <tr style=\"text-align: right;\">\n",
       "      <th></th>\n",
       "      <th>x</th>\n",
       "      <th>y</th>\n",
       "      <th>R</th>\n",
       "      <th>G</th>\n",
       "      <th>B</th>\n",
       "      <th>date</th>\n",
       "      <th>time</th>\n",
       "      <th>orig_name</th>\n",
       "      <th>watershed</th>\n",
       "      <th>temperature</th>\n",
       "      <th>class</th>\n",
       "    </tr>\n",
       "  </thead>\n",
       "  <tbody>\n",
       "    <tr>\n",
       "      <th>0</th>\n",
       "      <td>1403</td>\n",
       "      <td>1265</td>\n",
       "      <td>192</td>\n",
       "      <td>177</td>\n",
       "      <td>218</td>\n",
       "      <td>2019-01-01</td>\n",
       "      <td>11:59:47</td>\n",
       "      <td>Hbwtr_w6_20190101_115947.JPG</td>\n",
       "      <td>w6</td>\n",
       "      <td>35F</td>\n",
       "      <td>snow_o</td>\n",
       "    </tr>\n",
       "    <tr>\n",
       "      <th>16153</th>\n",
       "      <td>1094</td>\n",
       "      <td>1352</td>\n",
       "      <td>31</td>\n",
       "      <td>18</td>\n",
       "      <td>35</td>\n",
       "      <td>2019-01-02</td>\n",
       "      <td>11:59:44</td>\n",
       "      <td>Hbwtr_w6_20190102_115944.JPG</td>\n",
       "      <td>w6</td>\n",
       "      <td>26F</td>\n",
       "      <td>open_water_dark</td>\n",
       "    </tr>\n",
       "    <tr>\n",
       "      <th>84181</th>\n",
       "      <td>976</td>\n",
       "      <td>1369</td>\n",
       "      <td>57</td>\n",
       "      <td>38</td>\n",
       "      <td>42</td>\n",
       "      <td>2019-01-07</td>\n",
       "      <td>11:59:28</td>\n",
       "      <td>Hbwtr_w6_20190107_115928.JPG</td>\n",
       "      <td>w6</td>\n",
       "      <td>21F</td>\n",
       "      <td>open_water_dark</td>\n",
       "    </tr>\n",
       "    <tr>\n",
       "      <th>98474</th>\n",
       "      <td>1128</td>\n",
       "      <td>1499</td>\n",
       "      <td>163</td>\n",
       "      <td>158</td>\n",
       "      <td>199</td>\n",
       "      <td>2019-01-08</td>\n",
       "      <td>12:04:25</td>\n",
       "      <td>Hbwtr_w6_20190108_120425.JPG</td>\n",
       "      <td>w6</td>\n",
       "      <td>23F</td>\n",
       "      <td>snow_o</td>\n",
       "    </tr>\n",
       "    <tr>\n",
       "      <th>126166</th>\n",
       "      <td>1067</td>\n",
       "      <td>1400</td>\n",
       "      <td>202</td>\n",
       "      <td>190</td>\n",
       "      <td>228</td>\n",
       "      <td>2019-01-10</td>\n",
       "      <td>11:59:18</td>\n",
       "      <td>Hbwtr_w6_20190110_115918.JPG</td>\n",
       "      <td>w6</td>\n",
       "      <td>26F</td>\n",
       "      <td>snow_o</td>\n",
       "    </tr>\n",
       "  </tbody>\n",
       "</table>\n",
       "</div>"
      ],
      "text/plain": [
       "           x     y    R    G    B       date      time  \\\n",
       "0       1403  1265  192  177  218 2019-01-01  11:59:47   \n",
       "16153   1094  1352   31   18   35 2019-01-02  11:59:44   \n",
       "84181    976  1369   57   38   42 2019-01-07  11:59:28   \n",
       "98474   1128  1499  163  158  199 2019-01-08  12:04:25   \n",
       "126166  1067  1400  202  190  228 2019-01-10  11:59:18   \n",
       "\n",
       "                           orig_name watershed temperature            class  \n",
       "0       Hbwtr_w6_20190101_115947.JPG        w6         35F           snow_o  \n",
       "16153   Hbwtr_w6_20190102_115944.JPG        w6         26F  open_water_dark  \n",
       "84181   Hbwtr_w6_20190107_115928.JPG        w6         21F  open_water_dark  \n",
       "98474   Hbwtr_w6_20190108_120425.JPG        w6         23F           snow_o  \n",
       "126166  Hbwtr_w6_20190110_115918.JPG        w6         26F           snow_o  "
      ]
     },
     "execution_count": 83,
     "metadata": {},
     "output_type": "execute_result"
    }
   ],
   "source": [
    "sampled_df.head()"
   ]
  },
  {
   "cell_type": "code",
   "execution_count": null,
   "id": "b07c981c",
   "metadata": {},
   "outputs": [],
   "source": []
  },
  {
   "cell_type": "code",
   "execution_count": 31,
   "id": "5379d41c-e343-4472-96d5-c60f7f2d762c",
   "metadata": {},
   "outputs": [],
   "source": [
    "df_1  = w_6[[\"R\",\"G\",\"B\", \"class\"]]\n",
    "df_1= df_1.fillna(value=np.nan)\n",
    "df_1 = df_1.dropna()\n",
    "# no x and y\n",
    "df_1 = df_1.drop_duplicates()"
   ]
  },
  {
   "cell_type": "code",
   "execution_count": 28,
   "id": "00547014-8e8d-48fa-afe3-2315b0f114c8",
   "metadata": {},
   "outputs": [],
   "source": [
    "# Train test split\n",
    "from sklearn.model_selection import train_test_split\n",
    "X = df_1.drop('class',axis=1)\n",
    "y = df_1['class']\n",
    "X_train, X_test, y_train, y_test = train_test_split(X, y, test_size=0.70)"
   ]
  },
  {
   "cell_type": "code",
   "execution_count": 29,
   "id": "8f0b2d29-9958-48b4-8838-ca904e9e88fd",
   "metadata": {},
   "outputs": [
    {
     "data": {
      "text/plain": [
       "(242355, 3)"
      ]
     },
     "execution_count": 29,
     "metadata": {},
     "output_type": "execute_result"
    }
   ],
   "source": [
    "X_train.shape"
   ]
  },
  {
   "cell_type": "code",
   "execution_count": 49,
   "id": "7f058d89-866a-4df6-8212-c35f5d7bfa95",
   "metadata": {},
   "outputs": [
    {
     "data": {
      "text/plain": [
       "RandomForestClassifier(max_samples=0.5)"
      ]
     },
     "execution_count": 49,
     "metadata": {},
     "output_type": "execute_result"
    }
   ],
   "source": [
    "from sklearn.ensemble import RandomForestClassifier\n",
    "from sklearn.metrics import classification_report,confusion_matrix\n",
    "from sklearn.metrics import ConfusionMatrixDisplay\n",
    "\n",
    "rfc = RandomForestClassifier(n_estimators=100,\n",
    "                            # max_depth = 8,\n",
    "                            max_samples = 0.5)\n",
    "rfc.fit(X_train, y_train)"
   ]
  },
  {
   "cell_type": "code",
   "execution_count": 50,
   "id": "4cd2ff08-029a-446c-8c81-40f75a35eb53",
   "metadata": {},
   "outputs": [],
   "source": [
    "# predict on test data\n",
    "rfc_pred = rfc.predict(X_test)"
   ]
  },
  {
   "cell_type": "code",
   "execution_count": 51,
   "id": "88118824-f8da-4759-ad9f-0c545826bbaf",
   "metadata": {},
   "outputs": [
    {
     "name": "stdout",
     "output_type": "stream",
     "text": [
      "                  precision    recall  f1-score   support\n",
      "\n",
      "           ice_o       0.11      0.09      0.10      6475\n",
      "           ice_t       0.26      0.29      0.27     32756\n",
      "       leaf_fall       0.47      0.50      0.48    167040\n",
      "      leaf_green       0.16      0.10      0.12      9995\n",
      "        leaf_sub       0.31      0.34      0.33    160969\n",
      "      open_water       0.09      0.09      0.09     45820\n",
      " open_water_dark       0.08      0.07      0.07     21134\n",
      "open_water_green       0.05      0.04      0.05     30847\n",
      "           other       0.10      0.06      0.07     10220\n",
      "          riffle       0.26      0.20      0.23      7805\n",
      "            rock       0.17      0.16      0.17     46946\n",
      "          snow_o       0.56      0.63      0.59     15179\n",
      "          snow_t       0.06      0.05      0.06     10311\n",
      "\n",
      "        accuracy                           0.31    565497\n",
      "       macro avg       0.21      0.20      0.20    565497\n",
      "    weighted avg       0.30      0.31      0.30    565497\n",
      "\n"
     ]
    }
   ],
   "source": [
    "print(classification_report(y_test,rfc_pred))"
   ]
  },
  {
   "cell_type": "code",
   "execution_count": 18,
   "id": "cfa4b2c0-0952-4e43-8891-a223fb019821",
   "metadata": {},
   "outputs": [],
   "source": [
    "cm = confusion_matrix(y_test,rfc_pred)"
   ]
  },
  {
   "cell_type": "code",
   "execution_count": 25,
   "id": "6940153c-945e-47eb-9fdd-9c405aaa5784",
   "metadata": {},
   "outputs": [
    {
     "data": {
      "image/png": "[encoded data removed]",
      "text/plain": [
       "<Figure size 1080x1440 with 2 Axes>"
      ]
     },
     "metadata": {
      "needs_background": "light"
     },
     "output_type": "display_data"
    }
   ],
   "source": [
    "from sklearn.metrics import ConfusionMatrixDisplay\n",
    "p,ax = plt.subplots(figsize=(15, 20))\n",
    "\n",
    "ConfusionMatrixDisplay.from_predictions(y_test, rfc_pred, ax=ax)\n",
    "plt.show()"
   ]
  },
  {
   "cell_type": "code",
   "execution_count": 59,
   "id": "d4b91b47-a602-4e3b-b4f4-2f31ef68ff44",
   "metadata": {},
   "outputs": [],
   "source": [
    "# train on w6_1 and try\n",
    "df_2  = w_6_1[[\"x\", \"y\",\"R\",\"G\",\"B\", \"class\"]]\n",
    "df_2= df_2.fillna(value=np.nan)\n",
    "df_2 = df_2.dropna()\n",
    "# no x and y\n",
    "df_2 = df_2.drop_duplicates()"
   ]
  },
  {
   "cell_type": "code",
   "execution_count": 60,
   "id": "3ff26414-4bbf-4fdb-9a2a-234eb13962c8",
   "metadata": {},
   "outputs": [
    {
     "data": {
      "text/plain": [
       "RandomForestClassifier()"
      ]
     },
     "execution_count": 60,
     "metadata": {},
     "output_type": "execute_result"
    }
   ],
   "source": [
    "X = df_2.drop('class',axis=1)\n",
    "y = df_2['class']\n",
    "X_train, X_test, y_train, y_test = train_test_split(X, y, test_size=0.30)\n",
    "rfc = RandomForestClassifier(n_estimators=100)\n",
    "                            # max_depth = 8,\n",
    "                            # max_samples = 0.5)\n",
    "rfc.fit(X_train, y_train)\n"
   ]
  },
  {
   "cell_type": "code",
   "execution_count": 61,
   "id": "dd8bd5f9-fae0-42c6-9cff-65bd1a0bd4d5",
   "metadata": {},
   "outputs": [
    {
     "name": "stdout",
     "output_type": "stream",
     "text": [
      "                  precision    recall  f1-score   support\n",
      "\n",
      "           ice_o       0.99      0.98      0.99      3342\n",
      "           ice_t       0.99      0.98      0.98      9793\n",
      "       leaf_fall       0.99      0.98      0.98     16595\n",
      "      leaf_green       0.99      0.99      0.99      6018\n",
      "        leaf_sub       0.98      0.97      0.97      7580\n",
      "      open_water       0.97      0.98      0.98     50395\n",
      " open_water_dark       0.98      0.98      0.98     26924\n",
      "open_water_green       0.97      0.96      0.96       645\n",
      "           other       0.99      0.87      0.93      1338\n",
      "          riffle       0.98      0.89      0.93      1781\n",
      "            rock       0.98      0.98      0.98     47625\n",
      "          snow_o       1.00      1.00      1.00    345715\n",
      "          snow_t       0.99      0.97      0.98      2386\n",
      "\n",
      "        accuracy                           0.99    520137\n",
      "       macro avg       0.99      0.96      0.97    520137\n",
      "    weighted avg       0.99      0.99      0.99    520137\n",
      "\n"
     ]
    }
   ],
   "source": [
    "rfc_pred = rfc.predict(X_test)\n",
    "print(classification_report(y_test,rfc_pred))"
   ]
  },
  {
   "cell_type": "code",
   "execution_count": 64,
   "id": "0117a7a6-5a3f-4066-9cf8-366ed4ba4052",
   "metadata": {},
   "outputs": [],
   "source": [
    "df_3 =  w_6_2[[\"x\", \"y\",\"R\",\"G\",\"B\", \"class\"]]\n",
    "df_3= df_3.fillna(value=np.nan)\n",
    "df_3 = df_3.dropna()\n",
    "# no x and y\n",
    "df_3 = df_3.drop_duplicates()\n",
    "X_2 = df_2.drop('class',axis=1)\n",
    "y_2 = df_2['class']\n",
    "rfc_pred_2 = rfc.predict(X_2)\n"
   ]
  },
  {
   "cell_type": "code",
   "execution_count": null,
   "id": "48cd9b90-519b-4b1e-9742-2e2a6eaa0b2c",
   "metadata": {},
   "outputs": [],
   "source": [
    "print(classification_report(y_2,rfc_pred_2))"
   ]
  },
  {
   "cell_type": "code",
   "execution_count": null,
   "id": "bd2891bf-229f-435a-ad5d-1fa337e0c23d",
   "metadata": {},
   "outputs": [],
   "source": [
    "# classes choose-condensing , pixels sampling, ice coverage"
   ]
  },
  {
   "cell_type": "code",
   "execution_count": 20,
   "id": "da8eb381-3849-47d5-9363-9f88a5417f5a",
   "metadata": {},
   "outputs": [],
   "source": [
    "def plot_confusion_matrix(cm,\n",
    "                          target_names,\n",
    "                          title='Confusion matrix',\n",
    "                          cmap=None,\n",
    "                          normalize=True):\n",
    "    \"\"\"\n",
    "    given a sklearn confusion matrix (cm), make a nice plot\n",
    "\n",
    "    Arguments\n",
    "    ---------\n",
    "    cm:           confusion matrix from sklearn.metrics.confusion_matrix\n",
    "\n",
    "    target_names: given classification classes such as [0, 1, 2]\n",
    "                  the class names, for example: ['high', 'medium', 'low']\n",
    "\n",
    "    title:        the text to display at the top of the matrix\n",
    "\n",
    "    cmap:         the gradient of the values displayed from matplotlib.pyplot.cm\n",
    "                  see http://matplotlib.org/examples/color/colormaps_reference.html\n",
    "                  plt.get_cmap('jet') or plt.cm.Blues\n",
    "\n",
    "    normalize:    If False, plot the raw numbers\n",
    "                  If True, plot the proportions\n",
    "\n",
    "    Usage\n",
    "    -----\n",
    "    plot_confusion_matrix(cm           = cm,                  # confusion matrix created by\n",
    "                                                              # sklearn.metrics.confusion_matrix\n",
    "                          normalize    = True,                # show proportions\n",
    "                          target_names = y_labels_vals,       # list of names of the classes\n",
    "                          title        = best_estimator_name) # title of graph\n",
    "\n",
    "    Citiation\n",
    "    ---------\n",
    "    http://scikit-learn.org/stable/auto_examples/model_selection/plot_confusion_matrix.html\n",
    "\n",
    "    \"\"\"\n",
    "    import matplotlib.pyplot as plt\n",
    "    import numpy as np\n",
    "    import itertools\n",
    "\n",
    "    accuracy = np.trace(cm) / np.sum(cm).astype('float')\n",
    "    misclass = 1 - accuracy\n",
    "\n",
    "    if cmap is None:\n",
    "        cmap = plt.get_cmap('Blues')\n",
    "\n",
    "    plt.figure(figsize=(15, 20))\n",
    "    plt.imshow(cm, interpolation='nearest', cmap=cmap)\n",
    "    plt.title(title)\n",
    "    plt.colorbar()\n",
    "\n",
    "    if target_names is not None:\n",
    "        tick_marks = np.arange(len(target_names))\n",
    "        plt.xticks(tick_marks, target_names, rotation=45)\n",
    "        plt.yticks(tick_marks, target_names)\n",
    "\n",
    "    if normalize:\n",
    "        cm = cm.astype('float') / cm.sum(axis=1)[:, np.newaxis]\n",
    "\n",
    "\n",
    "    thresh = cm.max() / 1.5 if normalize else cm.max() / 2\n",
    "    for i, j in itertools.product(range(cm.shape[0]), range(cm.shape[1])):\n",
    "        if normalize:\n",
    "            plt.text(j, i, \"{:0.4f}\".format(cm[i, j]),\n",
    "                     horizontalalignment=\"center\",\n",
    "                     color=\"white\" if cm[i, j] > thresh else \"black\")\n",
    "        else:\n",
    "            plt.text(j, i, \"{:,}\".format(cm[i, j]),\n",
    "                     horizontalalignment=\"center\",\n",
    "                     color=\"white\" if cm[i, j] > thresh else \"black\")\n",
    "\n",
    "\n",
    "    plt.tight_layout()\n",
    "    plt.ylabel('True label')\n",
    "    plt.xlabel('Predicted label\\naccuracy={:0.4f}; misclass={:0.4f}'.format(accuracy, misclass))\n",
    "    plt.show()"
   ]
  },
  {
   "cell_type": "code",
   "execution_count": null,
   "id": "45e83ee6-bb65-4aeb-9060-d33e41ed2f2b",
   "metadata": {},
   "outputs": [],
   "source": []
  },
  {
   "cell_type": "markdown",
   "id": "625ffacc-75c8-40b6-a3fc-210408fd78e6",
   "metadata": {},
   "source": [
    "## Train on merged file"
   ]
  },
  {
   "cell_type": "code",
   "execution_count": 20,
   "id": "9d7253b9-6243-49c0-80df-663648d5db73",
   "metadata": {},
   "outputs": [
    {
     "data": {
      "text/html": [
       "<div>\n",
       "<style scoped>\n",
       "    .dataframe tbody tr th:only-of-type {\n",
       "        vertical-align: middle;\n",
       "    }\n",
       "\n",
       "    .dataframe tbody tr th {\n",
       "        vertical-align: top;\n",
       "    }\n",
       "\n",
       "    .dataframe thead th {\n",
       "        text-align: right;\n",
       "    }\n",
       "</style>\n",
       "<table border=\"1\" class=\"dataframe\">\n",
       "  <thead>\n",
       "    <tr style=\"text-align: right;\">\n",
       "      <th></th>\n",
       "      <th>x</th>\n",
       "      <th>y</th>\n",
       "      <th>R</th>\n",
       "      <th>G</th>\n",
       "      <th>B</th>\n",
       "      <th>temperature</th>\n",
       "    </tr>\n",
       "  </thead>\n",
       "  <tbody>\n",
       "    <tr>\n",
       "      <th>count</th>\n",
       "      <td>23267.000000</td>\n",
       "      <td>23267.000000</td>\n",
       "      <td>23267.000000</td>\n",
       "      <td>23267.000000</td>\n",
       "      <td>23267.000000</td>\n",
       "      <td>23267.000000</td>\n",
       "    </tr>\n",
       "    <tr>\n",
       "      <th>mean</th>\n",
       "      <td>1217.336399</td>\n",
       "      <td>1738.367774</td>\n",
       "      <td>128.330812</td>\n",
       "      <td>118.031719</td>\n",
       "      <td>125.603344</td>\n",
       "      <td>35.255426</td>\n",
       "    </tr>\n",
       "    <tr>\n",
       "      <th>std</th>\n",
       "      <td>383.700466</td>\n",
       "      <td>327.797687</td>\n",
       "      <td>76.529363</td>\n",
       "      <td>77.527020</td>\n",
       "      <td>90.200962</td>\n",
       "      <td>12.441302</td>\n",
       "    </tr>\n",
       "    <tr>\n",
       "      <th>min</th>\n",
       "      <td>59.000000</td>\n",
       "      <td>1234.000000</td>\n",
       "      <td>0.000000</td>\n",
       "      <td>0.000000</td>\n",
       "      <td>0.000000</td>\n",
       "      <td>12.000000</td>\n",
       "    </tr>\n",
       "    <tr>\n",
       "      <th>25%</th>\n",
       "      <td>1026.000000</td>\n",
       "      <td>1444.000000</td>\n",
       "      <td>57.000000</td>\n",
       "      <td>46.000000</td>\n",
       "      <td>39.000000</td>\n",
       "      <td>28.000000</td>\n",
       "    </tr>\n",
       "    <tr>\n",
       "      <th>50%</th>\n",
       "      <td>1258.000000</td>\n",
       "      <td>1623.000000</td>\n",
       "      <td>123.000000</td>\n",
       "      <td>109.000000</td>\n",
       "      <td>104.000000</td>\n",
       "      <td>33.000000</td>\n",
       "    </tr>\n",
       "    <tr>\n",
       "      <th>75%</th>\n",
       "      <td>1480.000000</td>\n",
       "      <td>2079.000000</td>\n",
       "      <td>195.000000</td>\n",
       "      <td>186.000000</td>\n",
       "      <td>222.000000</td>\n",
       "      <td>41.000000</td>\n",
       "    </tr>\n",
       "    <tr>\n",
       "      <th>max</th>\n",
       "      <td>1997.000000</td>\n",
       "      <td>2336.000000</td>\n",
       "      <td>255.000000</td>\n",
       "      <td>255.000000</td>\n",
       "      <td>255.000000</td>\n",
       "      <td>98.000000</td>\n",
       "    </tr>\n",
       "  </tbody>\n",
       "</table>\n",
       "</div>"
      ],
      "text/plain": [
       "                  x             y             R             G             B  \\\n",
       "count  23267.000000  23267.000000  23267.000000  23267.000000  23267.000000   \n",
       "mean    1217.336399   1738.367774    128.330812    118.031719    125.603344   \n",
       "std      383.700466    327.797687     76.529363     77.527020     90.200962   \n",
       "min       59.000000   1234.000000      0.000000      0.000000      0.000000   \n",
       "25%     1026.000000   1444.000000     57.000000     46.000000     39.000000   \n",
       "50%     1258.000000   1623.000000    123.000000    109.000000    104.000000   \n",
       "75%     1480.000000   2079.000000    195.000000    186.000000    222.000000   \n",
       "max     1997.000000   2336.000000    255.000000    255.000000    255.000000   \n",
       "\n",
       "        temperature  \n",
       "count  23267.000000  \n",
       "mean      35.255426  \n",
       "std       12.441302  \n",
       "min       12.000000  \n",
       "25%       28.000000  \n",
       "50%       33.000000  \n",
       "75%       41.000000  \n",
       "max       98.000000  "
      ]
     },
     "execution_count": 20,
     "metadata": {},
     "output_type": "execute_result"
    }
   ],
   "source": [
    "sample_merged.describe()"
   ]
  },
  {
   "cell_type": "code",
   "execution_count": 6,
   "id": "02462ae2-33f6-4aa4-8653-48e4504f2f2b",
   "metadata": {},
   "outputs": [
    {
     "name": "stdout",
     "output_type": "stream",
     "text": [
      "                  precision    recall  f1-score   support\n",
      "\n",
      "           ice_o       0.93      0.86      0.89       191\n",
      "           ice_t       0.83      0.81      0.82       516\n",
      "       leaf_fall       0.90      0.80      0.85       365\n",
      "      leaf_green       0.88      0.88      0.88        77\n",
      "        leaf_sub       0.82      0.81      0.82       577\n",
      "      open_water       0.80      0.78      0.79       412\n",
      " open_water_dark       0.84      0.93      0.88      1250\n",
      "open_water_green       0.85      0.71      0.77       421\n",
      "           other       1.00      0.24      0.38        17\n",
      "          riffle       0.94      0.66      0.78        47\n",
      "            rock       0.88      0.94      0.91       591\n",
      "          snow_o       0.98      0.99      0.99      2384\n",
      "          snow_t       0.89      0.64      0.75       133\n",
      "\n",
      "        accuracy                           0.89      6981\n",
      "       macro avg       0.89      0.77      0.81      6981\n",
      "    weighted avg       0.89      0.89      0.89      6981\n",
      "\n",
      "                    0\n",
      "B            0.280139\n",
      "G            0.174852\n",
      "R            0.155988\n",
      "y            0.148034\n",
      "x            0.128351\n",
      "temperature  0.112635\n"
     ]
    },
    {
     "data": {
      "image/png": "[encoded data removed]",
      "text/plain": [
       "<Figure size 1296x720 with 2 Axes>"
      ]
     },
     "metadata": {
      "needs_background": "light"
     },
     "output_type": "display_data"
    }
   ],
   "source": [
    "# using x,y,RGB, temp\n",
    "train_merged = sample_merged[[\"x\",\"y\",\"R\",\"G\",\"B\", \"temperature\", \"class\"]]\n",
    "rfc, rfc_pred,feature_val,  X_train, X_test, y_train, y_test = split_fit_basic_report(train_merged)\n",
    "plot_cm(y_test, rfc_pred)"
   ]
  },
  {
   "cell_type": "code",
   "execution_count": 8,
   "id": "eafa9b78-f1eb-4247-8e74-8df8cabf78d9",
   "metadata": {},
   "outputs": [],
   "source": [
    "n_cpus = os.cpu_count()\n",
    "# grid search create dict\n",
    "# Number of trees in random forest\n",
    "n_estimators = np.linspace(100, 3000, int((3000-100)/200) + 1, dtype=int)\n",
    "# Number of features to consider at every split\n",
    "max_features = ['auto', 'sqrt']\n",
    "# Maximum number of levels in tree\n",
    "max_depth = [1, 5, 10, 20, 50, 75, 100, 150, 200]\n",
    "# Minimum number of samples required to split a node\n",
    "min_samples_split = [2, 5, 10, 15, 20, 30]\n",
    "# Minimum number of samples required at each leaf node\n",
    "min_samples_leaf = [1, 2, 3, 4]\n",
    "# Method of selecting samples for training each tree\n",
    "bootstrap = [True, False]\n",
    "# Criterion\n",
    "criterion=['gini', 'entropy']\n",
    "random_grid = {'n_estimators': n_estimators,\n",
    "#                'max_features': max_features,\n",
    "               'max_depth': max_depth,\n",
    "               'min_samples_split': min_samples_split,\n",
    "               'min_samples_leaf': min_samples_leaf,\n",
    "               'bootstrap': bootstrap,\n",
    "               'criterion': criterion}\n",
    "rf_base = RandomForestClassifier()\n",
    "rf_random = RandomizedSearchCV(estimator = rf_base,\n",
    "                               param_distributions = random_grid,\n",
    "                               n_iter = 10, cv = 5,\n",
    "                               verbose=4,\n",
    "                               random_state=42, n_jobs = n_cpus-1,\n",
    "                               scoring = \"accuracy\")"
   ]
  },
  {
   "cell_type": "code",
   "execution_count": 11,
   "id": "f1170ae6-7f96-4d9c-bba7-260add4b3e23",
   "metadata": {},
   "outputs": [
    {
     "name": "stdout",
     "output_type": "stream",
     "text": [
      "Fitting 5 folds for each of 10 candidates, totalling 50 fits\n"
     ]
    },
    {
     "data": {
      "text/plain": [
       "RandomizedSearchCV(cv=5, estimator=RandomForestClassifier(), n_jobs=7,\n",
       "                   param_distributions={'bootstrap': [True, False],\n",
       "                                        'criterion': ['gini', 'entropy'],\n",
       "                                        'max_depth': [1, 5, 10, 20, 50, 75, 100,\n",
       "                                                      150, 200],\n",
       "                                        'min_samples_leaf': [1, 2, 3, 4],\n",
       "                                        'min_samples_split': [2, 5, 10, 15, 20,\n",
       "                                                              30],\n",
       "                                        'n_estimators': array([ 100,  307,  514,  721,  928, 1135, 1342, 1550, 1757, 1964, 2171,\n",
       "       2378, 2585, 2792, 3000])},\n",
       "                   random_state=42, scoring='accuracy', verbose=4)"
      ]
     },
     "execution_count": 11,
     "metadata": {},
     "output_type": "execute_result"
    }
   ],
   "source": [
    "rf_random.fit(X_train, y_train)"
   ]
  },
  {
   "cell_type": "code",
   "execution_count": 12,
   "id": "6b2c6054-bb95-4fc7-9f06-26d1ce3a44fa",
   "metadata": {},
   "outputs": [
    {
     "data": {
      "text/plain": [
       "{'n_estimators': 928,\n",
       " 'min_samples_split': 10,\n",
       " 'min_samples_leaf': 2,\n",
       " 'max_depth': 50,\n",
       " 'criterion': 'entropy',\n",
       " 'bootstrap': False}"
      ]
     },
     "execution_count": 12,
     "metadata": {},
     "output_type": "execute_result"
    }
   ],
   "source": [
    "rf_random.best_params_"
   ]
  },
  {
   "cell_type": "code",
   "execution_count": 13,
   "id": "e1db19f3-1f14-4df3-9b30-4ee95a2229e8",
   "metadata": {},
   "outputs": [
    {
     "name": "stdout",
     "output_type": "stream",
     "text": [
      "0.988947562323468\n",
      "0.8871221887981664\n"
     ]
    }
   ],
   "source": [
    "# training error\n",
    "print (rf_random.score(X_train, y_train))\n",
    "# testing error\n",
    "print(rf_random.score(X_test, y_test))"
   ]
  },
  {
   "cell_type": "code",
   "execution_count": 9,
   "id": "9ec3733e-3af8-437d-929b-a9d1b0a72c08",
   "metadata": {},
   "outputs": [],
   "source": [
    "# build up on the randomized cv search and find better params\n",
    "\n",
    "param_grid = {\n",
    "    'n_estimators': np.linspace(920, 950, 10, dtype = int),\n",
    "    'max_depth': [30, 50],\n",
    "    'min_samples_split': [10,12],\n",
    "    'min_samples_leaf': [1, 2]\n",
    "}\n",
    "\n",
    "# Base model\n",
    "rf_grid = RandomForestClassifier(criterion = 'entropy', bootstrap = False)\n",
    "# Instantiate the grid search model\n",
    "grid_rf_search = GridSearchCV(estimator = rf_grid, param_grid = param_grid, \n",
    "                          cv = 2, n_jobs = n_cpus-1, verbose = 3)\n"
   ]
  },
  {
   "cell_type": "code",
   "execution_count": 10,
   "id": "c8f2d559-ca59-430e-8a7f-95c252331026",
   "metadata": {},
   "outputs": [
    {
     "name": "stdout",
     "output_type": "stream",
     "text": [
      "Fitting 2 folds for each of 80 candidates, totalling 160 fits\n"
     ]
    },
    {
     "data": {
      "text/plain": [
       "GridSearchCV(cv=2,\n",
       "             estimator=RandomForestClassifier(bootstrap=False,\n",
       "                                              criterion='entropy'),\n",
       "             n_jobs=7,\n",
       "             param_grid={'max_depth': [30, 50], 'min_samples_leaf': [1, 2],\n",
       "                         'min_samples_split': [10, 12],\n",
       "                         'n_estimators': array([920, 923, 926, 930, 933, 936, 940, 943, 946, 950])},\n",
       "             verbose=3)"
      ]
     },
     "execution_count": 10,
     "metadata": {},
     "output_type": "execute_result"
    }
   ],
   "source": [
    "grid_rf_search.fit(X_train, y_train)"
   ]
  },
  {
   "cell_type": "code",
   "execution_count": 13,
   "id": "02d5807f-8bbb-4bf8-a1ee-e81f13eda60c",
   "metadata": {},
   "outputs": [
    {
     "data": {
      "text/plain": [
       "{'max_depth': 30,\n",
       " 'min_samples_leaf': 1,\n",
       " 'min_samples_split': 10,\n",
       " 'n_estimators': 950}"
      ]
     },
     "execution_count": 13,
     "metadata": {},
     "output_type": "execute_result"
    }
   ],
   "source": [
    "best_rf_grid = grid_rf_search.best_estimator_\n",
    "grid_rf_search.best_params_"
   ]
  },
  {
   "cell_type": "code",
   "execution_count": 14,
   "id": "534f5332-9a59-4071-a052-1dc2c99c0ba8",
   "metadata": {},
   "outputs": [
    {
     "name": "stdout",
     "output_type": "stream",
     "text": [
      "0.995333415203242\n",
      "0.8897006159575992\n"
     ]
    }
   ],
   "source": [
    "# training error\n",
    "print (grid_rf_search.score(X_train, y_train))\n",
    "# testing error\n",
    "print(grid_rf_search.score(X_test, y_test))"
   ]
  },
  {
   "cell_type": "code",
   "execution_count": 19,
   "id": "d345ab76-2e99-43c6-be25-ff049c7b03c4",
   "metadata": {},
   "outputs": [
    {
     "data": {
      "text/html": [
       "<div>\n",
       "<style scoped>\n",
       "    .dataframe tbody tr th:only-of-type {\n",
       "        vertical-align: middle;\n",
       "    }\n",
       "\n",
       "    .dataframe tbody tr th {\n",
       "        vertical-align: top;\n",
       "    }\n",
       "\n",
       "    .dataframe thead th {\n",
       "        text-align: right;\n",
       "    }\n",
       "</style>\n",
       "<table border=\"1\" class=\"dataframe\">\n",
       "  <thead>\n",
       "    <tr style=\"text-align: right;\">\n",
       "      <th></th>\n",
       "      <th>0</th>\n",
       "    </tr>\n",
       "  </thead>\n",
       "  <tbody>\n",
       "    <tr>\n",
       "      <th>x</th>\n",
       "      <td>0.112377</td>\n",
       "    </tr>\n",
       "    <tr>\n",
       "      <th>y</th>\n",
       "      <td>0.162020</td>\n",
       "    </tr>\n",
       "    <tr>\n",
       "      <th>R</th>\n",
       "      <td>0.159875</td>\n",
       "    </tr>\n",
       "    <tr>\n",
       "      <th>G</th>\n",
       "      <td>0.151591</td>\n",
       "    </tr>\n",
       "    <tr>\n",
       "      <th>B</th>\n",
       "      <td>0.301172</td>\n",
       "    </tr>\n",
       "    <tr>\n",
       "      <th>temperature</th>\n",
       "      <td>0.112966</td>\n",
       "    </tr>\n",
       "  </tbody>\n",
       "</table>\n",
       "</div>"
      ],
      "text/plain": [
       "                    0\n",
       "x            0.112377\n",
       "y            0.162020\n",
       "R            0.159875\n",
       "G            0.151591\n",
       "B            0.301172\n",
       "temperature  0.112966"
      ]
     },
     "execution_count": 19,
     "metadata": {},
     "output_type": "execute_result"
    }
   ],
   "source": [
    "pd.DataFrame(best_rf_grid.feature_importances_, index = [\"x\",\"y\",\"R\",\"G\",\"B\",\"temperature\"])"
   ]
  },
  {
   "cell_type": "code",
   "execution_count": null,
   "id": "931af487-02d0-417c-aef8-34cd8f7fe10e",
   "metadata": {},
   "outputs": [],
   "source": [
    "from datetime import date, datetime\n",
    "\n",
    "Y = 2000 # dummy leap year to allow input X-02-29 (leap day)\n",
    "seasons = [('winter', (date(Y,  1,  1),  date(Y,  3, 20))),\n",
    "           ('spring', (date(Y,  3, 21),  date(Y,  6, 20))),\n",
    "           ('summer', (date(Y,  6, 21),  date(Y,  9, 22))),\n",
    "           ('autumn', (date(Y,  9, 23),  date(Y, 12, 20))),\n",
    "           ('winter', (date(Y, 12, 21),  date(Y, 12, 31)))]\n",
    "\n",
    "def get_season(now):\n",
    "    if isinstance(now, datetime):\n",
    "        now = now.date()\n",
    "    now = now.replace(year=Y)\n",
    "    return next(season for season, (start, end) in seasons\n",
    "                if start <= now <= end)\n",
    "sample_merged.date = pd.to_datetime(sample_merged.date)\n",
    "sample_merged.time = pd.to_datetime(sample_merged.time)\n",
    "sample_merged[\"year\"] = sample_merged.date.dt.year\n",
    "sample_merged[\"week\"] =sample_merged.date.dt.isocalendar().week\n",
    "sample_merged[\"month\"] = sample_merged.date.dt.month\n",
    "sample_merged[\"season\"] = sample_merged.date.apply(lambda x: get_season(x))"
   ]
  },
  {
   "cell_type": "code",
   "execution_count": null,
   "id": "5e511ecc-5637-481f-95c3-19bb6613bf65",
   "metadata": {},
   "outputs": [],
   "source": []
  },
  {
   "cell_type": "markdown",
   "id": "a5249335-7fc9-433a-a66c-9680dc30ad78",
   "metadata": {},
   "source": [
    "## Final Model\n",
    "using RGB, + year, week of day, season variables"
   ]
  },
  {
   "cell_type": "code",
   "execution_count": 15,
   "id": "6546ba2a-9b12-4889-aec9-c4f25603071e",
   "metadata": {},
   "outputs": [
    {
     "name": "stdout",
     "output_type": "stream",
     "text": [
      "                  precision    recall  f1-score   support\n",
      "\n",
      "           ice_o       0.95      0.93      0.94       191\n",
      "           ice_t       0.92      0.91      0.91       516\n",
      "       leaf_fall       0.92      0.90      0.91       365\n",
      "      leaf_green       0.95      0.91      0.93        77\n",
      "        leaf_sub       0.91      0.95      0.93       577\n",
      "      open_water       0.92      0.93      0.93       412\n",
      " open_water_dark       0.93      0.97      0.95      1250\n",
      "open_water_green       0.94      0.85      0.89       421\n",
      "           other       1.00      0.41      0.58        17\n",
      "          riffle       0.91      0.85      0.88        47\n",
      "            rock       0.97      0.97      0.97       591\n",
      "          snow_o       0.99      1.00      0.99      2384\n",
      "          snow_t       0.97      0.86      0.91       133\n",
      "\n",
      "        accuracy                           0.95      6981\n",
      "       macro avg       0.94      0.88      0.90      6981\n",
      "    weighted avg       0.95      0.95      0.95      6981\n",
      "\n",
      "                    0\n",
      "B            0.218848\n",
      "R            0.142619\n",
      "G            0.130677\n",
      "week         0.107301\n",
      "y            0.103803\n",
      "x            0.091470\n",
      "temperature  0.073526\n",
      "month        0.049923\n",
      "year         0.044106\n",
      "season       0.037727\n"
     ]
    },
    {
     "data": {
      "image/png": "[encoded data removed]",
      "text/plain": [
       "<Figure size 1296x720 with 2 Axes>"
      ]
     },
     "metadata": {
      "needs_background": "light"
     },
     "output_type": "display_data"
    }
   ],
   "source": [
    "# using x,y,RGB, temp\n",
    "train_merged_2 = sample_merged[[\"x\",\"y\",\"R\",\"G\",\"B\", \"temperature\", 'year', 'week', 'month', 'season',\"class\"]]\n",
    "rfc, rfc_pred,feature_val,  X_train, X_test, y_train, y_test = split_fit_basic_report(train_merged_2)\n",
    "plot_cm(y_test, rfc_pred)"
   ]
  },
  {
   "cell_type": "code",
   "execution_count": 21,
   "id": "f8eccfc5-2f85-4e1d-a86a-bcc242788189",
   "metadata": {},
   "outputs": [],
   "source": [
    "n_cpus = os.cpu_count()\n",
    "# grid search create dict\n",
    "# Number of trees in random forest\n",
    "n_estimators = np.linspace(100, 3000, int((3000-100)/200) + 1, dtype=int)\n",
    "# Number of features to consider at every split\n",
    "max_features = ['auto', 'sqrt']\n",
    "# Maximum number of levels in tree\n",
    "max_depth = [1, 5, 10, 20, 50, 75, 100, 150, 200]\n",
    "# Minimum number of samples required to split a node\n",
    "min_samples_split = [2, 5, 10, 15, 20, 30]\n",
    "# Minimum number of samples required at each leaf node\n",
    "min_samples_leaf = [1, 2, 3, 4]\n",
    "# Method of selecting samples for training each tree\n",
    "bootstrap = [True, False]\n",
    "# Criterion\n",
    "criterion=['gini', 'entropy']\n",
    "random_grid = {'n_estimators': n_estimators,\n",
    "#                'max_features': max_features,\n",
    "               'max_depth': max_depth,\n",
    "               'min_samples_split': min_samples_split,\n",
    "               'min_samples_leaf': min_samples_leaf,\n",
    "               'bootstrap': bootstrap,\n",
    "               'criterion': criterion}\n",
    "rf_base = RandomForestClassifier()\n",
    "rf_random = RandomizedSearchCV(estimator = rf_base,\n",
    "                               param_distributions = random_grid,\n",
    "                               n_iter = 10, cv = 5,\n",
    "                               verbose=4,\n",
    "                               random_state=42, n_jobs = n_cpus-1,\n",
    "                               scoring = \"accuracy\")"
   ]
  },
  {
   "cell_type": "code",
   "execution_count": 22,
   "id": "81b91508-77be-4012-b0f1-2fa5e6c77d83",
   "metadata": {},
   "outputs": [
    {
     "name": "stdout",
     "output_type": "stream",
     "text": [
      "Fitting 5 folds for each of 10 candidates, totalling 50 fits\n"
     ]
    },
    {
     "data": {
      "text/plain": [
       "RandomizedSearchCV(cv=5, estimator=RandomForestClassifier(), n_jobs=7,\n",
       "                   param_distributions={'bootstrap': [True, False],\n",
       "                                        'criterion': ['gini', 'entropy'],\n",
       "                                        'max_depth': [1, 5, 10, 20, 50, 75, 100,\n",
       "                                                      150, 200],\n",
       "                                        'min_samples_leaf': [1, 2, 3, 4],\n",
       "                                        'min_samples_split': [2, 5, 10, 15, 20,\n",
       "                                                              30],\n",
       "                                        'n_estimators': array([ 100,  307,  514,  721,  928, 1135, 1342, 1550, 1757, 1964, 2171,\n",
       "       2378, 2585, 2792, 3000])},\n",
       "                   random_state=42, scoring='accuracy', verbose=4)"
      ]
     },
     "execution_count": 22,
     "metadata": {},
     "output_type": "execute_result"
    }
   ],
   "source": [
    "rf_random.fit(X_train, y_train)"
   ]
  },
  {
   "cell_type": "code",
   "execution_count": 23,
   "id": "783d3bdd-acdb-4fee-b8fc-eaa16c1a70ef",
   "metadata": {},
   "outputs": [
    {
     "data": {
      "text/plain": [
       "{'n_estimators': 928,\n",
       " 'min_samples_split': 10,\n",
       " 'min_samples_leaf': 2,\n",
       " 'max_depth': 50,\n",
       " 'criterion': 'entropy',\n",
       " 'bootstrap': False}"
      ]
     },
     "execution_count": 23,
     "metadata": {},
     "output_type": "execute_result"
    }
   ],
   "source": [
    "rf_random.best_params_"
   ]
  },
  {
   "cell_type": "code",
   "execution_count": 24,
   "id": "32292cea-7db4-4fbf-a5d1-cc61b6edf8a4",
   "metadata": {},
   "outputs": [
    {
     "name": "stdout",
     "output_type": "stream",
     "text": [
      "0.9958246346555324\n",
      "0.9495774244377596\n"
     ]
    }
   ],
   "source": [
    "# training error\n",
    "print (rf_random.score(X_train, y_train))\n",
    "# testing error\n",
    "print(rf_random.score(X_test, y_test))"
   ]
  },
  {
   "cell_type": "code",
   "execution_count": 9,
   "id": "fd735ec7-35d0-4de9-86c0-2816dd95c703",
   "metadata": {},
   "outputs": [],
   "source": [
    "# build up on the randomized cv search and find better params\n",
    "\n",
    "param_grid = {\n",
    "    'n_estimators': np.linspace(920, 930, 2, dtype = int),\n",
    "    'max_depth': [30, 50],\n",
    "    'min_samples_split': [10,12],\n",
    "    'min_samples_leaf': [1, 2]\n",
    "}\n",
    "\n",
    "# Base model\n",
    "rf_grid = RandomForestClassifier(criterion = 'entropy', bootstrap = False)\n",
    "# Instantiate the grid search model\n",
    "grid_rf_search = GridSearchCV(estimator = rf_grid, param_grid = param_grid, \n",
    "                          cv = 2, n_jobs = n_cpus-1, verbose = 3)\n"
   ]
  },
  {
   "cell_type": "code",
   "execution_count": 25,
   "id": "aadbd84c-9a01-49ca-a8f4-eecb787471c6",
   "metadata": {},
   "outputs": [
    {
     "name": "stdout",
     "output_type": "stream",
     "text": [
      "Fitting 2 folds for each of 80 candidates, totalling 160 fits\n"
     ]
    },
    {
     "data": {
      "text/plain": [
       "GridSearchCV(cv=2,\n",
       "             estimator=RandomForestClassifier(bootstrap=False,\n",
       "                                              criterion='entropy'),\n",
       "             n_jobs=7,\n",
       "             param_grid={'max_depth': [30, 50], 'min_samples_leaf': [1, 2],\n",
       "                         'min_samples_split': [10, 12],\n",
       "                         'n_estimators': array([920, 923, 926, 930, 933, 936, 940, 943, 946, 950])},\n",
       "             verbose=3)"
      ]
     },
     "execution_count": 25,
     "metadata": {},
     "output_type": "execute_result"
    }
   ],
   "source": [
    "grid_rf_search.fit(X_train, y_train)"
   ]
  },
  {
   "cell_type": "code",
   "execution_count": 26,
   "id": "69373f8b-6d75-4fed-af28-51c765f1cbd9",
   "metadata": {},
   "outputs": [
    {
     "data": {
      "text/plain": [
       "{'max_depth': 30,\n",
       " 'min_samples_leaf': 1,\n",
       " 'min_samples_split': 10,\n",
       " 'n_estimators': 920}"
      ]
     },
     "execution_count": 26,
     "metadata": {},
     "output_type": "execute_result"
    }
   ],
   "source": [
    "best_rf_grid_2 = grid_rf_search.best_estimator_\n",
    "grid_rf_search.best_params_"
   ]
  },
  {
   "cell_type": "code",
   "execution_count": 27,
   "id": "96affe2a-6422-431f-b6c8-b2d09cb66248",
   "metadata": {},
   "outputs": [
    {
     "name": "stdout",
     "output_type": "stream",
     "text": [
      "0.9984649392115927\n",
      "0.9528720813637015\n"
     ]
    }
   ],
   "source": [
    "# training error\n",
    "print (grid_rf_search.score(X_train, y_train))\n",
    "# testing error\n",
    "print(grid_rf_search.score(X_test, y_test))"
   ]
  },
  {
   "cell_type": "code",
   "execution_count": 29,
   "id": "fe8ba6eb-d2d0-42df-ae4d-2447419cff94",
   "metadata": {},
   "outputs": [
    {
     "data": {
      "text/html": [
       "<div>\n",
       "<style scoped>\n",
       "    .dataframe tbody tr th:only-of-type {\n",
       "        vertical-align: middle;\n",
       "    }\n",
       "\n",
       "    .dataframe tbody tr th {\n",
       "        vertical-align: top;\n",
       "    }\n",
       "\n",
       "    .dataframe thead th {\n",
       "        text-align: right;\n",
       "    }\n",
       "</style>\n",
       "<table border=\"1\" class=\"dataframe\">\n",
       "  <thead>\n",
       "    <tr style=\"text-align: right;\">\n",
       "      <th></th>\n",
       "      <th>0</th>\n",
       "    </tr>\n",
       "  </thead>\n",
       "  <tbody>\n",
       "    <tr>\n",
       "      <th>x</th>\n",
       "      <td>0.066226</td>\n",
       "    </tr>\n",
       "    <tr>\n",
       "      <th>y</th>\n",
       "      <td>0.097843</td>\n",
       "    </tr>\n",
       "    <tr>\n",
       "      <th>R</th>\n",
       "      <td>0.110026</td>\n",
       "    </tr>\n",
       "    <tr>\n",
       "      <th>G</th>\n",
       "      <td>0.114799</td>\n",
       "    </tr>\n",
       "    <tr>\n",
       "      <th>B</th>\n",
       "      <td>0.229621</td>\n",
       "    </tr>\n",
       "    <tr>\n",
       "      <th>temperature</th>\n",
       "      <td>0.066656</td>\n",
       "    </tr>\n",
       "    <tr>\n",
       "      <th>year</th>\n",
       "      <td>0.076388</td>\n",
       "    </tr>\n",
       "    <tr>\n",
       "      <th>week</th>\n",
       "      <td>0.118988</td>\n",
       "    </tr>\n",
       "    <tr>\n",
       "      <th>month</th>\n",
       "      <td>0.066190</td>\n",
       "    </tr>\n",
       "    <tr>\n",
       "      <th>season</th>\n",
       "      <td>0.053262</td>\n",
       "    </tr>\n",
       "  </tbody>\n",
       "</table>\n",
       "</div>"
      ],
      "text/plain": [
       "                    0\n",
       "x            0.066226\n",
       "y            0.097843\n",
       "R            0.110026\n",
       "G            0.114799\n",
       "B            0.229621\n",
       "temperature  0.066656\n",
       "year         0.076388\n",
       "week         0.118988\n",
       "month        0.066190\n",
       "season       0.053262"
      ]
     },
     "execution_count": 29,
     "metadata": {},
     "output_type": "execute_result"
    }
   ],
   "source": [
    "pd.DataFrame(best_rf_grid_2.feature_importances_, index = X_train.columns)"
   ]
  },
  {
   "cell_type": "code",
   "execution_count": null,
   "id": "f311d9c7-e24a-426b-87d8-41a040ef418d",
   "metadata": {},
   "outputs": [],
   "source": [
    "# final accuracy of 95.2%"
   ]
  }
 ],
 "metadata": {
  "kernelspec": {
   "display_name": "Python 3 (ipykernel)",
   "language": "python",
   "name": "python3"
  },
  "language_info": {
   "codemirror_mode": {
    "name": "ipython",
    "version": 3
   },
   "file_extension": ".py",
   "mimetype": "text/x-python",
   "name": "python",
   "nbconvert_exporter": "python",
   "pygments_lexer": "ipython3",
   "version": "3.8.13"
  },
  "vscode": {
   "interpreter": {
    "hash": "a2ab3825ac7005fb7b26f112e9c99ae62f464c629e30b0d534c3b931b6cbc3ff"
   }
  }
 },
 "nbformat": 4,
 "nbformat_minor": 5
}
