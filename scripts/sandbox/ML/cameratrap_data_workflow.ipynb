{
 "cells": [
  {
   "cell_type": "markdown",
   "metadata": {},
   "source": [
    "# Camera Trap to Random Forests in Python"
   ]
  },
  {
   "cell_type": "code",
   "execution_count": 3,
   "metadata": {},
   "outputs": [],
   "source": [
    "import pandas as pd\n",
    "import numpy as np\n",
    "import seaborn as sns\n",
    "import json\n",
    "from datetime import datetime as dt"
   ]
  },
  {
   "cell_type": "markdown",
   "metadata": {},
   "source": [
    "### CSV"
   ]
  },
  {
   "cell_type": "markdown",
   "metadata": {},
   "source": [
    "Bring in the CSV data. The data is also available in JSON, which may actually be the most intuitive and efficient structure to unpack from in the long run.  "
   ]
  },
  {
   "cell_type": "code",
   "execution_count": 1,
   "metadata": {},
   "outputs": [
    {
     "data": {
      "text/plain": [
       "'/Users/henrysun_1/Documents/GitHub/hbwater_cameratrap_pheno/scripts/sandbox/ML'"
      ]
     },
     "execution_count": 1,
     "metadata": {},
     "output_type": "execute_result"
    }
   ],
   "source": [
    "import os\n",
    "os.getcwd()\n",
    "os.chdir(\"/Users/henrysun_1/Documents/GitHub/hbwater_cameratrap_pheno/scripts/sandbox/ML/data_raw\")"
   ]
  },
  {
   "cell_type": "code",
   "execution_count": 4,
   "metadata": {
    "scrolled": true
   },
   "outputs": [],
   "source": [
    "csv_df = pd.read_csv('example_data/hbwater_w3_bottom_1_1_20-3_5_20_csv.csv')\n"
   ]
  },
  {
   "cell_type": "code",
   "execution_count": 5,
   "metadata": {},
   "outputs": [
    {
     "data": {
      "text/html": [
       "<div>\n",
       "<style scoped>\n",
       "    .dataframe tbody tr th:only-of-type {\n",
       "        vertical-align: middle;\n",
       "    }\n",
       "\n",
       "    .dataframe tbody tr th {\n",
       "        vertical-align: top;\n",
       "    }\n",
       "\n",
       "    .dataframe thead th {\n",
       "        text-align: right;\n",
       "    }\n",
       "</style>\n",
       "<table border=\"1\" class=\"dataframe\">\n",
       "  <thead>\n",
       "    <tr style=\"text-align: right;\">\n",
       "      <th></th>\n",
       "      <th>filename</th>\n",
       "      <th>file_size</th>\n",
       "      <th>file_attributes</th>\n",
       "      <th>region_count</th>\n",
       "      <th>region_id</th>\n",
       "      <th>region_shape_attributes</th>\n",
       "      <th>region_attributes</th>\n",
       "    </tr>\n",
       "  </thead>\n",
       "  <tbody>\n",
       "    <tr>\n",
       "      <th>0</th>\n",
       "      <td>invert_Hbwtr_w3_20200101_120451.JPG</td>\n",
       "      <td>180286</td>\n",
       "      <td>{\"attribute\":{}}</td>\n",
       "      <td>20</td>\n",
       "      <td>0</td>\n",
       "      <td>{\"name\":\"rect\",\"x\":199,\"y\":2028,\"width\":46,\"he...</td>\n",
       "      <td>{\"attribute\":{\"open_water_dark\":true}}</td>\n",
       "    </tr>\n",
       "    <tr>\n",
       "      <th>1</th>\n",
       "      <td>invert_Hbwtr_w3_20200101_120451.JPG</td>\n",
       "      <td>180286</td>\n",
       "      <td>{\"attribute\":{}}</td>\n",
       "      <td>20</td>\n",
       "      <td>1</td>\n",
       "      <td>{\"name\":\"rect\",\"x\":192,\"y\":2125,\"width\":33,\"he...</td>\n",
       "      <td>{\"attribute\":{\"open_water_dark\":true}}</td>\n",
       "    </tr>\n",
       "    <tr>\n",
       "      <th>2</th>\n",
       "      <td>invert_Hbwtr_w3_20200101_120451.JPG</td>\n",
       "      <td>180286</td>\n",
       "      <td>{\"attribute\":{}}</td>\n",
       "      <td>20</td>\n",
       "      <td>2</td>\n",
       "      <td>{\"name\":\"rect\",\"x\":396,\"y\":2022,\"width\":38,\"he...</td>\n",
       "      <td>{\"attribute\":{\"open_water_dark\":true}}</td>\n",
       "    </tr>\n",
       "    <tr>\n",
       "      <th>3</th>\n",
       "      <td>invert_Hbwtr_w3_20200101_120451.JPG</td>\n",
       "      <td>180286</td>\n",
       "      <td>{\"attribute\":{}}</td>\n",
       "      <td>20</td>\n",
       "      <td>3</td>\n",
       "      <td>{\"name\":\"rect\",\"x\":488,\"y\":2114,\"width\":45,\"he...</td>\n",
       "      <td>{\"attribute\":{\"open_water_dark\":true}}</td>\n",
       "    </tr>\n",
       "    <tr>\n",
       "      <th>4</th>\n",
       "      <td>invert_Hbwtr_w3_20200101_120451.JPG</td>\n",
       "      <td>180286</td>\n",
       "      <td>{\"attribute\":{}}</td>\n",
       "      <td>20</td>\n",
       "      <td>4</td>\n",
       "      <td>{\"name\":\"rect\",\"x\":670,\"y\":2079,\"width\":43,\"he...</td>\n",
       "      <td>{\"attribute\":{\"open_water_dark\":true}}</td>\n",
       "    </tr>\n",
       "  </tbody>\n",
       "</table>\n",
       "</div>"
      ],
      "text/plain": [
       "                              filename  file_size   file_attributes  \\\n",
       "0  invert_Hbwtr_w3_20200101_120451.JPG     180286  {\"attribute\":{}}   \n",
       "1  invert_Hbwtr_w3_20200101_120451.JPG     180286  {\"attribute\":{}}   \n",
       "2  invert_Hbwtr_w3_20200101_120451.JPG     180286  {\"attribute\":{}}   \n",
       "3  invert_Hbwtr_w3_20200101_120451.JPG     180286  {\"attribute\":{}}   \n",
       "4  invert_Hbwtr_w3_20200101_120451.JPG     180286  {\"attribute\":{}}   \n",
       "\n",
       "   region_count  region_id                            region_shape_attributes  \\\n",
       "0            20          0  {\"name\":\"rect\",\"x\":199,\"y\":2028,\"width\":46,\"he...   \n",
       "1            20          1  {\"name\":\"rect\",\"x\":192,\"y\":2125,\"width\":33,\"he...   \n",
       "2            20          2  {\"name\":\"rect\",\"x\":396,\"y\":2022,\"width\":38,\"he...   \n",
       "3            20          3  {\"name\":\"rect\",\"x\":488,\"y\":2114,\"width\":45,\"he...   \n",
       "4            20          4  {\"name\":\"rect\",\"x\":670,\"y\":2079,\"width\":43,\"he...   \n",
       "\n",
       "                        region_attributes  \n",
       "0  {\"attribute\":{\"open_water_dark\":true}}  \n",
       "1  {\"attribute\":{\"open_water_dark\":true}}  \n",
       "2  {\"attribute\":{\"open_water_dark\":true}}  \n",
       "3  {\"attribute\":{\"open_water_dark\":true}}  \n",
       "4  {\"attribute\":{\"open_water_dark\":true}}  "
      ]
     },
     "execution_count": 5,
     "metadata": {},
     "output_type": "execute_result"
    }
   ],
   "source": [
    "csv_df.head()"
   ]
  },
  {
   "cell_type": "markdown",
   "metadata": {},
   "source": [
    "<hr>"
   ]
  },
  {
   "cell_type": "markdown",
   "metadata": {},
   "source": [
    "### Wrangle the Data"
   ]
  },
  {
   "cell_type": "markdown",
   "metadata": {},
   "source": [
    "unpack 'region_attributes' column data to produce **class** variable"
   ]
  },
  {
   "cell_type": "code",
   "execution_count": 8,
   "metadata": {},
   "outputs": [],
   "source": [
    "# image_class is a list- built to accept the\n",
    "# modified 'region_attribute' data  \n",
    "image_class = []\n",
    "\n",
    "# created by the for loop below\n",
    "for i in range(len(csv_df['region_attributes'])):\n",
    "    \n",
    "    # convert the strings of json data into python dictionaries\n",
    "    json_item = json.loads(csv_df['region_attributes'][i])\n",
    "    \n",
    "    # if data is not empty dictionary\n",
    "    if json_item:\n",
    "        \n",
    "        # extract the name of the key, as a string in a list\n",
    "        image_type = list(json_item['attribute'].keys())\n",
    "        \n",
    "        # if dictionary entry is not empty list\n",
    "        if image_type:\n",
    "            image_type = image_type[0]\n",
    "\n",
    "        # leave None for empty values\n",
    "        else:\n",
    "            image_type = None\n",
    "    else:\n",
    "        image_type = None\n",
    "        \n",
    "    # add value to image_class\n",
    "    image_class.append(image_type)\n",
    "\n",
    "# make image_class a column of our dataframe\n",
    "csv_df['class'] = image_class"
   ]
  },
  {
   "cell_type": "markdown",
   "metadata": {},
   "source": [
    "unpack 'region_shape' column data to produce **name** , **x** coordinate, **y** coordinate, **width** and **height** data"
   ]
  },
  {
   "cell_type": "code",
   "execution_count": 9,
   "metadata": {},
   "outputs": [],
   "source": [
    "# unpack 'region_shape_attributes' into string of desired data\n",
    "# leaving 'None' for empty values\n",
    "\n",
    "# create dictionary to accept region shape data\n",
    "region_shapes = {\n",
    "    'name': [],\n",
    "    'x': [],\n",
    "    'y': [],\n",
    "    'width': [],\n",
    "    'height': [],\n",
    "    }\n",
    "\n",
    "# loop thru region attribute data\n",
    "for i in range(len(csv_df['region_shape_attributes'])):\n",
    "    # convert json strings to python dictionaries\n",
    "    json_item = json.loads(csv_df['region_shape_attributes'][i])\n",
    "    \n",
    "    # loop thru the dictionary keys\n",
    "    for attr in region_shapes.keys():\n",
    "        # if JSON item contains data\n",
    "        if json_item:\n",
    "            # pull data item\n",
    "            region_attr = json_item[attr]\n",
    "            # append to that attribute's list in dictionary\n",
    "            region_shapes[attr].append(region_attr)\n",
    "        else:\n",
    "            # otherwise, append None to appropriate list\n",
    "            region_shapes[attr].append(None)\n",
    "    \n",
    "# create columns of this data in dataframe\n",
    "for variable in region_shapes.keys():\n",
    "    csv_df[variable] = region_shapes[variable]"
   ]
  },
  {
   "cell_type": "markdown",
   "metadata": {},
   "source": [
    "extract data frome the file name to produce **system**, **watershed**, **date**, and **pic_id** data"
   ]
  },
  {
   "cell_type": "code",
   "execution_count": 10,
   "metadata": {},
   "outputs": [],
   "source": [
    "# dictionary of filename data\n",
    "filename_data = {\n",
    "    'system': [],\n",
    "    'watershed': [],\n",
    "    'date': [],\n",
    "    'pic_id': [],\n",
    "}\n",
    "\n",
    "# loop through filename string\n",
    "for i in range(len(csv_df['filename'])):\n",
    "    # split contents by underscore\n",
    "    file_items = csv_df['filename'][i].split('_')\n",
    "\n",
    "    # add system column for 'hbwtr'\n",
    "    filename_data['system'].append(file_items[1])\n",
    "    # add watershed olumn, 'w1', 'w2', etc.\n",
    "    filename_data['watershed'].append(file_items[2])\n",
    "    # add date column\n",
    "    filename_data['date'].append(\n",
    "                                # modify integer date to date format, MM/DD/YYYY\n",
    "                                dt.strptime(file_items[3], '%Y%m%d').strftime('%m/%d/%Y')\n",
    "                                )\n",
    "    # add picture id number\n",
    "    filename_data['pic_id'].append(file_items[4])\n",
    "\n",
    "# create columns of this data in dataframe\n",
    "for variable in filename_data.keys():\n",
    "    csv_df[variable] = filename_data[variable]"
   ]
  },
  {
   "cell_type": "markdown",
   "metadata": {},
   "source": [
    "adding calculated variables, for now, **area** and **aspect ratio**"
   ]
  },
  {
   "cell_type": "code",
   "execution_count": 11,
   "metadata": {},
   "outputs": [],
   "source": [
    "# create polygon_area column\n",
    "calculations = {\n",
    "    'area': [],\n",
    "    'aspect_ratio': []\n",
    "}\n",
    "\n",
    "# loop through dataframe\n",
    "for i in range(len(csv_df['filename'])):\n",
    "    # params\n",
    "    height = csv_df['height'][i]\n",
    "    width = csv_df['width'][i]\n",
    "    \n",
    "    # calcs\n",
    "    area =  height * width\n",
    "    aspect_ratio = height/width\n",
    "    \n",
    "    calculations['area'].append(area)\n",
    "    calculations['aspect_ratio'].append(aspect_ratio)\n",
    "    \n",
    "# create columns of this data in dataframe\n",
    "for variable in calculations.keys():\n",
    "    csv_df[variable] = calculations[variable]"
   ]
  },
  {
   "cell_type": "code",
   "execution_count": 12,
   "metadata": {},
   "outputs": [],
   "source": [
    "# make list to reorder columns\n",
    "cols = csv_df.columns.tolist()\n",
    "new_cols = cols[:1] + cols[13:16] + cols[7:13] + cols[16:17] + cols[1:7] + cols[17:]\n",
    "\n",
    "csv_df = csv_df[new_cols]"
   ]
  },
  {
   "cell_type": "markdown",
   "metadata": {},
   "source": [
    "step 2: extract pixel information from x,y,width, height "
   ]
  },
  {
   "cell_type": "code",
   "execution_count": 13,
   "metadata": {},
   "outputs": [],
   "source": [
    "import skimage\n",
    "import skimage.io\n",
    "from skimage.io import imread  # form 3, load only the imread function\n",
    "import matplotlib.pyplot as plt\n",
    "import skimage.draw\n",
    "%matplotlib widget\n"
   ]
  },
  {
   "cell_type": "code",
   "execution_count": 14,
   "metadata": {},
   "outputs": [
    {
     "data": {
      "text/plain": [
       "<matplotlib.image.AxesImage at 0x7fde79baac10>"
      ]
     },
     "execution_count": 14,
     "metadata": {},
     "output_type": "execute_result"
    },
    {
     "data": {
      "application/vnd.jupyter.widget-view+json": {
       "model_id": "da54415508de4f0b9206967654a2ed5d",
       "version_major": 2,
       "version_minor": 0
      },
      "image/png": "[encoded data removed]",
      "text/html": [
       "\n",
       "            <div style=\"display: inline-block;\">\n",
       "                <div class=\"jupyter-widgets widget-label\" style=\"text-align: center;\">\n",
       "                    Figure\n",
       "                </div>\n",
       "                <img src='data:image/png;base64,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' width=640.0/>\n",
       "            </div>\n",
       "        "
      ],
      "text/plain": [
       "Canvas(toolbar=Toolbar(toolitems=[('Home', 'Reset original view', 'home', 'home'), ('Back', 'Back to previous …"
      ]
     },
     "metadata": {},
     "output_type": "display_data"
    }
   ],
   "source": [
    "os.chdir(\"/Users/henrysun_1/Downloads/hbwtr_w3_bottom_1-1-20 thru 3-5-20\")\n",
    "image1 = skimage.io.imread(fname=\"invert_Hbwtr_w3_20200101_120451.jpg\")\n",
    "fig, ax = plt.subplots() \n",
    "plt.imshow(image1)"
   ]
  },
  {
   "cell_type": "markdown",
   "metadata": {},
   "source": [
    "The following code help download and curate the dataframe before adding to MACHINE LEARNING"
   ]
  },
  {
   "cell_type": "markdown",
   "metadata": {},
   "source": [
    "<div class=\"alert alert-info\" role=\"alert\">\n",
    "  This dataframe now contains all original data, and many variables extracted or calculated from the original data contents. The rest of this notebook will manipulate this dataset further to feed it to a random forest model. Before this, the three cells directly below will contain commented code which will download three different versions of the CSV.\n",
    "    <ol>\n",
    "        <li> the full data, original and wrangled </li>\n",
    "        <li> a slimmed dataset, containing all the original information, but with reducded redundancy</li>\n",
    "        <li> a dataset removed of all categorical variables for easy use in the random forest model </li>\n",
    "    </ol>\n",
    "</div>"
   ]
  },
  {
   "cell_type": "code",
   "execution_count": 15,
   "metadata": {},
   "outputs": [],
   "source": [
    "# 1: Download Full Dataframe\n",
    "csv_df.to_csv('camera_data_raw.csv')"
   ]
  },
  {
   "cell_type": "code",
   "execution_count": 16,
   "metadata": {},
   "outputs": [
    {
     "data": {
      "text/html": [
       "<div>\n",
       "<style scoped>\n",
       "    .dataframe tbody tr th:only-of-type {\n",
       "        vertical-align: middle;\n",
       "    }\n",
       "\n",
       "    .dataframe tbody tr th {\n",
       "        vertical-align: top;\n",
       "    }\n",
       "\n",
       "    .dataframe thead th {\n",
       "        text-align: right;\n",
       "    }\n",
       "</style>\n",
       "<table border=\"1\" class=\"dataframe\">\n",
       "  <thead>\n",
       "    <tr style=\"text-align: right;\">\n",
       "      <th></th>\n",
       "      <th>filename</th>\n",
       "      <th>system</th>\n",
       "      <th>watershed</th>\n",
       "      <th>date</th>\n",
       "      <th>class</th>\n",
       "      <th>name</th>\n",
       "      <th>x</th>\n",
       "      <th>y</th>\n",
       "      <th>width</th>\n",
       "      <th>height</th>\n",
       "      <th>pic_id</th>\n",
       "      <th>file_size</th>\n",
       "      <th>file_attributes</th>\n",
       "      <th>region_count</th>\n",
       "      <th>region_id</th>\n",
       "      <th>region_shape_attributes</th>\n",
       "      <th>region_attributes</th>\n",
       "      <th>area</th>\n",
       "      <th>aspect_ratio</th>\n",
       "    </tr>\n",
       "  </thead>\n",
       "  <tbody>\n",
       "    <tr>\n",
       "      <th>0</th>\n",
       "      <td>invert_Hbwtr_w3_20200101_120451.JPG</td>\n",
       "      <td>Hbwtr</td>\n",
       "      <td>w3</td>\n",
       "      <td>01/01/2020</td>\n",
       "      <td>open_water_dark</td>\n",
       "      <td>rect</td>\n",
       "      <td>199</td>\n",
       "      <td>2028</td>\n",
       "      <td>46</td>\n",
       "      <td>41</td>\n",
       "      <td>120451.JPG</td>\n",
       "      <td>180286</td>\n",
       "      <td>{\"attribute\":{}}</td>\n",
       "      <td>20</td>\n",
       "      <td>0</td>\n",
       "      <td>{\"name\":\"rect\",\"x\":199,\"y\":2028,\"width\":46,\"he...</td>\n",
       "      <td>{\"attribute\":{\"open_water_dark\":true}}</td>\n",
       "      <td>1886</td>\n",
       "      <td>0.891304</td>\n",
       "    </tr>\n",
       "    <tr>\n",
       "      <th>1</th>\n",
       "      <td>invert_Hbwtr_w3_20200101_120451.JPG</td>\n",
       "      <td>Hbwtr</td>\n",
       "      <td>w3</td>\n",
       "      <td>01/01/2020</td>\n",
       "      <td>open_water_dark</td>\n",
       "      <td>rect</td>\n",
       "      <td>192</td>\n",
       "      <td>2125</td>\n",
       "      <td>33</td>\n",
       "      <td>27</td>\n",
       "      <td>120451.JPG</td>\n",
       "      <td>180286</td>\n",
       "      <td>{\"attribute\":{}}</td>\n",
       "      <td>20</td>\n",
       "      <td>1</td>\n",
       "      <td>{\"name\":\"rect\",\"x\":192,\"y\":2125,\"width\":33,\"he...</td>\n",
       "      <td>{\"attribute\":{\"open_water_dark\":true}}</td>\n",
       "      <td>891</td>\n",
       "      <td>0.818182</td>\n",
       "    </tr>\n",
       "    <tr>\n",
       "      <th>2</th>\n",
       "      <td>invert_Hbwtr_w3_20200101_120451.JPG</td>\n",
       "      <td>Hbwtr</td>\n",
       "      <td>w3</td>\n",
       "      <td>01/01/2020</td>\n",
       "      <td>open_water_dark</td>\n",
       "      <td>rect</td>\n",
       "      <td>396</td>\n",
       "      <td>2022</td>\n",
       "      <td>38</td>\n",
       "      <td>35</td>\n",
       "      <td>120451.JPG</td>\n",
       "      <td>180286</td>\n",
       "      <td>{\"attribute\":{}}</td>\n",
       "      <td>20</td>\n",
       "      <td>2</td>\n",
       "      <td>{\"name\":\"rect\",\"x\":396,\"y\":2022,\"width\":38,\"he...</td>\n",
       "      <td>{\"attribute\":{\"open_water_dark\":true}}</td>\n",
       "      <td>1330</td>\n",
       "      <td>0.921053</td>\n",
       "    </tr>\n",
       "    <tr>\n",
       "      <th>3</th>\n",
       "      <td>invert_Hbwtr_w3_20200101_120451.JPG</td>\n",
       "      <td>Hbwtr</td>\n",
       "      <td>w3</td>\n",
       "      <td>01/01/2020</td>\n",
       "      <td>open_water_dark</td>\n",
       "      <td>rect</td>\n",
       "      <td>488</td>\n",
       "      <td>2114</td>\n",
       "      <td>45</td>\n",
       "      <td>35</td>\n",
       "      <td>120451.JPG</td>\n",
       "      <td>180286</td>\n",
       "      <td>{\"attribute\":{}}</td>\n",
       "      <td>20</td>\n",
       "      <td>3</td>\n",
       "      <td>{\"name\":\"rect\",\"x\":488,\"y\":2114,\"width\":45,\"he...</td>\n",
       "      <td>{\"attribute\":{\"open_water_dark\":true}}</td>\n",
       "      <td>1575</td>\n",
       "      <td>0.777778</td>\n",
       "    </tr>\n",
       "    <tr>\n",
       "      <th>4</th>\n",
       "      <td>invert_Hbwtr_w3_20200101_120451.JPG</td>\n",
       "      <td>Hbwtr</td>\n",
       "      <td>w3</td>\n",
       "      <td>01/01/2020</td>\n",
       "      <td>open_water_dark</td>\n",
       "      <td>rect</td>\n",
       "      <td>670</td>\n",
       "      <td>2079</td>\n",
       "      <td>43</td>\n",
       "      <td>35</td>\n",
       "      <td>120451.JPG</td>\n",
       "      <td>180286</td>\n",
       "      <td>{\"attribute\":{}}</td>\n",
       "      <td>20</td>\n",
       "      <td>4</td>\n",
       "      <td>{\"name\":\"rect\",\"x\":670,\"y\":2079,\"width\":43,\"he...</td>\n",
       "      <td>{\"attribute\":{\"open_water_dark\":true}}</td>\n",
       "      <td>1505</td>\n",
       "      <td>0.813953</td>\n",
       "    </tr>\n",
       "  </tbody>\n",
       "</table>\n",
       "</div>"
      ],
      "text/plain": [
       "                              filename system watershed        date  \\\n",
       "0  invert_Hbwtr_w3_20200101_120451.JPG  Hbwtr        w3  01/01/2020   \n",
       "1  invert_Hbwtr_w3_20200101_120451.JPG  Hbwtr        w3  01/01/2020   \n",
       "2  invert_Hbwtr_w3_20200101_120451.JPG  Hbwtr        w3  01/01/2020   \n",
       "3  invert_Hbwtr_w3_20200101_120451.JPG  Hbwtr        w3  01/01/2020   \n",
       "4  invert_Hbwtr_w3_20200101_120451.JPG  Hbwtr        w3  01/01/2020   \n",
       "\n",
       "             class  name    x     y  width  height      pic_id  file_size  \\\n",
       "0  open_water_dark  rect  199  2028     46      41  120451.JPG     180286   \n",
       "1  open_water_dark  rect  192  2125     33      27  120451.JPG     180286   \n",
       "2  open_water_dark  rect  396  2022     38      35  120451.JPG     180286   \n",
       "3  open_water_dark  rect  488  2114     45      35  120451.JPG     180286   \n",
       "4  open_water_dark  rect  670  2079     43      35  120451.JPG     180286   \n",
       "\n",
       "    file_attributes  region_count  region_id  \\\n",
       "0  {\"attribute\":{}}            20          0   \n",
       "1  {\"attribute\":{}}            20          1   \n",
       "2  {\"attribute\":{}}            20          2   \n",
       "3  {\"attribute\":{}}            20          3   \n",
       "4  {\"attribute\":{}}            20          4   \n",
       "\n",
       "                             region_shape_attributes  \\\n",
       "0  {\"name\":\"rect\",\"x\":199,\"y\":2028,\"width\":46,\"he...   \n",
       "1  {\"name\":\"rect\",\"x\":192,\"y\":2125,\"width\":33,\"he...   \n",
       "2  {\"name\":\"rect\",\"x\":396,\"y\":2022,\"width\":38,\"he...   \n",
       "3  {\"name\":\"rect\",\"x\":488,\"y\":2114,\"width\":45,\"he...   \n",
       "4  {\"name\":\"rect\",\"x\":670,\"y\":2079,\"width\":43,\"he...   \n",
       "\n",
       "                        region_attributes  area  aspect_ratio  \n",
       "0  {\"attribute\":{\"open_water_dark\":true}}  1886      0.891304  \n",
       "1  {\"attribute\":{\"open_water_dark\":true}}   891      0.818182  \n",
       "2  {\"attribute\":{\"open_water_dark\":true}}  1330      0.921053  \n",
       "3  {\"attribute\":{\"open_water_dark\":true}}  1575      0.777778  \n",
       "4  {\"attribute\":{\"open_water_dark\":true}}  1505      0.813953  "
      ]
     },
     "execution_count": 16,
     "metadata": {},
     "output_type": "execute_result"
    }
   ],
   "source": [
    "csv_df.head()"
   ]
  },
  {
   "cell_type": "code",
   "execution_count": 17,
   "metadata": {},
   "outputs": [
    {
     "data": {
      "text/html": [
       "<div>\n",
       "<style scoped>\n",
       "    .dataframe tbody tr th:only-of-type {\n",
       "        vertical-align: middle;\n",
       "    }\n",
       "\n",
       "    .dataframe tbody tr th {\n",
       "        vertical-align: top;\n",
       "    }\n",
       "\n",
       "    .dataframe thead th {\n",
       "        text-align: right;\n",
       "    }\n",
       "</style>\n",
       "<table border=\"1\" class=\"dataframe\">\n",
       "  <thead>\n",
       "    <tr style=\"text-align: right;\">\n",
       "      <th></th>\n",
       "      <th>filename</th>\n",
       "      <th>x</th>\n",
       "      <th>y</th>\n",
       "      <th>width</th>\n",
       "      <th>height</th>\n",
       "      <th>class</th>\n",
       "    </tr>\n",
       "  </thead>\n",
       "  <tbody>\n",
       "    <tr>\n",
       "      <th>0</th>\n",
       "      <td>invert_Hbwtr_w3_20200101_120451.JPG</td>\n",
       "      <td>199</td>\n",
       "      <td>2028</td>\n",
       "      <td>1</td>\n",
       "      <td>1</td>\n",
       "      <td>open_water_dark</td>\n",
       "    </tr>\n",
       "    <tr>\n",
       "      <th>1</th>\n",
       "      <td>invert_Hbwtr_w3_20200101_120451.JPG</td>\n",
       "      <td>199</td>\n",
       "      <td>2029</td>\n",
       "      <td>1</td>\n",
       "      <td>1</td>\n",
       "      <td>open_water_dark</td>\n",
       "    </tr>\n",
       "    <tr>\n",
       "      <th>2</th>\n",
       "      <td>invert_Hbwtr_w3_20200101_120451.JPG</td>\n",
       "      <td>199</td>\n",
       "      <td>2030</td>\n",
       "      <td>1</td>\n",
       "      <td>1</td>\n",
       "      <td>open_water_dark</td>\n",
       "    </tr>\n",
       "    <tr>\n",
       "      <th>3</th>\n",
       "      <td>invert_Hbwtr_w3_20200101_120451.JPG</td>\n",
       "      <td>199</td>\n",
       "      <td>2031</td>\n",
       "      <td>1</td>\n",
       "      <td>1</td>\n",
       "      <td>open_water_dark</td>\n",
       "    </tr>\n",
       "    <tr>\n",
       "      <th>4</th>\n",
       "      <td>invert_Hbwtr_w3_20200101_120451.JPG</td>\n",
       "      <td>199</td>\n",
       "      <td>2032</td>\n",
       "      <td>1</td>\n",
       "      <td>1</td>\n",
       "      <td>open_water_dark</td>\n",
       "    </tr>\n",
       "  </tbody>\n",
       "</table>\n",
       "</div>"
      ],
      "text/plain": [
       "                              filename    x     y  width  height  \\\n",
       "0  invert_Hbwtr_w3_20200101_120451.JPG  199  2028      1       1   \n",
       "1  invert_Hbwtr_w3_20200101_120451.JPG  199  2029      1       1   \n",
       "2  invert_Hbwtr_w3_20200101_120451.JPG  199  2030      1       1   \n",
       "3  invert_Hbwtr_w3_20200101_120451.JPG  199  2031      1       1   \n",
       "4  invert_Hbwtr_w3_20200101_120451.JPG  199  2032      1       1   \n",
       "\n",
       "             class  \n",
       "0  open_water_dark  \n",
       "1  open_water_dark  \n",
       "2  open_water_dark  \n",
       "3  open_water_dark  \n",
       "4  open_water_dark  "
      ]
     },
     "execution_count": 17,
     "metadata": {},
     "output_type": "execute_result"
    }
   ],
   "source": [
    "# split pixels\n",
    "import itertools\n",
    "from PIL import Image\n",
    "# save new data points to this list\n",
    "li = []\n",
    "\n",
    "for ind, row in csv_df.iterrows():\n",
    "   y_range = (row.y, row.y+row.height)\n",
    "   x_range = (row.x, row.x+row.width)\n",
    "   # print(y_range, x_range)\n",
    "   # calculate the coordinates range in the x and y axis\n",
    "   range_list =  [range(row.x, row.x+row.width), range(row.y,row.y+row.height)]\n",
    "   # set product of x_range and y_range\n",
    "   combination_list = list(itertools.product(*range_list))\n",
    "   width, height = 1,1\n",
    "   for new_x, new_y in combination_list:       \n",
    "      li.append([row[\"filename\"],  new_x, new_y, width, height, row[\"class\"]])\n",
    "      \n",
    "pixels_df = pd.DataFrame(li, columns=['filename', 'x', 'y', 'width', 'height', 'class'])\n",
    "pixels_df.head()"
   ]
  },
  {
   "cell_type": "code",
   "execution_count": 18,
   "metadata": {},
   "outputs": [
    {
     "data": {
      "text/plain": [
       "((1102369, 6), (1506, 19))"
      ]
     },
     "execution_count": 18,
     "metadata": {},
     "output_type": "execute_result"
    }
   ],
   "source": [
    "# shape of new generated dataset\n",
    "pixels_df.shape, csv_df.shape"
   ]
  },
  {
   "cell_type": "code",
   "execution_count": 19,
   "metadata": {},
   "outputs": [],
   "source": [
    "# create image dictionary\n",
    "image_dict = {}\n",
    "def my_func(row):\n",
    "    if row[\"filename\"] in image_dict:\n",
    "        return\n",
    "    path =  \"/Users/henrysun_1/Downloads/hbwtr_w3_bottom_1-1-20 thru 3-5-20/\"+row[\"filename\"]\n",
    "    img= np.asarray(Image.open(path))\n",
    "    image_dict[row[\"filename\"]] = img\n",
    "\n",
    "_ = csv_df.apply(lambda c: my_func(c),axis=1)"
   ]
  },
  {
   "cell_type": "code",
   "execution_count": 20,
   "metadata": {},
   "outputs": [
    {
     "data": {
      "text/html": [
       "<div>\n",
       "<style scoped>\n",
       "    .dataframe tbody tr th:only-of-type {\n",
       "        vertical-align: middle;\n",
       "    }\n",
       "\n",
       "    .dataframe tbody tr th {\n",
       "        vertical-align: top;\n",
       "    }\n",
       "\n",
       "    .dataframe thead th {\n",
       "        text-align: right;\n",
       "    }\n",
       "</style>\n",
       "<table border=\"1\" class=\"dataframe\">\n",
       "  <thead>\n",
       "    <tr style=\"text-align: right;\">\n",
       "      <th></th>\n",
       "      <th>filename</th>\n",
       "      <th>x</th>\n",
       "      <th>y</th>\n",
       "      <th>width</th>\n",
       "      <th>height</th>\n",
       "      <th>class</th>\n",
       "      <th>RGB</th>\n",
       "      <th>R</th>\n",
       "      <th>G</th>\n",
       "      <th>B</th>\n",
       "    </tr>\n",
       "  </thead>\n",
       "  <tbody>\n",
       "    <tr>\n",
       "      <th>0</th>\n",
       "      <td>invert_Hbwtr_w3_20200101_120451.JPG</td>\n",
       "      <td>199</td>\n",
       "      <td>2028</td>\n",
       "      <td>1</td>\n",
       "      <td>1</td>\n",
       "      <td>open_water_dark</td>\n",
       "      <td>[30, 32, 47]</td>\n",
       "      <td>30</td>\n",
       "      <td>32</td>\n",
       "      <td>47</td>\n",
       "    </tr>\n",
       "    <tr>\n",
       "      <th>1</th>\n",
       "      <td>invert_Hbwtr_w3_20200101_120451.JPG</td>\n",
       "      <td>199</td>\n",
       "      <td>2029</td>\n",
       "      <td>1</td>\n",
       "      <td>1</td>\n",
       "      <td>open_water_dark</td>\n",
       "      <td>[20, 22, 37]</td>\n",
       "      <td>20</td>\n",
       "      <td>22</td>\n",
       "      <td>37</td>\n",
       "    </tr>\n",
       "    <tr>\n",
       "      <th>2</th>\n",
       "      <td>invert_Hbwtr_w3_20200101_120451.JPG</td>\n",
       "      <td>199</td>\n",
       "      <td>2030</td>\n",
       "      <td>1</td>\n",
       "      <td>1</td>\n",
       "      <td>open_water_dark</td>\n",
       "      <td>[15, 17, 32]</td>\n",
       "      <td>15</td>\n",
       "      <td>17</td>\n",
       "      <td>32</td>\n",
       "    </tr>\n",
       "    <tr>\n",
       "      <th>3</th>\n",
       "      <td>invert_Hbwtr_w3_20200101_120451.JPG</td>\n",
       "      <td>199</td>\n",
       "      <td>2031</td>\n",
       "      <td>1</td>\n",
       "      <td>1</td>\n",
       "      <td>open_water_dark</td>\n",
       "      <td>[16, 18, 33]</td>\n",
       "      <td>16</td>\n",
       "      <td>18</td>\n",
       "      <td>33</td>\n",
       "    </tr>\n",
       "    <tr>\n",
       "      <th>4</th>\n",
       "      <td>invert_Hbwtr_w3_20200101_120451.JPG</td>\n",
       "      <td>199</td>\n",
       "      <td>2032</td>\n",
       "      <td>1</td>\n",
       "      <td>1</td>\n",
       "      <td>open_water_dark</td>\n",
       "      <td>[18, 21, 30]</td>\n",
       "      <td>18</td>\n",
       "      <td>21</td>\n",
       "      <td>30</td>\n",
       "    </tr>\n",
       "  </tbody>\n",
       "</table>\n",
       "</div>"
      ],
      "text/plain": [
       "                              filename    x     y  width  height  \\\n",
       "0  invert_Hbwtr_w3_20200101_120451.JPG  199  2028      1       1   \n",
       "1  invert_Hbwtr_w3_20200101_120451.JPG  199  2029      1       1   \n",
       "2  invert_Hbwtr_w3_20200101_120451.JPG  199  2030      1       1   \n",
       "3  invert_Hbwtr_w3_20200101_120451.JPG  199  2031      1       1   \n",
       "4  invert_Hbwtr_w3_20200101_120451.JPG  199  2032      1       1   \n",
       "\n",
       "             class           RGB   R   G   B  \n",
       "0  open_water_dark  [30, 32, 47]  30  32  47  \n",
       "1  open_water_dark  [20, 22, 37]  20  22  37  \n",
       "2  open_water_dark  [15, 17, 32]  15  17  32  \n",
       "3  open_water_dark  [16, 18, 33]  16  18  33  \n",
       "4  open_water_dark  [18, 21, 30]  18  21  30  "
      ]
     },
     "execution_count": 20,
     "metadata": {},
     "output_type": "execute_result"
    }
   ],
   "source": [
    "# Assign image pixel values for each row\n",
    "def assign_pixels(row):\n",
    "    return image_dict[row[\"filename\"]][row.y:row.y+1, row.x:row.x+1].flatten()\n",
    "pixels_df[\"RGB\"] = pixels_df.apply(lambda row: assign_pixels(row),axis=1)\n",
    "\n",
    "# create color channels\n",
    "pixels_df[\"R\"] = pixels_df.apply(lambda row: row[\"RGB\"][0],axis=1)\n",
    "pixels_df[\"G\"] = pixels_df.apply(lambda row: row[\"RGB\"][1],axis=1)\n",
    "pixels_df[\"B\"] = pixels_df.apply(lambda row: row[\"RGB\"][2],axis=1)\n",
    "pixels_df.head()"
   ]
  },
  {
   "cell_type": "code",
   "execution_count": 21,
   "metadata": {},
   "outputs": [],
   "source": [
    "# save data set\n",
    "pixels_df.to_csv(\"pixels_df.csv\")"
   ]
  },
  {
   "cell_type": "markdown",
   "metadata": {},
   "source": [
    "<hr>"
   ]
  },
  {
   "cell_type": "markdown",
   "metadata": {},
   "source": [
    "## Model"
   ]
  },
  {
   "cell_type": "code",
   "execution_count": 22,
   "metadata": {},
   "outputs": [
    {
     "name": "stdout",
     "output_type": "stream",
     "text": [
      "(1100873, 6)\n"
     ]
    },
    {
     "data": {
      "text/html": [
       "<div>\n",
       "<style scoped>\n",
       "    .dataframe tbody tr th:only-of-type {\n",
       "        vertical-align: middle;\n",
       "    }\n",
       "\n",
       "    .dataframe tbody tr th {\n",
       "        vertical-align: top;\n",
       "    }\n",
       "\n",
       "    .dataframe thead th {\n",
       "        text-align: right;\n",
       "    }\n",
       "</style>\n",
       "<table border=\"1\" class=\"dataframe\">\n",
       "  <thead>\n",
       "    <tr style=\"text-align: right;\">\n",
       "      <th></th>\n",
       "      <th>x</th>\n",
       "      <th>y</th>\n",
       "      <th>R</th>\n",
       "      <th>G</th>\n",
       "      <th>B</th>\n",
       "      <th>class</th>\n",
       "    </tr>\n",
       "  </thead>\n",
       "  <tbody>\n",
       "    <tr>\n",
       "      <th>0</th>\n",
       "      <td>199</td>\n",
       "      <td>2028</td>\n",
       "      <td>30</td>\n",
       "      <td>32</td>\n",
       "      <td>47</td>\n",
       "      <td>open_water_dark</td>\n",
       "    </tr>\n",
       "    <tr>\n",
       "      <th>1</th>\n",
       "      <td>199</td>\n",
       "      <td>2029</td>\n",
       "      <td>20</td>\n",
       "      <td>22</td>\n",
       "      <td>37</td>\n",
       "      <td>open_water_dark</td>\n",
       "    </tr>\n",
       "    <tr>\n",
       "      <th>2</th>\n",
       "      <td>199</td>\n",
       "      <td>2030</td>\n",
       "      <td>15</td>\n",
       "      <td>17</td>\n",
       "      <td>32</td>\n",
       "      <td>open_water_dark</td>\n",
       "    </tr>\n",
       "    <tr>\n",
       "      <th>3</th>\n",
       "      <td>199</td>\n",
       "      <td>2031</td>\n",
       "      <td>16</td>\n",
       "      <td>18</td>\n",
       "      <td>33</td>\n",
       "      <td>open_water_dark</td>\n",
       "    </tr>\n",
       "    <tr>\n",
       "      <th>4</th>\n",
       "      <td>199</td>\n",
       "      <td>2032</td>\n",
       "      <td>18</td>\n",
       "      <td>21</td>\n",
       "      <td>30</td>\n",
       "      <td>open_water_dark</td>\n",
       "    </tr>\n",
       "  </tbody>\n",
       "</table>\n",
       "</div>"
      ],
      "text/plain": [
       "     x     y   R   G   B            class\n",
       "0  199  2028  30  32  47  open_water_dark\n",
       "1  199  2029  20  22  37  open_water_dark\n",
       "2  199  2030  15  17  32  open_water_dark\n",
       "3  199  2031  16  18  33  open_water_dark\n",
       "4  199  2032  18  21  30  open_water_dark"
      ]
     },
     "execution_count": 22,
     "metadata": {},
     "output_type": "execute_result"
    }
   ],
   "source": [
    "# Random Forest prep dataframe\n",
    "# drop all categorical data (except class, for now)\n",
    "df = pixels_df.drop([\"filename\", \"width\", \"height\"],axis=1)\n",
    "df = df[[\"x\",\"y\",\"R\",\"G\",\"B\", \"class\"]]\n",
    "\n",
    "# drop all None values\n",
    "df = df.fillna(value=np.nan)\n",
    "df = df.dropna()\n",
    "print(df.shape)\n",
    "\n",
    "df.head()"
   ]
  },
  {
   "cell_type": "code",
   "execution_count": 23,
   "metadata": {},
   "outputs": [],
   "source": [
    "# Train test split\n",
    "from sklearn.model_selection import train_test_split\n",
    "X = df.drop('class',axis=1)\n",
    "y = df['class']\n",
    "X_train, X_test, y_train, y_test = train_test_split(X, y, test_size=0.30)"
   ]
  },
  {
   "cell_type": "code",
   "execution_count": 24,
   "metadata": {},
   "outputs": [
    {
     "data": {
      "text/plain": [
       "RandomForestClassifier()"
      ]
     },
     "execution_count": 24,
     "metadata": {},
     "output_type": "execute_result"
    }
   ],
   "source": [
    "# fit model\n",
    "from sklearn.ensemble import RandomForestClassifier\n",
    "from sklearn.metrics import classification_report,confusion_matrix\n",
    "\n",
    "rfc = RandomForestClassifier(n_estimators=100)\n",
    "rfc.fit(X_train, y_train)"
   ]
  },
  {
   "cell_type": "code",
   "execution_count": 39,
   "metadata": {},
   "outputs": [],
   "source": [
    "# predict on test data\n",
    "rfc_pred = rfc.predict(X_test)"
   ]
  },
  {
   "cell_type": "code",
   "execution_count": 40,
   "metadata": {},
   "outputs": [
    {
     "name": "stdout",
     "output_type": "stream",
     "text": [
      "[[ 18943     81      4     10      1     13     10]\n",
      " [    74  37350   1170     60     11     39     21]\n",
      " [    14    654 171270   1915      6      0      2]\n",
      " [     0     36   4798  48714      6      0      0]\n",
      " [     0     24     11      2   3972      3      6]\n",
      " [    16     17      0      0      5  36325      1]\n",
      " [    41     57     16      1      5     18   4540]]\n"
     ]
    }
   ],
   "source": [
    "print(confusion_matrix(y_test,rfc_pred))"
   ]
  },
  {
   "cell_type": "code",
   "execution_count": 41,
   "metadata": {},
   "outputs": [
    {
     "name": "stdout",
     "output_type": "stream",
     "text": [
      "                  precision    recall  f1-score   support\n",
      "\n",
      "           ice_o       0.99      0.99      0.99     19062\n",
      "           ice_t       0.98      0.96      0.97     38725\n",
      " open_water_dark       0.97      0.99      0.98    173861\n",
      "open_water_green       0.96      0.91      0.93     53554\n",
      "          riffle       0.99      0.99      0.99      4018\n",
      "          snow_o       1.00      1.00      1.00     36364\n",
      "          snow_t       0.99      0.97      0.98      4678\n",
      "\n",
      "        accuracy                           0.97    330262\n",
      "       macro avg       0.98      0.97      0.98    330262\n",
      "    weighted avg       0.97      0.97      0.97    330262\n",
      "\n"
     ]
    }
   ],
   "source": [
    "print(classification_report(y_test,rfc_pred))"
   ]
  }
 ],
 "metadata": {
  "interpreter": {
   "hash": "4d6cc325d5f0fb33c868594991a5d7a72a9fb77934e1843bdbf85ac9bec3562e"
  },
  "kernelspec": {
   "display_name": "Python 3.9.12 ('base')",
   "language": "python",
   "name": "python3"
  },
  "language_info": {
   "codemirror_mode": {
    "name": "ipython",
    "version": 3
   },
   "file_extension": ".py",
   "mimetype": "text/x-python",
   "name": "python",
   "nbconvert_exporter": "python",
   "pygments_lexer": "ipython3",
   "version": "3.9.12"
  },
  "vscode": {
   "interpreter": {
    "hash": "a2ab3825ac7005fb7b26f112e9c99ae62f464c629e30b0d534c3b931b6cbc3ff"
   }
  }
 },
 "nbformat": 4,
 "nbformat_minor": 4
}
