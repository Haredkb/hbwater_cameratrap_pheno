{
 "cells": [
  {
   "cell_type": "markdown",
   "metadata": {},
   "source": [
    "# Camera Trap to Random Forests in Python"
   ]
  },
  {
   "cell_type": "code",
   "execution_count": 1,
   "metadata": {},
   "outputs": [],
   "source": [
    "import pandas as pd\n",
    "import numpy as np\n",
    "import seaborn as sns\n",
    "import json\n",
    "from datetime import datetime as dt"
   ]
  },
  {
   "cell_type": "markdown",
   "metadata": {},
   "source": [
    "### CSV"
   ]
  },
  {
   "cell_type": "markdown",
   "metadata": {},
   "source": [
    "Bring in the CSV data. The data is also available in JSON, which may actually be the most intuitive and efficient structure to unpack from in the long run.  "
   ]
  },
  {
   "cell_type": "code",
   "execution_count": 2,
   "metadata": {},
   "outputs": [
    {
     "data": {
      "text/plain": [
       "'c:\\\\Users\\\\Dell\\\\OneDrive - Duke University\\\\Documents\\\\data+ 2022\\\\hbwater_cameratrap_pheno\\\\scripts\\\\sandbox\\\\ML'"
      ]
     },
     "execution_count": 2,
     "metadata": {},
     "output_type": "execute_result"
    }
   ],
   "source": [
    "import os\n",
    "os.getcwd()"
   ]
  },
  {
   "cell_type": "code",
   "execution_count": 3,
   "metadata": {
    "scrolled": true
   },
   "outputs": [],
   "source": [
    "csv_df = pd.read_csv('example_data/hbwater_w3_bottom_1_1_20-3_5_20_csv.csv')\n"
   ]
  },
  {
   "cell_type": "code",
   "execution_count": 4,
   "metadata": {},
   "outputs": [
    {
     "data": {
      "text/html": [
       "<div>\n",
       "<style scoped>\n",
       "    .dataframe tbody tr th:only-of-type {\n",
       "        vertical-align: middle;\n",
       "    }\n",
       "\n",
       "    .dataframe tbody tr th {\n",
       "        vertical-align: top;\n",
       "    }\n",
       "\n",
       "    .dataframe thead th {\n",
       "        text-align: right;\n",
       "    }\n",
       "</style>\n",
       "<table border=\"1\" class=\"dataframe\">\n",
       "  <thead>\n",
       "    <tr style=\"text-align: right;\">\n",
       "      <th></th>\n",
       "      <th>filename</th>\n",
       "      <th>file_size</th>\n",
       "      <th>file_attributes</th>\n",
       "      <th>region_count</th>\n",
       "      <th>region_id</th>\n",
       "      <th>region_shape_attributes</th>\n",
       "      <th>region_attributes</th>\n",
       "    </tr>\n",
       "  </thead>\n",
       "  <tbody>\n",
       "    <tr>\n",
       "      <th>0</th>\n",
       "      <td>invert_Hbwtr_w3_20200101_120451.JPG</td>\n",
       "      <td>180286</td>\n",
       "      <td>{\"attribute\":{}}</td>\n",
       "      <td>20</td>\n",
       "      <td>0</td>\n",
       "      <td>{\"name\":\"rect\",\"x\":199,\"y\":2028,\"width\":46,\"he...</td>\n",
       "      <td>{\"attribute\":{\"open_water_dark\":true}}</td>\n",
       "    </tr>\n",
       "    <tr>\n",
       "      <th>1</th>\n",
       "      <td>invert_Hbwtr_w3_20200101_120451.JPG</td>\n",
       "      <td>180286</td>\n",
       "      <td>{\"attribute\":{}}</td>\n",
       "      <td>20</td>\n",
       "      <td>1</td>\n",
       "      <td>{\"name\":\"rect\",\"x\":192,\"y\":2125,\"width\":33,\"he...</td>\n",
       "      <td>{\"attribute\":{\"open_water_dark\":true}}</td>\n",
       "    </tr>\n",
       "    <tr>\n",
       "      <th>2</th>\n",
       "      <td>invert_Hbwtr_w3_20200101_120451.JPG</td>\n",
       "      <td>180286</td>\n",
       "      <td>{\"attribute\":{}}</td>\n",
       "      <td>20</td>\n",
       "      <td>2</td>\n",
       "      <td>{\"name\":\"rect\",\"x\":396,\"y\":2022,\"width\":38,\"he...</td>\n",
       "      <td>{\"attribute\":{\"open_water_dark\":true}}</td>\n",
       "    </tr>\n",
       "    <tr>\n",
       "      <th>3</th>\n",
       "      <td>invert_Hbwtr_w3_20200101_120451.JPG</td>\n",
       "      <td>180286</td>\n",
       "      <td>{\"attribute\":{}}</td>\n",
       "      <td>20</td>\n",
       "      <td>3</td>\n",
       "      <td>{\"name\":\"rect\",\"x\":488,\"y\":2114,\"width\":45,\"he...</td>\n",
       "      <td>{\"attribute\":{\"open_water_dark\":true}}</td>\n",
       "    </tr>\n",
       "    <tr>\n",
       "      <th>4</th>\n",
       "      <td>invert_Hbwtr_w3_20200101_120451.JPG</td>\n",
       "      <td>180286</td>\n",
       "      <td>{\"attribute\":{}}</td>\n",
       "      <td>20</td>\n",
       "      <td>4</td>\n",
       "      <td>{\"name\":\"rect\",\"x\":670,\"y\":2079,\"width\":43,\"he...</td>\n",
       "      <td>{\"attribute\":{\"open_water_dark\":true}}</td>\n",
       "    </tr>\n",
       "  </tbody>\n",
       "</table>\n",
       "</div>"
      ],
      "text/plain": [
       "                              filename  file_size   file_attributes  \\\n",
       "0  invert_Hbwtr_w3_20200101_120451.JPG     180286  {\"attribute\":{}}   \n",
       "1  invert_Hbwtr_w3_20200101_120451.JPG     180286  {\"attribute\":{}}   \n",
       "2  invert_Hbwtr_w3_20200101_120451.JPG     180286  {\"attribute\":{}}   \n",
       "3  invert_Hbwtr_w3_20200101_120451.JPG     180286  {\"attribute\":{}}   \n",
       "4  invert_Hbwtr_w3_20200101_120451.JPG     180286  {\"attribute\":{}}   \n",
       "\n",
       "   region_count  region_id                            region_shape_attributes  \\\n",
       "0            20          0  {\"name\":\"rect\",\"x\":199,\"y\":2028,\"width\":46,\"he...   \n",
       "1            20          1  {\"name\":\"rect\",\"x\":192,\"y\":2125,\"width\":33,\"he...   \n",
       "2            20          2  {\"name\":\"rect\",\"x\":396,\"y\":2022,\"width\":38,\"he...   \n",
       "3            20          3  {\"name\":\"rect\",\"x\":488,\"y\":2114,\"width\":45,\"he...   \n",
       "4            20          4  {\"name\":\"rect\",\"x\":670,\"y\":2079,\"width\":43,\"he...   \n",
       "\n",
       "                        region_attributes  \n",
       "0  {\"attribute\":{\"open_water_dark\":true}}  \n",
       "1  {\"attribute\":{\"open_water_dark\":true}}  \n",
       "2  {\"attribute\":{\"open_water_dark\":true}}  \n",
       "3  {\"attribute\":{\"open_water_dark\":true}}  \n",
       "4  {\"attribute\":{\"open_water_dark\":true}}  "
      ]
     },
     "execution_count": 4,
     "metadata": {},
     "output_type": "execute_result"
    }
   ],
   "source": [
    "csv_df.head()"
   ]
  },
  {
   "cell_type": "markdown",
   "metadata": {},
   "source": [
    "<hr>"
   ]
  },
  {
   "cell_type": "markdown",
   "metadata": {},
   "source": [
    "### Wrangle the Data"
   ]
  },
  {
   "cell_type": "markdown",
   "metadata": {},
   "source": [
    "unpack 'region_attributes' column data to produce **class** variable"
   ]
  },
  {
   "cell_type": "code",
   "execution_count": 5,
   "metadata": {},
   "outputs": [],
   "source": [
    "# image_class is a list- built to accept the\n",
    "# modified 'region_attribute' data  \n",
    "image_class = []\n",
    "\n",
    "# created by the for loop below\n",
    "for i in range(len(csv_df['region_attributes'])):\n",
    "    \n",
    "    # convert the strings of json data into python dictionaries\n",
    "    json_item = json.loads(csv_df['region_attributes'][i])\n",
    "    \n",
    "    # if data is not empty dictionary\n",
    "    if json_item:\n",
    "        \n",
    "        # extract the name of the key, as a string in a list\n",
    "        image_type = list(json_item['attribute'].keys())\n",
    "        \n",
    "        # if dictionary entry is not empty list\n",
    "        if image_type:\n",
    "            image_type = image_type[0]\n",
    "\n",
    "        # leave None for empty values\n",
    "        else:\n",
    "            image_type = None\n",
    "    else:\n",
    "        image_type = None\n",
    "        \n",
    "    # add value to image_class\n",
    "    image_class.append(image_type)\n",
    "\n",
    "# make image_class a column of our dataframe\n",
    "csv_df['class'] = image_class"
   ]
  },
  {
   "cell_type": "markdown",
   "metadata": {},
   "source": [
    "unpack 'region_shape' column data to produce **name** , **x** coordinate, **y** coordinate, **width** and **height** data"
   ]
  },
  {
   "cell_type": "code",
   "execution_count": 6,
   "metadata": {},
   "outputs": [],
   "source": [
    "# unpack 'region_shape_attributes' into string of desired data\n",
    "# leaving 'None' for empty values\n",
    "\n",
    "# create dictionary to accept region shape data\n",
    "region_shapes = {\n",
    "    'name': [],\n",
    "    'x': [],\n",
    "    'y': [],\n",
    "    'width': [],\n",
    "    'height': [],\n",
    "    }\n",
    "\n",
    "# loop thru region attribute data\n",
    "for i in range(len(csv_df['region_shape_attributes'])):\n",
    "    # convert json strings to python dictionaries\n",
    "    json_item = json.loads(csv_df['region_shape_attributes'][i])\n",
    "    \n",
    "    # loop thru the dictionary keys\n",
    "    for attr in region_shapes.keys():\n",
    "        # if JSON item contains data\n",
    "        if json_item:\n",
    "            # pull data item\n",
    "            region_attr = json_item[attr]\n",
    "            # append to that attribute's list in dictionary\n",
    "            region_shapes[attr].append(region_attr)\n",
    "        else:\n",
    "            # otherwise, append None to appropriate list\n",
    "            region_shapes[attr].append(None)\n",
    "    \n",
    "# create columns of this data in dataframe\n",
    "for variable in region_shapes.keys():\n",
    "    csv_df[variable] = region_shapes[variable]"
   ]
  },
  {
   "cell_type": "markdown",
   "metadata": {},
   "source": [
    "extract data frome the file name to produce **system**, **watershed**, **date**, and **pic_id** data"
   ]
  },
  {
   "cell_type": "code",
   "execution_count": 7,
   "metadata": {},
   "outputs": [],
   "source": [
    "# dictionary of filename data\n",
    "filename_data = {\n",
    "    'system': [],\n",
    "    'watershed': [],\n",
    "    'date': [],\n",
    "    'pic_id': [],\n",
    "}\n",
    "\n",
    "# loop through filename string\n",
    "for i in range(len(csv_df['filename'])):\n",
    "    # split contents by underscore\n",
    "    file_items = csv_df['filename'][i].split('_')\n",
    "\n",
    "    # add system column for 'hbwtr'\n",
    "    filename_data['system'].append(file_items[1])\n",
    "    # add watershed olumn, 'w1', 'w2', etc.\n",
    "    filename_data['watershed'].append(file_items[2])\n",
    "    # add date column\n",
    "    filename_data['date'].append(\n",
    "                                # modify integer date to date format, MM/DD/YYYY\n",
    "                                dt.strptime(file_items[3], '%Y%m%d').strftime('%m/%d/%Y')\n",
    "                                )\n",
    "    # add picture id number\n",
    "    filename_data['pic_id'].append(file_items[4])\n",
    "\n",
    "# create columns of this data in dataframe\n",
    "for variable in filename_data.keys():\n",
    "    csv_df[variable] = filename_data[variable]"
   ]
  },
  {
   "cell_type": "markdown",
   "metadata": {},
   "source": [
    "adding calculated variables, for now, **area** and **aspect ratio**"
   ]
  },
  {
   "cell_type": "code",
   "execution_count": 8,
   "metadata": {},
   "outputs": [],
   "source": [
    "# create polygon_area column\n",
    "calculations = {\n",
    "    'area': [],\n",
    "    'aspect_ratio': []\n",
    "}\n",
    "\n",
    "# loop through dataframe\n",
    "for i in range(len(csv_df['filename'])):\n",
    "    # params\n",
    "    height = csv_df['height'][i]\n",
    "    width = csv_df['width'][i]\n",
    "    \n",
    "    # calcs\n",
    "    area =  height * width\n",
    "    aspect_ratio = height/width\n",
    "    \n",
    "    calculations['area'].append(area)\n",
    "    calculations['aspect_ratio'].append(aspect_ratio)\n",
    "    \n",
    "# create columns of this data in dataframe\n",
    "for variable in calculations.keys():\n",
    "    csv_df[variable] = calculations[variable]"
   ]
  },
  {
   "cell_type": "code",
   "execution_count": 9,
   "metadata": {},
   "outputs": [],
   "source": [
    "# make list to reorder columns\n",
    "cols = csv_df.columns.tolist()\n",
    "new_cols = cols[:1] + cols[13:16] + cols[7:13] + cols[16:17] + cols[1:7] + cols[17:]\n",
    "\n",
    "csv_df = csv_df[new_cols]"
   ]
  },
  {
   "cell_type": "markdown",
   "metadata": {},
   "source": [
    "step 2: extract pixel information from x,y,width, height "
   ]
  },
  {
   "cell_type": "code",
   "execution_count": 10,
   "metadata": {},
   "outputs": [],
   "source": [
    "import skimage\n",
    "import skimage.io\n",
    "from skimage.io import imread  # form 3, load only the imread function\n",
    "import matplotlib.pyplot as plt\n",
    "import skimage.draw\n",
    "%matplotlib widget\n"
   ]
  },
  {
   "cell_type": "code",
   "execution_count": 11,
   "metadata": {},
   "outputs": [
    {
     "data": {
      "text/plain": [
       "<matplotlib.image.AxesImage at 0x2acae4ea970>"
      ]
     },
     "execution_count": 11,
     "metadata": {},
     "output_type": "execute_result"
    },
    {
     "data": {
      "application/vnd.jupyter.widget-view+json": {
       "model_id": "3cfe508c686d4700acbe3b403f74e3bb",
       "version_major": 2,
       "version_minor": 0
      },
      "image/png": "[encoded data removed]",
      "text/html": [
       "\n",
       "            <div style=\"display: inline-block;\">\n",
       "                <div class=\"jupyter-widgets widget-label\" style=\"text-align: center;\">\n",
       "                    Figure\n",
       "                </div>\n",
       "                <img src='data:image/png;base64,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' width=640.0/>\n",
       "            </div>\n",
       "        "
      ],
      "text/plain": [
       "Canvas(toolbar=Toolbar(toolitems=[('Home', 'Reset original view', 'home', 'home'), ('Back', 'Back to previous …"
      ]
     },
     "metadata": {},
     "output_type": "display_data"
    }
   ],
   "source": [
    "image1 = skimage.io.imread(fname=\"example_data/invert_Hbwtr_w3_20200101_120451.jpg\")\n",
    "fig, ax = plt.subplots() \n",
    "plt.imshow(image1)"
   ]
  },
  {
   "cell_type": "markdown",
   "metadata": {},
   "source": [
    "The following code help download and curate the dataframe before adding to MACHINE LEARNING"
   ]
  },
  {
   "cell_type": "markdown",
   "metadata": {},
   "source": [
    "<div class=\"alert alert-info\" role=\"alert\">\n",
    "  This dataframe now contains all original data, and many variables extracted or calculated from the original data contents. The rest of this notebook will manipulate this dataset further to feed it to a random forest model. Before this, the three cells directly below will contain commented code which will download three different versions of the CSV.\n",
    "    <ol>\n",
    "        <li> the full data, original and wrangled </li>\n",
    "        <li> a slimmed dataset, containing all the original information, but with reducded redundancy</li>\n",
    "        <li> a dataset removed of all categorical variables for easy use in the random forest model </li>\n",
    "    </ol>\n",
    "</div>"
   ]
  },
  {
   "cell_type": "code",
   "execution_count": 12,
   "metadata": {},
   "outputs": [],
   "source": [
    "# 1: Download Full Dataframe\n",
    "csv_df.to_csv('camera_data_raw.csv')"
   ]
  },
  {
   "cell_type": "code",
   "execution_count": 13,
   "metadata": {},
   "outputs": [
    {
     "data": {
      "text/html": [
       "<div>\n",
       "<style scoped>\n",
       "    .dataframe tbody tr th:only-of-type {\n",
       "        vertical-align: middle;\n",
       "    }\n",
       "\n",
       "    .dataframe tbody tr th {\n",
       "        vertical-align: top;\n",
       "    }\n",
       "\n",
       "    .dataframe thead th {\n",
       "        text-align: right;\n",
       "    }\n",
       "</style>\n",
       "<table border=\"1\" class=\"dataframe\">\n",
       "  <thead>\n",
       "    <tr style=\"text-align: right;\">\n",
       "      <th></th>\n",
       "      <th>filename</th>\n",
       "      <th>system</th>\n",
       "      <th>watershed</th>\n",
       "      <th>date</th>\n",
       "      <th>class</th>\n",
       "      <th>name</th>\n",
       "      <th>x</th>\n",
       "      <th>y</th>\n",
       "      <th>width</th>\n",
       "      <th>height</th>\n",
       "      <th>pic_id</th>\n",
       "      <th>file_size</th>\n",
       "      <th>file_attributes</th>\n",
       "      <th>region_count</th>\n",
       "      <th>region_id</th>\n",
       "      <th>region_shape_attributes</th>\n",
       "      <th>region_attributes</th>\n",
       "      <th>area</th>\n",
       "      <th>aspect_ratio</th>\n",
       "    </tr>\n",
       "  </thead>\n",
       "  <tbody>\n",
       "    <tr>\n",
       "      <th>0</th>\n",
       "      <td>invert_Hbwtr_w3_20200101_120451.JPG</td>\n",
       "      <td>Hbwtr</td>\n",
       "      <td>w3</td>\n",
       "      <td>01/01/2020</td>\n",
       "      <td>open_water_dark</td>\n",
       "      <td>rect</td>\n",
       "      <td>199</td>\n",
       "      <td>2028</td>\n",
       "      <td>46</td>\n",
       "      <td>41</td>\n",
       "      <td>120451.JPG</td>\n",
       "      <td>180286</td>\n",
       "      <td>{\"attribute\":{}}</td>\n",
       "      <td>20</td>\n",
       "      <td>0</td>\n",
       "      <td>{\"name\":\"rect\",\"x\":199,\"y\":2028,\"width\":46,\"he...</td>\n",
       "      <td>{\"attribute\":{\"open_water_dark\":true}}</td>\n",
       "      <td>1886</td>\n",
       "      <td>0.891304</td>\n",
       "    </tr>\n",
       "    <tr>\n",
       "      <th>1</th>\n",
       "      <td>invert_Hbwtr_w3_20200101_120451.JPG</td>\n",
       "      <td>Hbwtr</td>\n",
       "      <td>w3</td>\n",
       "      <td>01/01/2020</td>\n",
       "      <td>open_water_dark</td>\n",
       "      <td>rect</td>\n",
       "      <td>192</td>\n",
       "      <td>2125</td>\n",
       "      <td>33</td>\n",
       "      <td>27</td>\n",
       "      <td>120451.JPG</td>\n",
       "      <td>180286</td>\n",
       "      <td>{\"attribute\":{}}</td>\n",
       "      <td>20</td>\n",
       "      <td>1</td>\n",
       "      <td>{\"name\":\"rect\",\"x\":192,\"y\":2125,\"width\":33,\"he...</td>\n",
       "      <td>{\"attribute\":{\"open_water_dark\":true}}</td>\n",
       "      <td>891</td>\n",
       "      <td>0.818182</td>\n",
       "    </tr>\n",
       "    <tr>\n",
       "      <th>2</th>\n",
       "      <td>invert_Hbwtr_w3_20200101_120451.JPG</td>\n",
       "      <td>Hbwtr</td>\n",
       "      <td>w3</td>\n",
       "      <td>01/01/2020</td>\n",
       "      <td>open_water_dark</td>\n",
       "      <td>rect</td>\n",
       "      <td>396</td>\n",
       "      <td>2022</td>\n",
       "      <td>38</td>\n",
       "      <td>35</td>\n",
       "      <td>120451.JPG</td>\n",
       "      <td>180286</td>\n",
       "      <td>{\"attribute\":{}}</td>\n",
       "      <td>20</td>\n",
       "      <td>2</td>\n",
       "      <td>{\"name\":\"rect\",\"x\":396,\"y\":2022,\"width\":38,\"he...</td>\n",
       "      <td>{\"attribute\":{\"open_water_dark\":true}}</td>\n",
       "      <td>1330</td>\n",
       "      <td>0.921053</td>\n",
       "    </tr>\n",
       "    <tr>\n",
       "      <th>3</th>\n",
       "      <td>invert_Hbwtr_w3_20200101_120451.JPG</td>\n",
       "      <td>Hbwtr</td>\n",
       "      <td>w3</td>\n",
       "      <td>01/01/2020</td>\n",
       "      <td>open_water_dark</td>\n",
       "      <td>rect</td>\n",
       "      <td>488</td>\n",
       "      <td>2114</td>\n",
       "      <td>45</td>\n",
       "      <td>35</td>\n",
       "      <td>120451.JPG</td>\n",
       "      <td>180286</td>\n",
       "      <td>{\"attribute\":{}}</td>\n",
       "      <td>20</td>\n",
       "      <td>3</td>\n",
       "      <td>{\"name\":\"rect\",\"x\":488,\"y\":2114,\"width\":45,\"he...</td>\n",
       "      <td>{\"attribute\":{\"open_water_dark\":true}}</td>\n",
       "      <td>1575</td>\n",
       "      <td>0.777778</td>\n",
       "    </tr>\n",
       "    <tr>\n",
       "      <th>4</th>\n",
       "      <td>invert_Hbwtr_w3_20200101_120451.JPG</td>\n",
       "      <td>Hbwtr</td>\n",
       "      <td>w3</td>\n",
       "      <td>01/01/2020</td>\n",
       "      <td>open_water_dark</td>\n",
       "      <td>rect</td>\n",
       "      <td>670</td>\n",
       "      <td>2079</td>\n",
       "      <td>43</td>\n",
       "      <td>35</td>\n",
       "      <td>120451.JPG</td>\n",
       "      <td>180286</td>\n",
       "      <td>{\"attribute\":{}}</td>\n",
       "      <td>20</td>\n",
       "      <td>4</td>\n",
       "      <td>{\"name\":\"rect\",\"x\":670,\"y\":2079,\"width\":43,\"he...</td>\n",
       "      <td>{\"attribute\":{\"open_water_dark\":true}}</td>\n",
       "      <td>1505</td>\n",
       "      <td>0.813953</td>\n",
       "    </tr>\n",
       "  </tbody>\n",
       "</table>\n",
       "</div>"
      ],
      "text/plain": [
       "                              filename system watershed        date  \\\n",
       "0  invert_Hbwtr_w3_20200101_120451.JPG  Hbwtr        w3  01/01/2020   \n",
       "1  invert_Hbwtr_w3_20200101_120451.JPG  Hbwtr        w3  01/01/2020   \n",
       "2  invert_Hbwtr_w3_20200101_120451.JPG  Hbwtr        w3  01/01/2020   \n",
       "3  invert_Hbwtr_w3_20200101_120451.JPG  Hbwtr        w3  01/01/2020   \n",
       "4  invert_Hbwtr_w3_20200101_120451.JPG  Hbwtr        w3  01/01/2020   \n",
       "\n",
       "             class  name    x     y  width  height      pic_id  file_size  \\\n",
       "0  open_water_dark  rect  199  2028     46      41  120451.JPG     180286   \n",
       "1  open_water_dark  rect  192  2125     33      27  120451.JPG     180286   \n",
       "2  open_water_dark  rect  396  2022     38      35  120451.JPG     180286   \n",
       "3  open_water_dark  rect  488  2114     45      35  120451.JPG     180286   \n",
       "4  open_water_dark  rect  670  2079     43      35  120451.JPG     180286   \n",
       "\n",
       "    file_attributes  region_count  region_id  \\\n",
       "0  {\"attribute\":{}}            20          0   \n",
       "1  {\"attribute\":{}}            20          1   \n",
       "2  {\"attribute\":{}}            20          2   \n",
       "3  {\"attribute\":{}}            20          3   \n",
       "4  {\"attribute\":{}}            20          4   \n",
       "\n",
       "                             region_shape_attributes  \\\n",
       "0  {\"name\":\"rect\",\"x\":199,\"y\":2028,\"width\":46,\"he...   \n",
       "1  {\"name\":\"rect\",\"x\":192,\"y\":2125,\"width\":33,\"he...   \n",
       "2  {\"name\":\"rect\",\"x\":396,\"y\":2022,\"width\":38,\"he...   \n",
       "3  {\"name\":\"rect\",\"x\":488,\"y\":2114,\"width\":45,\"he...   \n",
       "4  {\"name\":\"rect\",\"x\":670,\"y\":2079,\"width\":43,\"he...   \n",
       "\n",
       "                        region_attributes  area  aspect_ratio  \n",
       "0  {\"attribute\":{\"open_water_dark\":true}}  1886      0.891304  \n",
       "1  {\"attribute\":{\"open_water_dark\":true}}   891      0.818182  \n",
       "2  {\"attribute\":{\"open_water_dark\":true}}  1330      0.921053  \n",
       "3  {\"attribute\":{\"open_water_dark\":true}}  1575      0.777778  \n",
       "4  {\"attribute\":{\"open_water_dark\":true}}  1505      0.813953  "
      ]
     },
     "execution_count": 13,
     "metadata": {},
     "output_type": "execute_result"
    }
   ],
   "source": [
    "csv_df.head()"
   ]
  },
  {
   "cell_type": "code",
   "execution_count": 14,
   "metadata": {},
   "outputs": [
    {
     "data": {
      "text/html": [
       "<div>\n",
       "<style scoped>\n",
       "    .dataframe tbody tr th:only-of-type {\n",
       "        vertical-align: middle;\n",
       "    }\n",
       "\n",
       "    .dataframe tbody tr th {\n",
       "        vertical-align: top;\n",
       "    }\n",
       "\n",
       "    .dataframe thead th {\n",
       "        text-align: right;\n",
       "    }\n",
       "</style>\n",
       "<table border=\"1\" class=\"dataframe\">\n",
       "  <thead>\n",
       "    <tr style=\"text-align: right;\">\n",
       "      <th></th>\n",
       "      <th>filename</th>\n",
       "      <th>x</th>\n",
       "      <th>y</th>\n",
       "      <th>width</th>\n",
       "      <th>height</th>\n",
       "      <th>class</th>\n",
       "    </tr>\n",
       "  </thead>\n",
       "  <tbody>\n",
       "    <tr>\n",
       "      <th>0</th>\n",
       "      <td>invert_Hbwtr_w3_20200101_120451.JPG</td>\n",
       "      <td>199</td>\n",
       "      <td>2028</td>\n",
       "      <td>1</td>\n",
       "      <td>1</td>\n",
       "      <td>open_water_dark</td>\n",
       "    </tr>\n",
       "    <tr>\n",
       "      <th>1</th>\n",
       "      <td>invert_Hbwtr_w3_20200101_120451.JPG</td>\n",
       "      <td>199</td>\n",
       "      <td>2029</td>\n",
       "      <td>1</td>\n",
       "      <td>1</td>\n",
       "      <td>open_water_dark</td>\n",
       "    </tr>\n",
       "    <tr>\n",
       "      <th>2</th>\n",
       "      <td>invert_Hbwtr_w3_20200101_120451.JPG</td>\n",
       "      <td>199</td>\n",
       "      <td>2030</td>\n",
       "      <td>1</td>\n",
       "      <td>1</td>\n",
       "      <td>open_water_dark</td>\n",
       "    </tr>\n",
       "    <tr>\n",
       "      <th>3</th>\n",
       "      <td>invert_Hbwtr_w3_20200101_120451.JPG</td>\n",
       "      <td>199</td>\n",
       "      <td>2031</td>\n",
       "      <td>1</td>\n",
       "      <td>1</td>\n",
       "      <td>open_water_dark</td>\n",
       "    </tr>\n",
       "    <tr>\n",
       "      <th>4</th>\n",
       "      <td>invert_Hbwtr_w3_20200101_120451.JPG</td>\n",
       "      <td>199</td>\n",
       "      <td>2032</td>\n",
       "      <td>1</td>\n",
       "      <td>1</td>\n",
       "      <td>open_water_dark</td>\n",
       "    </tr>\n",
       "  </tbody>\n",
       "</table>\n",
       "</div>"
      ],
      "text/plain": [
       "                              filename    x     y  width  height  \\\n",
       "0  invert_Hbwtr_w3_20200101_120451.JPG  199  2028      1       1   \n",
       "1  invert_Hbwtr_w3_20200101_120451.JPG  199  2029      1       1   \n",
       "2  invert_Hbwtr_w3_20200101_120451.JPG  199  2030      1       1   \n",
       "3  invert_Hbwtr_w3_20200101_120451.JPG  199  2031      1       1   \n",
       "4  invert_Hbwtr_w3_20200101_120451.JPG  199  2032      1       1   \n",
       "\n",
       "             class  \n",
       "0  open_water_dark  \n",
       "1  open_water_dark  \n",
       "2  open_water_dark  \n",
       "3  open_water_dark  \n",
       "4  open_water_dark  "
      ]
     },
     "execution_count": 14,
     "metadata": {},
     "output_type": "execute_result"
    }
   ],
   "source": [
    "# split pixels\n",
    "import itertools\n",
    "from PIL import Image\n",
    "# save new data points to this list\n",
    "li = []\n",
    "\n",
    "for ind, row in csv_df.iterrows():\n",
    "   y_range = (row.y, row.y+row.height)\n",
    "   x_range = (row.x, row.x+row.width)\n",
    "   # print(y_range, x_range)\n",
    "   # calculate the coordinates range in the x and y axis\n",
    "   range_list =  [range(row.x, row.x+row.width), range(row.y,row.y+row.height)]\n",
    "   # set product of x_range and y_range\n",
    "   combination_list = list(itertools.product(*range_list))\n",
    "   width, height = 1,1\n",
    "   for new_x, new_y in combination_list:       \n",
    "      li.append([row[\"filename\"],  new_x, new_y, width, height, row[\"class\"]])\n",
    "      \n",
    "pixels_df = pd.DataFrame(li, columns=['filename', 'x', 'y', 'width', 'height', 'class'])\n",
    "pixels_df.head()"
   ]
  },
  {
   "cell_type": "code",
   "execution_count": 15,
   "metadata": {},
   "outputs": [
    {
     "data": {
      "text/plain": [
       "((1102369, 6), (1506, 19))"
      ]
     },
     "execution_count": 15,
     "metadata": {},
     "output_type": "execute_result"
    }
   ],
   "source": [
    "# shape of new generated dataset\n",
    "pixels_df.shape, csv_df.shape"
   ]
  },
  {
   "cell_type": "code",
   "execution_count": 16,
   "metadata": {},
   "outputs": [],
   "source": [
    "# create image dictionary\n",
    "image_dict = {}\n",
    "def my_func(row):\n",
    "    if row[\"filename\"] in image_dict:\n",
    "        return\n",
    "    path =  \"example_data/\"+row[\"filename\"]\n",
    "    img= np.asarray(Image.open(path))\n",
    "    image_dict[row[\"filename\"]] = img\n",
    "\n",
    "_ = csv_df.apply(lambda c: my_func(c),axis=1)"
   ]
  },
  {
   "cell_type": "code",
   "execution_count": 17,
   "metadata": {},
   "outputs": [
    {
     "data": {
      "text/html": [
       "<div>\n",
       "<style scoped>\n",
       "    .dataframe tbody tr th:only-of-type {\n",
       "        vertical-align: middle;\n",
       "    }\n",
       "\n",
       "    .dataframe tbody tr th {\n",
       "        vertical-align: top;\n",
       "    }\n",
       "\n",
       "    .dataframe thead th {\n",
       "        text-align: right;\n",
       "    }\n",
       "</style>\n",
       "<table border=\"1\" class=\"dataframe\">\n",
       "  <thead>\n",
       "    <tr style=\"text-align: right;\">\n",
       "      <th></th>\n",
       "      <th>filename</th>\n",
       "      <th>x</th>\n",
       "      <th>y</th>\n",
       "      <th>width</th>\n",
       "      <th>height</th>\n",
       "      <th>class</th>\n",
       "      <th>RGB</th>\n",
       "      <th>R</th>\n",
       "      <th>G</th>\n",
       "      <th>B</th>\n",
       "    </tr>\n",
       "  </thead>\n",
       "  <tbody>\n",
       "    <tr>\n",
       "      <th>0</th>\n",
       "      <td>invert_Hbwtr_w3_20200101_120451.JPG</td>\n",
       "      <td>199</td>\n",
       "      <td>2028</td>\n",
       "      <td>1</td>\n",
       "      <td>1</td>\n",
       "      <td>open_water_dark</td>\n",
       "      <td>[30, 32, 47]</td>\n",
       "      <td>30</td>\n",
       "      <td>32</td>\n",
       "      <td>47</td>\n",
       "    </tr>\n",
       "    <tr>\n",
       "      <th>1</th>\n",
       "      <td>invert_Hbwtr_w3_20200101_120451.JPG</td>\n",
       "      <td>199</td>\n",
       "      <td>2029</td>\n",
       "      <td>1</td>\n",
       "      <td>1</td>\n",
       "      <td>open_water_dark</td>\n",
       "      <td>[20, 22, 37]</td>\n",
       "      <td>20</td>\n",
       "      <td>22</td>\n",
       "      <td>37</td>\n",
       "    </tr>\n",
       "    <tr>\n",
       "      <th>2</th>\n",
       "      <td>invert_Hbwtr_w3_20200101_120451.JPG</td>\n",
       "      <td>199</td>\n",
       "      <td>2030</td>\n",
       "      <td>1</td>\n",
       "      <td>1</td>\n",
       "      <td>open_water_dark</td>\n",
       "      <td>[15, 17, 32]</td>\n",
       "      <td>15</td>\n",
       "      <td>17</td>\n",
       "      <td>32</td>\n",
       "    </tr>\n",
       "    <tr>\n",
       "      <th>3</th>\n",
       "      <td>invert_Hbwtr_w3_20200101_120451.JPG</td>\n",
       "      <td>199</td>\n",
       "      <td>2031</td>\n",
       "      <td>1</td>\n",
       "      <td>1</td>\n",
       "      <td>open_water_dark</td>\n",
       "      <td>[16, 18, 33]</td>\n",
       "      <td>16</td>\n",
       "      <td>18</td>\n",
       "      <td>33</td>\n",
       "    </tr>\n",
       "    <tr>\n",
       "      <th>4</th>\n",
       "      <td>invert_Hbwtr_w3_20200101_120451.JPG</td>\n",
       "      <td>199</td>\n",
       "      <td>2032</td>\n",
       "      <td>1</td>\n",
       "      <td>1</td>\n",
       "      <td>open_water_dark</td>\n",
       "      <td>[18, 21, 30]</td>\n",
       "      <td>18</td>\n",
       "      <td>21</td>\n",
       "      <td>30</td>\n",
       "    </tr>\n",
       "  </tbody>\n",
       "</table>\n",
       "</div>"
      ],
      "text/plain": [
       "                              filename    x     y  width  height  \\\n",
       "0  invert_Hbwtr_w3_20200101_120451.JPG  199  2028      1       1   \n",
       "1  invert_Hbwtr_w3_20200101_120451.JPG  199  2029      1       1   \n",
       "2  invert_Hbwtr_w3_20200101_120451.JPG  199  2030      1       1   \n",
       "3  invert_Hbwtr_w3_20200101_120451.JPG  199  2031      1       1   \n",
       "4  invert_Hbwtr_w3_20200101_120451.JPG  199  2032      1       1   \n",
       "\n",
       "             class           RGB   R   G   B  \n",
       "0  open_water_dark  [30, 32, 47]  30  32  47  \n",
       "1  open_water_dark  [20, 22, 37]  20  22  37  \n",
       "2  open_water_dark  [15, 17, 32]  15  17  32  \n",
       "3  open_water_dark  [16, 18, 33]  16  18  33  \n",
       "4  open_water_dark  [18, 21, 30]  18  21  30  "
      ]
     },
     "execution_count": 17,
     "metadata": {},
     "output_type": "execute_result"
    }
   ],
   "source": [
    "# Assign image pixel values for each row\n",
    "def assign_pixels(row):\n",
    "    return image_dict[row[\"filename\"]][row.y:row.y+1, row.x:row.x+1].flatten()\n",
    "pixels_df[\"RGB\"] = pixels_df.apply(lambda row: assign_pixels(row),axis=1)\n",
    "\n",
    "# create color channels\n",
    "pixels_df[\"R\"] = pixels_df.apply(lambda row: row[\"RGB\"][0],axis=1)\n",
    "pixels_df[\"G\"] = pixels_df.apply(lambda row: row[\"RGB\"][1],axis=1)\n",
    "pixels_df[\"B\"] = pixels_df.apply(lambda row: row[\"RGB\"][2],axis=1)\n",
    "pixels_df.head()"
   ]
  },
  {
   "cell_type": "code",
   "execution_count": 18,
   "metadata": {},
   "outputs": [],
   "source": [
    "# save data set\n",
    "pixels_df.to_csv(\"pixels_df.csv\")"
   ]
  },
  {
   "cell_type": "markdown",
   "metadata": {},
   "source": [
    "<hr>"
   ]
  },
  {
   "cell_type": "markdown",
   "metadata": {},
   "source": [
    "## Model"
   ]
  },
  {
   "cell_type": "code",
   "execution_count": 19,
   "metadata": {},
   "outputs": [
    {
     "name": "stdout",
     "output_type": "stream",
     "text": [
      "(1100873, 6)\n"
     ]
    },
    {
     "data": {
      "text/html": [
       "<div>\n",
       "<style scoped>\n",
       "    .dataframe tbody tr th:only-of-type {\n",
       "        vertical-align: middle;\n",
       "    }\n",
       "\n",
       "    .dataframe tbody tr th {\n",
       "        vertical-align: top;\n",
       "    }\n",
       "\n",
       "    .dataframe thead th {\n",
       "        text-align: right;\n",
       "    }\n",
       "</style>\n",
       "<table border=\"1\" class=\"dataframe\">\n",
       "  <thead>\n",
       "    <tr style=\"text-align: right;\">\n",
       "      <th></th>\n",
       "      <th>x</th>\n",
       "      <th>y</th>\n",
       "      <th>R</th>\n",
       "      <th>G</th>\n",
       "      <th>B</th>\n",
       "      <th>class</th>\n",
       "    </tr>\n",
       "  </thead>\n",
       "  <tbody>\n",
       "    <tr>\n",
       "      <th>0</th>\n",
       "      <td>199</td>\n",
       "      <td>2028</td>\n",
       "      <td>30</td>\n",
       "      <td>32</td>\n",
       "      <td>47</td>\n",
       "      <td>open_water_dark</td>\n",
       "    </tr>\n",
       "    <tr>\n",
       "      <th>1</th>\n",
       "      <td>199</td>\n",
       "      <td>2029</td>\n",
       "      <td>20</td>\n",
       "      <td>22</td>\n",
       "      <td>37</td>\n",
       "      <td>open_water_dark</td>\n",
       "    </tr>\n",
       "    <tr>\n",
       "      <th>2</th>\n",
       "      <td>199</td>\n",
       "      <td>2030</td>\n",
       "      <td>15</td>\n",
       "      <td>17</td>\n",
       "      <td>32</td>\n",
       "      <td>open_water_dark</td>\n",
       "    </tr>\n",
       "    <tr>\n",
       "      <th>3</th>\n",
       "      <td>199</td>\n",
       "      <td>2031</td>\n",
       "      <td>16</td>\n",
       "      <td>18</td>\n",
       "      <td>33</td>\n",
       "      <td>open_water_dark</td>\n",
       "    </tr>\n",
       "    <tr>\n",
       "      <th>4</th>\n",
       "      <td>199</td>\n",
       "      <td>2032</td>\n",
       "      <td>18</td>\n",
       "      <td>21</td>\n",
       "      <td>30</td>\n",
       "      <td>open_water_dark</td>\n",
       "    </tr>\n",
       "  </tbody>\n",
       "</table>\n",
       "</div>"
      ],
      "text/plain": [
       "     x     y   R   G   B            class\n",
       "0  199  2028  30  32  47  open_water_dark\n",
       "1  199  2029  20  22  37  open_water_dark\n",
       "2  199  2030  15  17  32  open_water_dark\n",
       "3  199  2031  16  18  33  open_water_dark\n",
       "4  199  2032  18  21  30  open_water_dark"
      ]
     },
     "execution_count": 19,
     "metadata": {},
     "output_type": "execute_result"
    }
   ],
   "source": [
    "# Random Forest prep dataframe\n",
    "# drop all categorical data (except class, for now)\n",
    "df = pixels_df.drop([\"filename\", \"width\", \"height\"],axis=1)\n",
    "df = df[[\"x\",\"y\",\"R\",\"G\",\"B\", \"class\"]]\n",
    "\n",
    "# drop all None values\n",
    "df = df.fillna(value=np.nan)\n",
    "df = df.dropna()\n",
    "print(df.shape)\n",
    "\n",
    "df.head()"
   ]
  },
  {
   "cell_type": "code",
   "execution_count": 20,
   "metadata": {},
   "outputs": [],
   "source": [
    "# Train test split\n",
    "from sklearn.model_selection import train_test_split\n",
    "X = df.drop('class',axis=1)\n",
    "y = df['class']\n",
    "X_train, X_test, y_train, y_test = train_test_split(X, y, test_size=0.30)"
   ]
  },
  {
   "cell_type": "code",
   "execution_count": 21,
   "metadata": {},
   "outputs": [
    {
     "data": {
      "text/plain": [
       "RandomForestClassifier()"
      ]
     },
     "execution_count": 21,
     "metadata": {},
     "output_type": "execute_result"
    }
   ],
   "source": [
    "# fit model\n",
    "from sklearn.ensemble import RandomForestClassifier\n",
    "from sklearn.metrics import classification_report,confusion_matrix\n",
    "\n",
    "rfc = RandomForestClassifier(n_estimators=100)\n",
    "rfc.fit(X_train, y_train)"
   ]
  },
  {
   "cell_type": "code",
   "execution_count": 22,
   "metadata": {},
   "outputs": [],
   "source": [
    "# predict on test data\n",
    "rfc_pred = rfc.predict(X_test)"
   ]
  },
  {
   "cell_type": "code",
   "execution_count": 23,
   "metadata": {},
   "outputs": [
    {
     "name": "stdout",
     "output_type": "stream",
     "text": [
      "[[ 19098     61     10     12      2     15     14]\n",
      " [    66  37517   1217     66     11     23     26]\n",
      " [    12    626 170999   1910      4      0      0]\n",
      " [     1     47   4742  48676      4      0      2]\n",
      " [     0     24     12      3   3856      0      1]\n",
      " [    20     11      0      0      9  36504      1]\n",
      " [    40     41     31      3      9     16   4520]]\n"
     ]
    }
   ],
   "source": [
    "print(confusion_matrix(y_test,rfc_pred))"
   ]
  },
  {
   "cell_type": "code",
   "execution_count": 24,
   "metadata": {},
   "outputs": [
    {
     "name": "stdout",
     "output_type": "stream",
     "text": [
      "                  precision    recall  f1-score   support\n",
      "\n",
      "           ice_o       0.99      0.99      0.99     19212\n",
      "           ice_t       0.98      0.96      0.97     38926\n",
      " open_water_dark       0.97      0.99      0.98    173551\n",
      "open_water_green       0.96      0.91      0.93     53472\n",
      "          riffle       0.99      0.99      0.99      3896\n",
      "          snow_o       1.00      1.00      1.00     36545\n",
      "          snow_t       0.99      0.97      0.98      4660\n",
      "\n",
      "        accuracy                           0.97    330262\n",
      "       macro avg       0.98      0.97      0.98    330262\n",
      "    weighted avg       0.97      0.97      0.97    330262\n",
      "\n"
     ]
    }
   ],
   "source": [
    "print(classification_report(y_test,rfc_pred))"
   ]
  }
 ],
 "metadata": {
  "kernelspec": {
   "display_name": "Python 3 (ipykernel)",
   "language": "python",
   "name": "python3"
  },
  "language_info": {
   "codemirror_mode": {
    "name": "ipython",
    "version": 3
   },
   "file_extension": ".py",
   "mimetype": "text/x-python",
   "name": "python",
   "nbconvert_exporter": "python",
   "pygments_lexer": "ipython3",
   "version": "3.8.13"
  },
  "vscode": {
   "interpreter": {
    "hash": "a2ab3825ac7005fb7b26f112e9c99ae62f464c629e30b0d534c3b931b6cbc3ff"
   }
  }
 },
 "nbformat": 4,
 "nbformat_minor": 4
}
