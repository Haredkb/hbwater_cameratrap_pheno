{
 "cells": [
  {
   "cell_type": "code",
   "execution_count": 9,
   "metadata": {},
   "outputs": [
    {
     "name": "stdout",
     "output_type": "stream",
     "text": [
      "Requirement already satisfied: tesseract in c:\\users\\hecon\\lib\\site-packages (0.1.3)\n",
      "Collecting tesseract-ocr\n",
      "  Using cached tesseract-ocr-0.0.1.tar.gz (33 kB)\n",
      "  Preparing metadata (setup.py): started\n",
      "  Preparing metadata (setup.py): finished with status 'done'\n",
      "Requirement already satisfied: cython in c:\\users\\hecon\\lib\\site-packages (from tesseract-ocr) (0.29.30)\n",
      "Using legacy 'setup.py install' for tesseract-ocr, since package 'wheel' is not installed.\n",
      "Installing collected packages: tesseract-ocr\n",
      "  Running setup.py install for tesseract-ocr: started\n",
      "  Running setup.py install for tesseract-ocr: finished with status 'error'\n"
     ]
    },
    {
     "name": "stderr",
     "output_type": "stream",
     "text": [
      "  error: subprocess-exited-with-error\n",
      "  \n",
      "  × Running setup.py install for tesseract-ocr did not run successfully.\n",
      "  │ exit code: 1\n",
      "  ╰─> [16 lines of output]\n",
      "      C:\\Users\\hecon\\lib\\site-packages\\setuptools\\dist.py:717: UserWarning: Usage of dash-separated 'description-file' will not be supported in future versions. Please use the underscore name 'description_file' instead\n",
      "        warnings.warn(\n",
      "      running install\n",
      "      running build\n",
      "      running build_py\n",
      "      file tesseract_ocr.py (for module tesseract_ocr) not found\n",
      "      file tesseract_ocr.py (for module tesseract_ocr) not found\n",
      "      running build_ext\n",
      "      building 'tesseract_ocr' extension\n",
      "      creating build\n",
      "      creating build\\temp.win-amd64-3.10\n",
      "      creating build\\temp.win-amd64-3.10\\Release\n",
      "      C:\\Program Files (x86)\\Microsoft Visual Studio\\2022\\BuildTools\\VC\\Tools\\MSVC\\14.32.31326\\bin\\HostX86\\x64\\cl.exe /c /nologo /Ox /W3 /GL /DNDEBUG /MD -IC:\\Users\\hecon\\include -IC:\\Users\\hecon\\Include -IC:\\Program Files (x86)\\Microsoft Visual Studio\\2022\\BuildTools\\VC\\Tools\\MSVC\\14.32.31326\\include -IC:\\Program Files (x86)\\Windows Kits\\10\\include\\10.0.19041.0\\ucrt -IC:\\Program Files (x86)\\Windows Kits\\10\\\\include\\10.0.19041.0\\\\shared -IC:\\Program Files (x86)\\Windows Kits\\10\\\\include\\10.0.19041.0\\\\um -IC:\\Program Files (x86)\\Windows Kits\\10\\\\include\\10.0.19041.0\\\\winrt -IC:\\Program Files (x86)\\Windows Kits\\10\\\\include\\10.0.19041.0\\\\cppwinrt /EHsc /Tptesseract_ocr.cpp /Fobuild\\temp.win-amd64-3.10\\Release\\tesseract_ocr.obj\n",
      "      tesseract_ocr.cpp\n",
      "      tesseract_ocr.cpp(731): fatal error C1083: Cannot open include file: 'leptonica/allheaders.h': No such file or directory\n",
      "      error: command 'C:\\\\Program Files (x86)\\\\Microsoft Visual Studio\\\\2022\\\\BuildTools\\\\VC\\\\Tools\\\\MSVC\\\\14.32.31326\\\\bin\\\\HostX86\\\\x64\\\\cl.exe' failed with exit code 2\n",
      "      [end of output]\n",
      "  \n",
      "  note: This error originates from a subprocess, and is likely not a problem with pip.\n",
      "error: legacy-install-failure\n",
      "\n",
      "× Encountered error while trying to install package.\n",
      "╰─> tesseract-ocr\n",
      "\n",
      "note: This is an issue with the package mentioned above, not pip.\n",
      "hint: See above for output from the failure.\n",
      "ERROR: Could not find a version that satisfies the requirement libtesseract-dev (from versions: none)\n",
      "ERROR: No matching distribution found for libtesseract-dev\n"
     ]
    },
    {
     "name": "stdout",
     "output_type": "stream",
     "text": [
      "Requirement already satisfied: pytesseract in c:\\users\\hecon\\lib\\site-packages (0.3.9)\n",
      "Requirement already satisfied: Pillow>=8.0.0 in c:\\users\\hecon\\lib\\site-packages (from pytesseract) (9.2.0)\n",
      "Requirement already satisfied: packaging>=21.3 in c:\\users\\hecon\\lib\\site-packages (from pytesseract) (21.3)\n",
      "Requirement already satisfied: pyparsing!=3.0.5,>=2.0.2 in c:\\users\\hecon\\lib\\site-packages (from packaging>=21.3->pytesseract) (3.0.9)\n"
     ]
    }
   ],
   "source": [
    "! pip install tesseract\n",
    "! pip install tesseract-ocr\n",
    "! pip install libtesseract-dev\n",
    "! pip install pytesseract"
   ]
  },
  {
   "cell_type": "code",
   "execution_count": 10,
   "metadata": {},
   "outputs": [],
   "source": [
    "#import packages\n",
    "import pytesseract\n",
    "#Set tesseract location\n",
    "pytesseract.pytesseract.tesseract_cmd = r'C:\\Users\\hecon\\Documents\\New Folder (2)\\Tesseract-OCR\\tesseract.exe'\n",
    "\n",
    "import cv2\n",
    "import numpy as np\n",
    "import pandas as pd\n",
    "import re"
   ]
  },
  {
   "cell_type": "code",
   "execution_count": 11,
   "metadata": {},
   "outputs": [],
   "source": [
    "def extract_temperature(pic_address):\n",
    "    '''\n",
    "    Extract temperature from picture file.\n",
    "\n",
    "    From the middle of each picture file, the time stamp is read as image using cv2. It is then converted to a string.\n",
    "    text which is then checked for format and subsequently returned through temp_format.\n",
    "\n",
    "    Parameters\n",
    "    ----------\n",
    "    pic_address : full source address of current picture file.\n",
    "    Returns\n",
    "    -------\n",
    "    match_temp_format.group(0) : unaltered temperature from bottom of the photo as a string.\n",
    "    '''\n",
    "    # print(pic_\n",
    "\n",
    "    img = cv2.imread(pic_address) #read as an image\n",
    "\n",
    "    # check if the timestamp is the correct format\n",
    "    temp_pattern = \"\\d\\d\\F+(\\d)?\\d+(\\d)?\\C\" # eg 12-12-2020 11:59:32   37F3C\n",
    "\n",
    "    loop = 1\n",
    "    size_extension=0\n",
    "    x,y,z = np.shape(img)\n",
    "    x = (x//1000)*1000\n",
    "    y = (y//1000)*1000\n",
    "    # print(x,y,z)\n",
    "    while loop>0:\n",
    "      ts = img[1176 - size_extension:, 2000-size_extension:, :] #(change if sizing conventions change!)\n",
    "      text = pytesseract.image_to_string(ts)\n",
    "      temp_format = re.search(temp_pattern,text)\n",
    "      if temp_format:\n",
    "        # found temperature, return\n",
    "        break\n",
    "      ts_2 = img[x - size_extension:, x-size_extension:, :] #(change if sizing conventions change!)\n",
    "      text_2= pytesseract.image_to_string(ts_2)\n",
    "      temp_format = re.search(temp_pattern,text_2)\n",
    "      if temp_format:\n",
    "        # found temperature, return\n",
    "        break\n",
    "      size_extension+=100\n",
    "      loop-=1\n",
    "\n",
    "    if loop ==0:      \n",
    "      # reached end of loop without finding correct timestamp\n",
    "      print(\"Correct temperature not found\")\n",
    "\n",
    "    else:\n",
    "      return match_temp_format.group(0)\n"
   ]
  },
  {
   "cell_type": "code",
   "execution_count": 12,
   "metadata": {},
   "outputs": [
    {
     "ename": "TesseractNotFoundError",
     "evalue": "C:\\Users\\hecon\\Documents\\New Folder (2)\\Tesseract-OCR\\tesseract.exe is not installed or it's not in your PATH. See README file for more information.",
     "output_type": "error",
     "traceback": [
      "\u001b[1;31m---------------------------------------------------------------------------\u001b[0m",
      "\u001b[1;31mFileNotFoundError\u001b[0m                         Traceback (most recent call last)",
      "File \u001b[1;32mc:\\Users\\hecon\\lib\\site-packages\\pytesseract\\pytesseract.py:254\u001b[0m, in \u001b[0;36mrun_tesseract\u001b[1;34m(input_filename, output_filename_base, extension, lang, config, nice, timeout)\u001b[0m\n\u001b[0;32m    253\u001b[0m \u001b[39mtry\u001b[39;00m:\n\u001b[1;32m--> 254\u001b[0m     proc \u001b[39m=\u001b[39m subprocess\u001b[39m.\u001b[39mPopen(cmd_args, \u001b[39m*\u001b[39m\u001b[39m*\u001b[39msubprocess_args())\n\u001b[0;32m    255\u001b[0m \u001b[39mexcept\u001b[39;00m \u001b[39mOSError\u001b[39;00m \u001b[39mas\u001b[39;00m e:\n",
      "File \u001b[1;32mc:\\Users\\hecon\\lib\\subprocess.py:969\u001b[0m, in \u001b[0;36mPopen.__init__\u001b[1;34m(self, args, bufsize, executable, stdin, stdout, stderr, preexec_fn, close_fds, shell, cwd, env, universal_newlines, startupinfo, creationflags, restore_signals, start_new_session, pass_fds, user, group, extra_groups, encoding, errors, text, umask, pipesize)\u001b[0m\n\u001b[0;32m    966\u001b[0m             \u001b[39mself\u001b[39m\u001b[39m.\u001b[39mstderr \u001b[39m=\u001b[39m io\u001b[39m.\u001b[39mTextIOWrapper(\u001b[39mself\u001b[39m\u001b[39m.\u001b[39mstderr,\n\u001b[0;32m    967\u001b[0m                     encoding\u001b[39m=\u001b[39mencoding, errors\u001b[39m=\u001b[39merrors)\n\u001b[1;32m--> 969\u001b[0m     \u001b[39mself\u001b[39;49m\u001b[39m.\u001b[39;49m_execute_child(args, executable, preexec_fn, close_fds,\n\u001b[0;32m    970\u001b[0m                         pass_fds, cwd, env,\n\u001b[0;32m    971\u001b[0m                         startupinfo, creationflags, shell,\n\u001b[0;32m    972\u001b[0m                         p2cread, p2cwrite,\n\u001b[0;32m    973\u001b[0m                         c2pread, c2pwrite,\n\u001b[0;32m    974\u001b[0m                         errread, errwrite,\n\u001b[0;32m    975\u001b[0m                         restore_signals,\n\u001b[0;32m    976\u001b[0m                         gid, gids, uid, umask,\n\u001b[0;32m    977\u001b[0m                         start_new_session)\n\u001b[0;32m    978\u001b[0m \u001b[39mexcept\u001b[39;00m:\n\u001b[0;32m    979\u001b[0m     \u001b[39m# Cleanup if the child failed starting.\u001b[39;00m\n",
      "File \u001b[1;32mc:\\Users\\hecon\\lib\\subprocess.py:1438\u001b[0m, in \u001b[0;36mPopen._execute_child\u001b[1;34m(self, args, executable, preexec_fn, close_fds, pass_fds, cwd, env, startupinfo, creationflags, shell, p2cread, p2cwrite, c2pread, c2pwrite, errread, errwrite, unused_restore_signals, unused_gid, unused_gids, unused_uid, unused_umask, unused_start_new_session)\u001b[0m\n\u001b[0;32m   1437\u001b[0m \u001b[39mtry\u001b[39;00m:\n\u001b[1;32m-> 1438\u001b[0m     hp, ht, pid, tid \u001b[39m=\u001b[39m _winapi\u001b[39m.\u001b[39;49mCreateProcess(executable, args,\n\u001b[0;32m   1439\u001b[0m                              \u001b[39m# no special security\u001b[39;49;00m\n\u001b[0;32m   1440\u001b[0m                              \u001b[39mNone\u001b[39;49;00m, \u001b[39mNone\u001b[39;49;00m,\n\u001b[0;32m   1441\u001b[0m                              \u001b[39mint\u001b[39;49m(\u001b[39mnot\u001b[39;49;00m close_fds),\n\u001b[0;32m   1442\u001b[0m                              creationflags,\n\u001b[0;32m   1443\u001b[0m                              env,\n\u001b[0;32m   1444\u001b[0m                              cwd,\n\u001b[0;32m   1445\u001b[0m                              startupinfo)\n\u001b[0;32m   1446\u001b[0m \u001b[39mfinally\u001b[39;00m:\n\u001b[0;32m   1447\u001b[0m     \u001b[39m# Child is launched. Close the parent's copy of those pipe\u001b[39;00m\n\u001b[0;32m   1448\u001b[0m     \u001b[39m# handles that only the child should have open.  You need\u001b[39;00m\n\u001b[1;32m   (...)\u001b[0m\n\u001b[0;32m   1451\u001b[0m     \u001b[39m# pipe will not close when the child process exits and the\u001b[39;00m\n\u001b[0;32m   1452\u001b[0m     \u001b[39m# ReadFile will hang.\u001b[39;00m\n",
      "\u001b[1;31mFileNotFoundError\u001b[0m: [WinError 2] The system cannot find the file specified",
      "\nDuring handling of the above exception, another exception occurred:\n",
      "\u001b[1;31mTesseractNotFoundError\u001b[0m                    Traceback (most recent call last)",
      "\u001b[1;32mc:\\Users\\hecon\\ML_stage\\hbwater_cameratrap_pheno\\scripts\\01 Renaming Script\\Exract_Temp_Script.ipynb Cell 4'\u001b[0m in \u001b[0;36m<cell line: 11>\u001b[1;34m()\u001b[0m\n\u001b[0;32m     <a href='vscode-notebook-cell:/c%3A/Users/hecon/ML_stage/hbwater_cameratrap_pheno/scripts/01%20Renaming%20Script/Exract_Temp_Script.ipynb#ch0000003?line=9'>10</a>\u001b[0m temp_list \u001b[39m=\u001b[39m []\n\u001b[0;32m     <a href='vscode-notebook-cell:/c%3A/Users/hecon/ML_stage/hbwater_cameratrap_pheno/scripts/01%20Renaming%20Script/Exract_Temp_Script.ipynb#ch0000003?line=10'>11</a>\u001b[0m \u001b[39mfor\u001b[39;00m image \u001b[39min\u001b[39;00m folder_list:\n\u001b[1;32m---> <a href='vscode-notebook-cell:/c%3A/Users/hecon/ML_stage/hbwater_cameratrap_pheno/scripts/01%20Renaming%20Script/Exract_Temp_Script.ipynb#ch0000003?line=11'>12</a>\u001b[0m     temp_list\u001b[39m.\u001b[39mappend(extract_temperature(image))\n\u001b[0;32m     <a href='vscode-notebook-cell:/c%3A/Users/hecon/ML_stage/hbwater_cameratrap_pheno/scripts/01%20Renaming%20Script/Exract_Temp_Script.ipynb#ch0000003?line=12'>13</a>\u001b[0m folder_list\n",
      "\u001b[1;32mc:\\Users\\hecon\\ML_stage\\hbwater_cameratrap_pheno\\scripts\\01 Renaming Script\\Exract_Temp_Script.ipynb Cell 3'\u001b[0m in \u001b[0;36mextract_temperature\u001b[1;34m(pic_address)\u001b[0m\n\u001b[0;32m     <a href='vscode-notebook-cell:/c%3A/Users/hecon/ML_stage/hbwater_cameratrap_pheno/scripts/01%20Renaming%20Script/Exract_Temp_Script.ipynb#ch0000002?line=27'>28</a>\u001b[0m \u001b[39mwhile\u001b[39;00m loop\u001b[39m>\u001b[39m\u001b[39m0\u001b[39m:\n\u001b[0;32m     <a href='vscode-notebook-cell:/c%3A/Users/hecon/ML_stage/hbwater_cameratrap_pheno/scripts/01%20Renaming%20Script/Exract_Temp_Script.ipynb#ch0000002?line=28'>29</a>\u001b[0m   ts \u001b[39m=\u001b[39m img[\u001b[39m1176\u001b[39m \u001b[39m-\u001b[39m size_extension:, \u001b[39m2000\u001b[39m\u001b[39m-\u001b[39msize_extension:, :] \u001b[39m#(change if sizing conventions change!)\u001b[39;00m\n\u001b[1;32m---> <a href='vscode-notebook-cell:/c%3A/Users/hecon/ML_stage/hbwater_cameratrap_pheno/scripts/01%20Renaming%20Script/Exract_Temp_Script.ipynb#ch0000002?line=29'>30</a>\u001b[0m   text \u001b[39m=\u001b[39m pytesseract\u001b[39m.\u001b[39;49mimage_to_string(ts)\n\u001b[0;32m     <a href='vscode-notebook-cell:/c%3A/Users/hecon/ML_stage/hbwater_cameratrap_pheno/scripts/01%20Renaming%20Script/Exract_Temp_Script.ipynb#ch0000002?line=30'>31</a>\u001b[0m   temp_format \u001b[39m=\u001b[39m re\u001b[39m.\u001b[39msearch(temp_pattern,text)\n\u001b[0;32m     <a href='vscode-notebook-cell:/c%3A/Users/hecon/ML_stage/hbwater_cameratrap_pheno/scripts/01%20Renaming%20Script/Exract_Temp_Script.ipynb#ch0000002?line=31'>32</a>\u001b[0m   \u001b[39mif\u001b[39;00m temp_format:\n\u001b[0;32m     <a href='vscode-notebook-cell:/c%3A/Users/hecon/ML_stage/hbwater_cameratrap_pheno/scripts/01%20Renaming%20Script/Exract_Temp_Script.ipynb#ch0000002?line=32'>33</a>\u001b[0m     \u001b[39m# found temperature, return\u001b[39;00m\n",
      "File \u001b[1;32mc:\\Users\\hecon\\lib\\site-packages\\pytesseract\\pytesseract.py:416\u001b[0m, in \u001b[0;36mimage_to_string\u001b[1;34m(image, lang, config, nice, output_type, timeout)\u001b[0m\n\u001b[0;32m    411\u001b[0m \u001b[39m\"\"\"\u001b[39;00m\n\u001b[0;32m    412\u001b[0m \u001b[39mReturns the result of a Tesseract OCR run on the provided image to string\u001b[39;00m\n\u001b[0;32m    413\u001b[0m \u001b[39m\"\"\"\u001b[39;00m\n\u001b[0;32m    414\u001b[0m args \u001b[39m=\u001b[39m [image, \u001b[39m'\u001b[39m\u001b[39mtxt\u001b[39m\u001b[39m'\u001b[39m, lang, config, nice, timeout]\n\u001b[1;32m--> 416\u001b[0m \u001b[39mreturn\u001b[39;00m {\n\u001b[0;32m    417\u001b[0m     Output\u001b[39m.\u001b[39;49mBYTES: \u001b[39mlambda\u001b[39;49;00m: run_and_get_output(\u001b[39m*\u001b[39;49m(args \u001b[39m+\u001b[39;49m [\u001b[39mTrue\u001b[39;49;00m])),\n\u001b[0;32m    418\u001b[0m     Output\u001b[39m.\u001b[39;49mDICT: \u001b[39mlambda\u001b[39;49;00m: {\u001b[39m'\u001b[39;49m\u001b[39mtext\u001b[39;49m\u001b[39m'\u001b[39;49m: run_and_get_output(\u001b[39m*\u001b[39;49margs)},\n\u001b[0;32m    419\u001b[0m     Output\u001b[39m.\u001b[39;49mSTRING: \u001b[39mlambda\u001b[39;49;00m: run_and_get_output(\u001b[39m*\u001b[39;49margs),\n\u001b[0;32m    420\u001b[0m }[output_type]()\n",
      "File \u001b[1;32mc:\\Users\\hecon\\lib\\site-packages\\pytesseract\\pytesseract.py:419\u001b[0m, in \u001b[0;36mimage_to_string.<locals>.<lambda>\u001b[1;34m()\u001b[0m\n\u001b[0;32m    411\u001b[0m \u001b[39m\"\"\"\u001b[39;00m\n\u001b[0;32m    412\u001b[0m \u001b[39mReturns the result of a Tesseract OCR run on the provided image to string\u001b[39;00m\n\u001b[0;32m    413\u001b[0m \u001b[39m\"\"\"\u001b[39;00m\n\u001b[0;32m    414\u001b[0m args \u001b[39m=\u001b[39m [image, \u001b[39m'\u001b[39m\u001b[39mtxt\u001b[39m\u001b[39m'\u001b[39m, lang, config, nice, timeout]\n\u001b[0;32m    416\u001b[0m \u001b[39mreturn\u001b[39;00m {\n\u001b[0;32m    417\u001b[0m     Output\u001b[39m.\u001b[39mBYTES: \u001b[39mlambda\u001b[39;00m: run_and_get_output(\u001b[39m*\u001b[39m(args \u001b[39m+\u001b[39m [\u001b[39mTrue\u001b[39;00m])),\n\u001b[0;32m    418\u001b[0m     Output\u001b[39m.\u001b[39mDICT: \u001b[39mlambda\u001b[39;00m: {\u001b[39m'\u001b[39m\u001b[39mtext\u001b[39m\u001b[39m'\u001b[39m: run_and_get_output(\u001b[39m*\u001b[39margs)},\n\u001b[1;32m--> 419\u001b[0m     Output\u001b[39m.\u001b[39mSTRING: \u001b[39mlambda\u001b[39;00m: run_and_get_output(\u001b[39m*\u001b[39;49margs),\n\u001b[0;32m    420\u001b[0m }[output_type]()\n",
      "File \u001b[1;32mc:\\Users\\hecon\\lib\\site-packages\\pytesseract\\pytesseract.py:286\u001b[0m, in \u001b[0;36mrun_and_get_output\u001b[1;34m(image, extension, lang, config, nice, timeout, return_bytes)\u001b[0m\n\u001b[0;32m    275\u001b[0m \u001b[39mwith\u001b[39;00m save(image) \u001b[39mas\u001b[39;00m (temp_name, input_filename):\n\u001b[0;32m    276\u001b[0m     kwargs \u001b[39m=\u001b[39m {\n\u001b[0;32m    277\u001b[0m         \u001b[39m'\u001b[39m\u001b[39minput_filename\u001b[39m\u001b[39m'\u001b[39m: input_filename,\n\u001b[0;32m    278\u001b[0m         \u001b[39m'\u001b[39m\u001b[39moutput_filename_base\u001b[39m\u001b[39m'\u001b[39m: temp_name,\n\u001b[1;32m   (...)\u001b[0m\n\u001b[0;32m    283\u001b[0m         \u001b[39m'\u001b[39m\u001b[39mtimeout\u001b[39m\u001b[39m'\u001b[39m: timeout,\n\u001b[0;32m    284\u001b[0m     }\n\u001b[1;32m--> 286\u001b[0m     run_tesseract(\u001b[39m*\u001b[39m\u001b[39m*\u001b[39mkwargs)\n\u001b[0;32m    287\u001b[0m     filename \u001b[39m=\u001b[39m kwargs[\u001b[39m'\u001b[39m\u001b[39moutput_filename_base\u001b[39m\u001b[39m'\u001b[39m] \u001b[39m+\u001b[39m extsep \u001b[39m+\u001b[39m extension\n\u001b[0;32m    288\u001b[0m     \u001b[39mwith\u001b[39;00m \u001b[39mopen\u001b[39m(filename, \u001b[39m'\u001b[39m\u001b[39mrb\u001b[39m\u001b[39m'\u001b[39m) \u001b[39mas\u001b[39;00m output_file:\n",
      "File \u001b[1;32mc:\\Users\\hecon\\lib\\site-packages\\pytesseract\\pytesseract.py:258\u001b[0m, in \u001b[0;36mrun_tesseract\u001b[1;34m(input_filename, output_filename_base, extension, lang, config, nice, timeout)\u001b[0m\n\u001b[0;32m    256\u001b[0m     \u001b[39mif\u001b[39;00m e\u001b[39m.\u001b[39merrno \u001b[39m!=\u001b[39m ENOENT:\n\u001b[0;32m    257\u001b[0m         \u001b[39mraise\u001b[39;00m e\n\u001b[1;32m--> 258\u001b[0m     \u001b[39mraise\u001b[39;00m TesseractNotFoundError()\n\u001b[0;32m    260\u001b[0m \u001b[39mwith\u001b[39;00m timeout_manager(proc, timeout) \u001b[39mas\u001b[39;00m error_string:\n\u001b[0;32m    261\u001b[0m     \u001b[39mif\u001b[39;00m proc\u001b[39m.\u001b[39mreturncode:\n",
      "\u001b[1;31mTesseractNotFoundError\u001b[0m: C:\\Users\\hecon\\Documents\\New Folder (2)\\Tesseract-OCR\\tesseract.exe is not installed or it's not in your PATH. See README file for more information."
     ]
    }
   ],
   "source": [
    "# MAIN\n",
    "\n",
    "from glob import glob\n",
    "\n",
    "#collect all folder paths from newly uploaded data on folder\n",
    "folder_list = glob(r\"C:\\Users\\hecon\\Downloads\\W3_1-1-20 thru 3-5-20\\W3 GC Channel 1-1-20 thru 3-5-20/*.JPG\", recursive = True)\n",
    "# extract folder_name \n",
    "i = 0\n",
    "file_df = pd.read_csv(r\"C:\\Users\\hecon\\ML_stage\\hbwater_cameratrap_pheno\\scripts\\sandbox\\ML\\example_data\\hbwater_w3_bottom_1_1_20-3_5_20_csv.csv\")\n",
    "temp_list = []\n",
    "for image in folder_list:\n",
    "    temp_list.append(extract_temperature(image))\n",
    "folder_list\n",
    "\n",
    "\n"
   ]
  }
 ],
 "metadata": {
  "kernelspec": {
   "display_name": "Python 3.10.5 64-bit",
   "language": "python",
   "name": "python3"
  },
  "language_info": {
   "codemirror_mode": {
    "name": "ipython",
    "version": 3
   },
   "file_extension": ".py",
   "mimetype": "text/x-python",
   "name": "python",
   "nbconvert_exporter": "python",
   "pygments_lexer": "ipython3",
   "version": "3.10.5"
  },
  "orig_nbformat": 4,
  "vscode": {
   "interpreter": {
    "hash": "4defc799f3799d5092fbd9e6719296554c424b72c3dcca37fd71d5dafe2405ae"
   }
  }
 },
 "nbformat": 4,
 "nbformat_minor": 2
}
